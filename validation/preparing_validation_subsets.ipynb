{
 "cells": [
  {
   "cell_type": "markdown",
   "id": "187b42a9-d6bc-4caa-b5c7-8b0ff8d21faf",
   "metadata": {},
   "source": [
    "# Make a validation dataset with equal observations from west vs east"
   ]
  },
  {
   "cell_type": "code",
   "execution_count": 1,
   "id": "e990b20a-38e6-4761-98d2-d80480221fe0",
   "metadata": {},
   "outputs": [],
   "source": [
    "import shutil\n",
    "import numpy as np\n",
    "import pandas as pd\n",
    "import os"
   ]
  },
  {
   "cell_type": "code",
   "execution_count": 2,
   "id": "aa55c721-e7f6-4844-829c-5a5369f50ad0",
   "metadata": {},
   "outputs": [
    {
     "data": {
      "text/html": [
       "<div>\n",
       "<style scoped>\n",
       "    .dataframe tbody tr th:only-of-type {\n",
       "        vertical-align: middle;\n",
       "    }\n",
       "\n",
       "    .dataframe tbody tr th {\n",
       "        vertical-align: top;\n",
       "    }\n",
       "\n",
       "    .dataframe thead th {\n",
       "        text-align: right;\n",
       "    }\n",
       "</style>\n",
       "<table border=\"1\" class=\"dataframe\">\n",
       "  <thead>\n",
       "    <tr style=\"text-align: right;\">\n",
       "      <th></th>\n",
       "      <th>image_idxs</th>\n",
       "      <th>hex_colors</th>\n",
       "      <th>gbifID</th>\n",
       "      <th>latitude</th>\n",
       "      <th>longitude</th>\n",
       "    </tr>\n",
       "  </thead>\n",
       "  <tbody>\n",
       "    <tr>\n",
       "      <th>0</th>\n",
       "      <td>0</td>\n",
       "      <td>#e5ccef</td>\n",
       "      <td>923911394</td>\n",
       "      <td>48.826305</td>\n",
       "      <td>-102.092171</td>\n",
       "    </tr>\n",
       "    <tr>\n",
       "      <th>1</th>\n",
       "      <td>2</td>\n",
       "      <td>#dbbddb</td>\n",
       "      <td>923910407</td>\n",
       "      <td>43.613086</td>\n",
       "      <td>-73.057076</td>\n",
       "    </tr>\n",
       "    <tr>\n",
       "      <th>2</th>\n",
       "      <td>4</td>\n",
       "      <td>#c4a9e2</td>\n",
       "      <td>899970365</td>\n",
       "      <td>43.066871</td>\n",
       "      <td>-87.890565</td>\n",
       "    </tr>\n",
       "    <tr>\n",
       "      <th>3</th>\n",
       "      <td>7</td>\n",
       "      <td>#a694be</td>\n",
       "      <td>891778924</td>\n",
       "      <td>42.140556</td>\n",
       "      <td>-87.831643</td>\n",
       "    </tr>\n",
       "    <tr>\n",
       "      <th>4</th>\n",
       "      <td>9</td>\n",
       "      <td>#bf9fe9</td>\n",
       "      <td>891760719</td>\n",
       "      <td>38.679240</td>\n",
       "      <td>-97.990035</td>\n",
       "    </tr>\n",
       "    <tr>\n",
       "      <th>...</th>\n",
       "      <td>...</td>\n",
       "      <td>...</td>\n",
       "      <td>...</td>\n",
       "      <td>...</td>\n",
       "      <td>...</td>\n",
       "    </tr>\n",
       "    <tr>\n",
       "      <th>20623</th>\n",
       "      <td>41059</td>\n",
       "      <td>#a999cf</td>\n",
       "      <td>1024218211</td>\n",
       "      <td>41.569419</td>\n",
       "      <td>-88.150552</td>\n",
       "    </tr>\n",
       "    <tr>\n",
       "      <th>20624</th>\n",
       "      <td>41060</td>\n",
       "      <td>#bf94b9</td>\n",
       "      <td>1024202810</td>\n",
       "      <td>45.057871</td>\n",
       "      <td>-87.168277</td>\n",
       "    </tr>\n",
       "    <tr>\n",
       "      <th>20625</th>\n",
       "      <td>41061</td>\n",
       "      <td>#bea9df</td>\n",
       "      <td>1024200169</td>\n",
       "      <td>42.921738</td>\n",
       "      <td>-88.026752</td>\n",
       "    </tr>\n",
       "    <tr>\n",
       "      <th>20626</th>\n",
       "      <td>41063</td>\n",
       "      <td>#cabcb5</td>\n",
       "      <td>1024198670</td>\n",
       "      <td>40.791723</td>\n",
       "      <td>-80.492498</td>\n",
       "    </tr>\n",
       "    <tr>\n",
       "      <th>20627</th>\n",
       "      <td>41064</td>\n",
       "      <td>#c7abd1</td>\n",
       "      <td>1024192342</td>\n",
       "      <td>44.944167</td>\n",
       "      <td>-91.350556</td>\n",
       "    </tr>\n",
       "  </tbody>\n",
       "</table>\n",
       "<p>20628 rows × 5 columns</p>\n",
       "</div>"
      ],
      "text/plain": [
       "       image_idxs hex_colors      gbifID   latitude   longitude\n",
       "0               0    #e5ccef   923911394  48.826305 -102.092171\n",
       "1               2    #dbbddb   923910407  43.613086  -73.057076\n",
       "2               4    #c4a9e2   899970365  43.066871  -87.890565\n",
       "3               7    #a694be   891778924  42.140556  -87.831643\n",
       "4               9    #bf9fe9   891760719  38.679240  -97.990035\n",
       "...           ...        ...         ...        ...         ...\n",
       "20623       41059    #a999cf  1024218211  41.569419  -88.150552\n",
       "20624       41060    #bf94b9  1024202810  45.057871  -87.168277\n",
       "20625       41061    #bea9df  1024200169  42.921738  -88.026752\n",
       "20626       41063    #cabcb5  1024198670  40.791723  -80.492498\n",
       "20627       41064    #c7abd1  1024192342  44.944167  -91.350556\n",
       "\n",
       "[20628 rows x 5 columns]"
      ]
     },
     "execution_count": 2,
     "metadata": {},
     "output_type": "execute_result"
    }
   ],
   "source": [
    "color_df = pd.read_csv('./full_hexlabels.csv')\n",
    "color_df"
   ]
  },
  {
   "cell_type": "markdown",
   "id": "ccdc819e-1bb7-41ae-a83a-63f3dcb7c101",
   "metadata": {},
   "source": [
    "# Isolate west vs east rows"
   ]
  },
  {
   "cell_type": "code",
   "execution_count": 3,
   "id": "c582b91b-c0fa-4b3f-9e1c-49798e614d99",
   "metadata": {},
   "outputs": [],
   "source": [
    "western_pictures = color_df[color_df.longitude < -100]"
   ]
  },
  {
   "cell_type": "code",
   "execution_count": 4,
   "id": "8a60b35e-96b8-45bf-9369-7a63e8ed95ef",
   "metadata": {},
   "outputs": [],
   "source": [
    "eastern_pictures = color_df[color_df.longitude > -100]"
   ]
  },
  {
   "cell_type": "markdown",
   "id": "3cae1b66-9ae8-42b6-bd7b-11b16f13bed1",
   "metadata": {},
   "source": [
    "# Sample 250 from each region and concatenate into one big dataframe"
   ]
  },
  {
   "cell_type": "code",
   "execution_count": 5,
   "id": "87c4f310-282d-4d01-9810-c7146ec755f0",
   "metadata": {},
   "outputs": [],
   "source": [
    "subsampled_western = western_pictures.sample(250)\n",
    "subsampled_eastern = eastern_pictures.sample(250)"
   ]
  },
  {
   "cell_type": "code",
   "execution_count": 6,
   "id": "fb7cfeb3-f4cd-456a-b78a-3684e19e6da5",
   "metadata": {},
   "outputs": [],
   "source": [
    "for_labeling = pd.concat([subsampled_western,subsampled_eastern])"
   ]
  },
  {
   "cell_type": "code",
   "execution_count": 7,
   "id": "0b52c3fc-7579-47dc-ad9e-a9c37bf9ebae",
   "metadata": {},
   "outputs": [],
   "source": [
    "for_labeling = for_labeling.sort_index()"
   ]
  },
  {
   "cell_type": "markdown",
   "id": "f4b51b4c-6b34-467e-8c20-8a361d0b5ef4",
   "metadata": {},
   "source": [
    "# Write to csv"
   ]
  },
  {
   "cell_type": "code",
   "execution_count": 8,
   "id": "946a3c41-4cde-446c-a37d-2574edeb43df",
   "metadata": {},
   "outputs": [],
   "source": [
    "for_labeling.to_csv('./validation/validation_subset.csv',index=False)"
   ]
  },
  {
   "cell_type": "code",
   "execution_count": 9,
   "id": "5718ac21-e8b8-43f6-bc0f-36365f95738e",
   "metadata": {},
   "outputs": [
    {
     "data": {
      "text/html": [
       "<div>\n",
       "<style scoped>\n",
       "    .dataframe tbody tr th:only-of-type {\n",
       "        vertical-align: middle;\n",
       "    }\n",
       "\n",
       "    .dataframe tbody tr th {\n",
       "        vertical-align: top;\n",
       "    }\n",
       "\n",
       "    .dataframe thead th {\n",
       "        text-align: right;\n",
       "    }\n",
       "</style>\n",
       "<table border=\"1\" class=\"dataframe\">\n",
       "  <thead>\n",
       "    <tr style=\"text-align: right;\">\n",
       "      <th></th>\n",
       "      <th>image_idxs</th>\n",
       "      <th>hex_colors</th>\n",
       "      <th>gbifID</th>\n",
       "      <th>latitude</th>\n",
       "      <th>longitude</th>\n",
       "    </tr>\n",
       "  </thead>\n",
       "  <tbody>\n",
       "    <tr>\n",
       "      <th>5</th>\n",
       "      <td>10</td>\n",
       "      <td>#c4b8ee</td>\n",
       "      <td>891745778</td>\n",
       "      <td>41.814410</td>\n",
       "      <td>-88.089387</td>\n",
       "    </tr>\n",
       "    <tr>\n",
       "      <th>49</th>\n",
       "      <td>143</td>\n",
       "      <td>#d0b1c4</td>\n",
       "      <td>5063198323</td>\n",
       "      <td>37.129597</td>\n",
       "      <td>-93.238183</td>\n",
       "    </tr>\n",
       "    <tr>\n",
       "      <th>59</th>\n",
       "      <td>177</td>\n",
       "      <td>#edb3f9</td>\n",
       "      <td>5062940410</td>\n",
       "      <td>40.755017</td>\n",
       "      <td>-73.465363</td>\n",
       "    </tr>\n",
       "    <tr>\n",
       "      <th>166</th>\n",
       "      <td>382</td>\n",
       "      <td>#eac8ef</td>\n",
       "      <td>5062734283</td>\n",
       "      <td>44.589855</td>\n",
       "      <td>-104.713797</td>\n",
       "    </tr>\n",
       "    <tr>\n",
       "      <th>230</th>\n",
       "      <td>531</td>\n",
       "      <td>#a765b8</td>\n",
       "      <td>5036976838</td>\n",
       "      <td>46.849510</td>\n",
       "      <td>-111.737213</td>\n",
       "    </tr>\n",
       "    <tr>\n",
       "      <th>...</th>\n",
       "      <td>...</td>\n",
       "      <td>...</td>\n",
       "      <td>...</td>\n",
       "      <td>...</td>\n",
       "      <td>...</td>\n",
       "    </tr>\n",
       "    <tr>\n",
       "      <th>20463</th>\n",
       "      <td>40750</td>\n",
       "      <td>#d3cfe2</td>\n",
       "      <td>1291148199</td>\n",
       "      <td>43.583035</td>\n",
       "      <td>-103.465358</td>\n",
       "    </tr>\n",
       "    <tr>\n",
       "      <th>20477</th>\n",
       "      <td>40772</td>\n",
       "      <td>#edafd8</td>\n",
       "      <td>1291135998</td>\n",
       "      <td>41.606313</td>\n",
       "      <td>-87.271348</td>\n",
       "    </tr>\n",
       "    <tr>\n",
       "      <th>20503</th>\n",
       "      <td>40822</td>\n",
       "      <td>#e3c1f0</td>\n",
       "      <td>1291119578</td>\n",
       "      <td>42.732700</td>\n",
       "      <td>-91.016926</td>\n",
       "    </tr>\n",
       "    <tr>\n",
       "      <th>20538</th>\n",
       "      <td>40894</td>\n",
       "      <td>#c8adbd</td>\n",
       "      <td>1291063176</td>\n",
       "      <td>37.888484</td>\n",
       "      <td>-84.396877</td>\n",
       "    </tr>\n",
       "    <tr>\n",
       "      <th>20584</th>\n",
       "      <td>40990</td>\n",
       "      <td>#e0c6e5</td>\n",
       "      <td>1135211570</td>\n",
       "      <td>42.983204</td>\n",
       "      <td>-91.126663</td>\n",
       "    </tr>\n",
       "  </tbody>\n",
       "</table>\n",
       "<p>500 rows × 5 columns</p>\n",
       "</div>"
      ],
      "text/plain": [
       "       image_idxs hex_colors      gbifID   latitude   longitude\n",
       "5              10    #c4b8ee   891745778  41.814410  -88.089387\n",
       "49            143    #d0b1c4  5063198323  37.129597  -93.238183\n",
       "59            177    #edb3f9  5062940410  40.755017  -73.465363\n",
       "166           382    #eac8ef  5062734283  44.589855 -104.713797\n",
       "230           531    #a765b8  5036976838  46.849510 -111.737213\n",
       "...           ...        ...         ...        ...         ...\n",
       "20463       40750    #d3cfe2  1291148199  43.583035 -103.465358\n",
       "20477       40772    #edafd8  1291135998  41.606313  -87.271348\n",
       "20503       40822    #e3c1f0  1291119578  42.732700  -91.016926\n",
       "20538       40894    #c8adbd  1291063176  37.888484  -84.396877\n",
       "20584       40990    #e0c6e5  1135211570  42.983204  -91.126663\n",
       "\n",
       "[500 rows x 5 columns]"
      ]
     },
     "execution_count": 9,
     "metadata": {},
     "output_type": "execute_result"
    }
   ],
   "source": [
    "for_labeling"
   ]
  },
  {
   "cell_type": "code",
   "execution_count": 11,
   "id": "61d6d372-559c-45be-b0e2-a8fdf1de456f",
   "metadata": {},
   "outputs": [],
   "source": [
    "for_labeling['image_idxs'].to_csv('./validation/validation_subset_empty.csv',index=False)"
   ]
  },
  {
   "cell_type": "markdown",
   "id": "a37cdd49-5639-4f61-a68a-8994c5aa0b00",
   "metadata": {},
   "source": [
    "# Make a directory of the subselected images"
   ]
  },
  {
   "cell_type": "code",
   "execution_count": 14,
   "id": "cafa7d4b-f22f-4fb4-a1eb-019f353f9e26",
   "metadata": {},
   "outputs": [],
   "source": [
    "for image_idx in for_labeling.image_idxs:\n",
    "    filename = str(image_idx)+'.jpg'\n",
    "    origin_path = os.path.join('/Volumes/My Passport/monarda_fistulosa_segmentation/image_dataset/gpt_filtered_images',filename)\n",
    "    dest_path = os.path.join('/Volumes/My Passport/monarda_fistulosa_segmentation/validation_images',filename)\n",
    "    shutil.copy(origin_path,dest_path)"
   ]
  }
 ],
 "metadata": {
  "kernelspec": {
   "display_name": "Python 3 (ipykernel)",
   "language": "python",
   "name": "python3"
  },
  "language_info": {
   "codemirror_mode": {
    "name": "ipython",
    "version": 3
   },
   "file_extension": ".py",
   "mimetype": "text/x-python",
   "name": "python",
   "nbconvert_exporter": "python",
   "pygments_lexer": "ipython3",
   "version": "3.10.5"
  }
 },
 "nbformat": 4,
 "nbformat_minor": 5
}
