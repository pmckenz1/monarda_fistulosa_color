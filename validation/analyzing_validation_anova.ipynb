{
 "cells": [
  {
   "cell_type": "markdown",
   "id": "6e66f5c2-dcdd-4d33-88bf-cb8a87ca2f97",
   "metadata": {},
   "source": [
    "# Validation: Does the pattern hold up when stratifying across different lighting conditions? Do we see very different lighting between west and east?"
   ]
  },
  {
   "cell_type": "code",
   "execution_count": 1,
   "id": "4c5881f9-7e4e-4681-bb6c-96e25a71eb66",
   "metadata": {},
   "outputs": [],
   "source": [
    "import numpy as np\n",
    "import pandas as pd\n",
    "import matplotlib.pyplot as plt\n",
    "import seaborn as sns\n",
    "from scipy.stats import ttest_ind\n",
    "import cv2\n",
    "from scipy.stats import chi2_contingency\n",
    "from sklearn.metrics import cohen_kappa_score\n",
    "\n",
    "# anova stuff\n",
    "import statsmodels.formula.api as smf\n",
    "import statsmodels.api as sm\n",
    "from statsmodels.stats.anova import anova_lm"
   ]
  },
  {
   "cell_type": "code",
   "execution_count": 2,
   "id": "c5ed73a3-dd4a-4a6b-9dc6-ffd1ec6e2550",
   "metadata": {},
   "outputs": [],
   "source": [
    "color_df = pd.read_csv('../datasets/1-clusters/cluster1.csv')"
   ]
  },
  {
   "cell_type": "markdown",
   "id": "8e4fe4fd-0993-4211-a4c2-953067f9fc64",
   "metadata": {},
   "source": [
    "# Add darkness column and region"
   ]
  },
  {
   "cell_type": "markdown",
   "id": "df37e81d-f1ae-45c4-8c61-6612c3accc5f",
   "metadata": {},
   "source": [
    "#### If darkness from HSL"
   ]
  },
  {
   "cell_type": "code",
   "execution_count": 3,
   "id": "208c5413-a821-4de1-b40e-ad7f8cd81e39",
   "metadata": {},
   "outputs": [],
   "source": [
    "# in hsl, where \"l\" is lightness. \n",
    "# we can then subtract l from 1 for \"intensity\" = darkness\n",
    "darkness = []\n",
    "for hsl in color_df.hsl:\n",
    "    # parse the text hsl value into a list of 3 str vals\n",
    "    # (function generating this val is in notebook 5)\n",
    "    h,s,l = hsl.strip('()').split(',')\n",
    "    darkness.append(1-float(l))\n",
    "color_df['darkness'] = darkness"
   ]
  },
  {
   "cell_type": "markdown",
   "id": "e587258a-bf3d-4fa7-83ab-5526e9c1d15b",
   "metadata": {},
   "source": [
    "#### If darkness from CIELAB (what we're going with for now)"
   ]
  },
  {
   "cell_type": "code",
   "execution_count": 4,
   "id": "634f1206-e219-4e8c-9718-55f73bc69fc5",
   "metadata": {},
   "outputs": [],
   "source": [
    "darkness = [(255-int(i.strip('()').split(', ')[0]))/255 for i in color_df.lab]\n",
    "color_df['darkness'] = darkness"
   ]
  },
  {
   "cell_type": "code",
   "execution_count": 5,
   "id": "681d4819-3ac7-4bf8-9e94-9d1736870fa4",
   "metadata": {},
   "outputs": [],
   "source": [
    "a = [(int(i.strip('()').split(', ')[1]))/255 for i in color_df.lab]\n",
    "color_df['a'] = a\n",
    "b = [(int(i.strip('()').split(', ')[2]))/255 for i in color_df.lab]\n",
    "color_df['b'] = b"
   ]
  },
  {
   "cell_type": "markdown",
   "id": "43fddcce-2982-4e63-b93c-b2270ed681d0",
   "metadata": {},
   "source": [
    "#### add a region column"
   ]
  },
  {
   "cell_type": "code",
   "execution_count": 6,
   "id": "bbb2e325-0dc9-40a6-9a77-e2c0fef1bdea",
   "metadata": {},
   "outputs": [],
   "source": [
    "# set region split longitude\n",
    "focal_lon = -100 \n",
    "# make a \"region\" column based on longitude\n",
    "color_df['region'] = color_df['longitude'].apply(lambda x: 'East' if x > focal_lon else 'West')"
   ]
  },
  {
   "cell_type": "markdown",
   "id": "7c1f5403-3303-4f2b-a731-1bd0d4b26d54",
   "metadata": {},
   "source": [
    "# Robin's Validation"
   ]
  },
  {
   "cell_type": "code",
   "execution_count": 7,
   "id": "80f4319d-3dbf-4f14-8b50-7818bbc16a33",
   "metadata": {},
   "outputs": [],
   "source": [
    "robin_val = pd.read_csv('./validation_subset_Robin.csv')\n",
    "robin_val.columns = ['image_idx', 'lighting', 'monarda']\n",
    "robin_val.to_csv('./validation_subset_Robin.csv',index=False)"
   ]
  },
  {
   "cell_type": "code",
   "execution_count": 8,
   "id": "6daec595-35c5-4ebf-a19f-f1ce6b3948f4",
   "metadata": {},
   "outputs": [
    {
     "data": {
      "text/html": [
       "<div>\n",
       "<style scoped>\n",
       "    .dataframe tbody tr th:only-of-type {\n",
       "        vertical-align: middle;\n",
       "    }\n",
       "\n",
       "    .dataframe tbody tr th {\n",
       "        vertical-align: top;\n",
       "    }\n",
       "\n",
       "    .dataframe thead th {\n",
       "        text-align: right;\n",
       "    }\n",
       "</style>\n",
       "<table border=\"1\" class=\"dataframe\">\n",
       "  <thead>\n",
       "    <tr style=\"text-align: right;\">\n",
       "      <th></th>\n",
       "      <th>image_idx</th>\n",
       "      <th>lighting</th>\n",
       "      <th>monarda</th>\n",
       "    </tr>\n",
       "  </thead>\n",
       "  <tbody>\n",
       "    <tr>\n",
       "      <th>0</th>\n",
       "      <td>10</td>\n",
       "      <td>h</td>\n",
       "      <td>NaN</td>\n",
       "    </tr>\n",
       "    <tr>\n",
       "      <th>1</th>\n",
       "      <td>143</td>\n",
       "      <td>s</td>\n",
       "      <td>NaN</td>\n",
       "    </tr>\n",
       "    <tr>\n",
       "      <th>2</th>\n",
       "      <td>177</td>\n",
       "      <td>s</td>\n",
       "      <td>NaN</td>\n",
       "    </tr>\n",
       "    <tr>\n",
       "      <th>3</th>\n",
       "      <td>382</td>\n",
       "      <td>s</td>\n",
       "      <td>NaN</td>\n",
       "    </tr>\n",
       "    <tr>\n",
       "      <th>4</th>\n",
       "      <td>531</td>\n",
       "      <td>h</td>\n",
       "      <td>NaN</td>\n",
       "    </tr>\n",
       "    <tr>\n",
       "      <th>...</th>\n",
       "      <td>...</td>\n",
       "      <td>...</td>\n",
       "      <td>...</td>\n",
       "    </tr>\n",
       "    <tr>\n",
       "      <th>495</th>\n",
       "      <td>40750</td>\n",
       "      <td>s</td>\n",
       "      <td>NaN</td>\n",
       "    </tr>\n",
       "    <tr>\n",
       "      <th>496</th>\n",
       "      <td>40772</td>\n",
       "      <td>s</td>\n",
       "      <td>NaN</td>\n",
       "    </tr>\n",
       "    <tr>\n",
       "      <th>497</th>\n",
       "      <td>40822</td>\n",
       "      <td>s</td>\n",
       "      <td>NaN</td>\n",
       "    </tr>\n",
       "    <tr>\n",
       "      <th>498</th>\n",
       "      <td>40894</td>\n",
       "      <td>h</td>\n",
       "      <td>NaN</td>\n",
       "    </tr>\n",
       "    <tr>\n",
       "      <th>499</th>\n",
       "      <td>40990</td>\n",
       "      <td>s</td>\n",
       "      <td>NaN</td>\n",
       "    </tr>\n",
       "  </tbody>\n",
       "</table>\n",
       "<p>500 rows × 3 columns</p>\n",
       "</div>"
      ],
      "text/plain": [
       "     image_idx lighting  monarda\n",
       "0           10        h      NaN\n",
       "1          143        s      NaN\n",
       "2          177        s      NaN\n",
       "3          382        s      NaN\n",
       "4          531        h      NaN\n",
       "..         ...      ...      ...\n",
       "495      40750        s      NaN\n",
       "496      40772        s      NaN\n",
       "497      40822        s      NaN\n",
       "498      40894        h      NaN\n",
       "499      40990        s      NaN\n",
       "\n",
       "[500 rows x 3 columns]"
      ]
     },
     "execution_count": 8,
     "metadata": {},
     "output_type": "execute_result"
    }
   ],
   "source": [
    "robin_val"
   ]
  },
  {
   "cell_type": "code",
   "execution_count": 9,
   "id": "b5294efc-9810-4a56-8daf-c6659d52dccd",
   "metadata": {},
   "outputs": [
    {
     "data": {
      "text/plain": [
       "np.int64(500)"
      ]
     },
     "execution_count": 9,
     "metadata": {},
     "output_type": "execute_result"
    }
   ],
   "source": [
    "# how many show monarda flowers \n",
    "robin_val.monarda.isna().sum()"
   ]
  },
  {
   "cell_type": "code",
   "execution_count": 10,
   "id": "024f16f6-cf67-4bad-b4ec-786b9cd00a9f",
   "metadata": {},
   "outputs": [],
   "source": [
    "sunlist = list(robin_val[robin_val.lighting.eq('s')].image_idx)\n",
    "shadelist = list(robin_val[robin_val.lighting.eq('h')].image_idx)\n",
    "partiallist = list(robin_val[robin_val.lighting.eq('p')].image_idx)"
   ]
  },
  {
   "cell_type": "code",
   "execution_count": 11,
   "id": "8be2c7b5-b41a-4804-960d-f388f0c5b2e7",
   "metadata": {},
   "outputs": [],
   "source": [
    "sun_df = color_df[(color_df.image_idx.isin(sunlist))]\n",
    "shade_df = color_df[(color_df.image_idx.isin(shadelist))]\n",
    "partial_df = color_df[(color_df.image_idx.isin(partiallist))]"
   ]
  },
  {
   "cell_type": "code",
   "execution_count": 12,
   "id": "858c5dff-3143-499e-8e98-37df912a35a7",
   "metadata": {},
   "outputs": [
    {
     "name": "stdout",
     "output_type": "stream",
     "text": [
      "Number of overall sun observations: 238\n",
      "    West: 124\n",
      "    East: 114\n",
      "Number of overall shade observations: 184\n",
      "    West: 86\n",
      "    East: 98\n",
      "Number of overall partial observations: 78\n",
      "    West: 40\n",
      "    East: 38\n"
     ]
    }
   ],
   "source": [
    "print(f\"Number of overall sun observations: {len(sunlist)}\")\n",
    "print(f\"    West: {np.sum(sun_df.longitude < -100)}\")\n",
    "print(f\"    East: {np.sum(sun_df.longitude > -100)}\")\n",
    "print(f\"Number of overall shade observations: {len(shadelist)}\")\n",
    "print(f\"    West: {np.sum(shade_df.longitude < -100)}\")\n",
    "print(f\"    East: {np.sum(shade_df.longitude > -100)}\")\n",
    "print(f\"Number of overall partial observations: {len(partiallist)}\")\n",
    "print(f\"    West: {np.sum(partial_df.longitude < -100)}\")\n",
    "print(f\"    East: {np.sum(partial_df.longitude > -100)}\")"
   ]
  },
  {
   "cell_type": "code",
   "execution_count": 13,
   "id": "065d8df2-39f2-46b6-9bb5-13c6657b3e71",
   "metadata": {},
   "outputs": [
    {
     "name": "stdout",
     "output_type": "stream",
     "text": [
      "χ² = 1.25, df = 2, p-value = 0.5342\n"
     ]
    }
   ],
   "source": [
    "# replace these with your actual counts\n",
    "table = np.array([[np.sum(sun_df.longitude < -100), np.sum(shade_df.longitude < -100), np.sum(partial_df.longitude < -100)],\n",
    "                  [np.sum(sun_df.longitude > -100), np.sum(shade_df.longitude > -100), np.sum(partial_df.longitude > -100)]])\n",
    "\n",
    "chi2, p, dof, expected = chi2_contingency(table, correction=False) # two degrees of freedom so no yates correction\n",
    "print(f\"χ² = {chi2:.2f}, df = {dof}, p-value = {p:.4f}\")"
   ]
  },
  {
   "cell_type": "markdown",
   "id": "1b25a56a-0937-42a3-b4dc-fab0926e5278",
   "metadata": {},
   "source": [
    "# Boxplots"
   ]
  },
  {
   "cell_type": "markdown",
   "id": "e629a926-bc72-4e8c-bc9e-fc4654c6a5e8",
   "metadata": {},
   "source": [
    "## get median color for each region"
   ]
  },
  {
   "cell_type": "code",
   "execution_count": 14,
   "id": "4f964615-b7e8-4a75-8c7f-9033876c6627",
   "metadata": {},
   "outputs": [],
   "source": [
    "# conversion functions (from notebook 5)\n",
    "def rgb_to_hex(rgb):\n",
    "    # rgb should be a tuple like (R, G, B)\n",
    "    return '#{:02x}{:02x}{:02x}'.format(*rgb)\n",
    "def lab_to_rgb(lab):\n",
    "    \"\"\"convert (L,a,b) in OpenCV's Lab to (r,g,b) in [0,255]\"\"\"\n",
    "    arr = np.array([[lab]], dtype=np.uint8)\n",
    "    rgb = cv2.cvtColor(arr, cv2.COLOR_LAB2RGB)[0][0]\n",
    "    return tuple(int(x) for x in rgb)"
   ]
  },
  {
   "cell_type": "code",
   "execution_count": 15,
   "id": "a21233d7-b05c-4ac2-8d3e-0fae6d5fe03f",
   "metadata": {},
   "outputs": [],
   "source": [
    "#####\n",
    "#SUN#\n",
    "#####\n",
    "\n",
    "### WEST\n",
    "west_sun = list(sun_df[sun_df.region.eq('West')].lab)\n",
    "west_sun = [i.strip('()').split(', ') for i in west_sun]\n",
    "west_sun = [[float(q) for q in i] for i in west_sun]\n",
    "\n",
    "median_lab = np.median(west_sun,axis=0) # lab color\n",
    "sun_west_median_color = rgb_to_hex(lab_to_rgb(median_lab)) # hex color\n",
    "\n",
    "### EAST\n",
    "east_sun = list(sun_df[sun_df.region.eq('East')].lab)\n",
    "east_sun = [i.strip('()').split(', ') for i in east_sun]\n",
    "east_sun = [[float(q) for q in i] for i in east_sun]\n",
    "\n",
    "median_lab = np.median(east_sun,axis=0) # lab color\n",
    "sun_east_median_color = rgb_to_hex(lab_to_rgb(median_lab)) # hex color\n",
    "\n",
    "#######\n",
    "#SHADE#\n",
    "#######\n",
    "\n",
    "### WEST\n",
    "west_shade = list(shade_df[shade_df.region.eq('West')].lab)\n",
    "west_shade = [i.strip('()').split(', ') for i in west_shade]\n",
    "west_shade = [[float(q) for q in i] for i in west_shade]\n",
    "\n",
    "median_lab = np.median(west_shade,axis=0) # lab color\n",
    "shade_west_median_color = rgb_to_hex(lab_to_rgb(median_lab)) # hex color\n",
    "\n",
    "### EAST\n",
    "east_shade = list(shade_df[shade_df.region.eq('East')].lab)\n",
    "east_shade = [i.strip('()').split(', ') for i in east_shade]\n",
    "east_shade = [[float(q) for q in i] for i in east_shade]\n",
    "\n",
    "median_lab = np.median(east_shade,axis=0) # lab color\n",
    "shade_east_median_color = rgb_to_hex(lab_to_rgb(median_lab)) # hex color\n",
    "\n",
    "\n",
    "#########\n",
    "#PARTIAL#\n",
    "#########\n",
    "\n",
    "### WEST\n",
    "west_partial = list(partial_df[partial_df.region.eq('West')].lab)\n",
    "west_partial = [i.strip('()').split(', ') for i in west_partial]\n",
    "west_partial = [[float(q) for q in i] for i in west_partial]\n",
    "\n",
    "median_lab = np.median(west_partial,axis=0) # lab color\n",
    "partial_west_median_color = rgb_to_hex(lab_to_rgb(median_lab)) # hex color\n",
    "\n",
    "### EAST\n",
    "east_partial = list(partial_df[partial_df.region.eq('East')].lab)\n",
    "east_partial = [i.strip('()').split(', ') for i in east_partial]\n",
    "east_partial = [[float(q) for q in i] for i in east_partial]\n",
    "\n",
    "median_lab = np.median(east_partial,axis=0) # lab color\n",
    "partial_east_median_color = rgb_to_hex(lab_to_rgb(median_lab)) # hex color"
   ]
  },
  {
   "cell_type": "markdown",
   "id": "097da953-1aa0-43de-a268-4a31b8ccd80f",
   "metadata": {},
   "source": [
    "## Sun individual boxplots"
   ]
  },
  {
   "cell_type": "code",
   "execution_count": 16,
   "id": "c3ce05af-6059-454f-8463-7ca8181fcc25",
   "metadata": {},
   "outputs": [
    {
     "data": {
      "image/png": "[encoded data removed]",
      "text/plain": [
       "<Figure size 576x432 with 1 Axes>"
      ]
     },
     "metadata": {
      "needs_background": "light"
     },
     "output_type": "display_data"
    },
    {
     "name": "stdout",
     "output_type": "stream",
     "text": [
      "t-statistic: -10.573\n",
      "p-value: 0.00000\n"
     ]
    }
   ],
   "source": [
    "# make nice figure aesthetics\n",
    "sns.set(style='whitegrid', context='talk', font_scale=1.2)\n",
    "\n",
    "# set up plot\n",
    "fig, ax = plt.subplots(figsize=(8, 6))\n",
    "\n",
    "# specify boxplot params\n",
    "sns.boxplot(\n",
    "    x='region',\n",
    "    y='darkness',\n",
    "    data=sun_df,\n",
    "    hue='region',\n",
    "    legend=False,\n",
    "    palette=[sun_west_median_color, sun_east_median_color],  # two shades of purple. could be the same, no preference here.\n",
    "    linewidth=3,\n",
    "    fliersize=4,\n",
    "    order=['West', 'East'],\n",
    "    hue_order=['West', 'East'],\n",
    "    ax=ax\n",
    ")\n",
    "\n",
    "# no labels/titles\n",
    "#ax.set_title('\"Darkness\" by Region (West vs. East)', fontsize=16, fontweight='bold', pad=15)\n",
    "ax.set_xlabel(None)\n",
    "ax.set_ylabel(None)\n",
    "\n",
    "# tick parameters\n",
    "ax.tick_params(axis='both', which='major', labelsize=13)\n",
    "\n",
    "# this helps push the horiz bars away from the y\n",
    "sns.despine(offset=10, trim=True)\n",
    "\n",
    "# let's see it!\n",
    "plt.tight_layout()\n",
    "plt.show()\n",
    "\n",
    "# t-test as well\n",
    "west_darkness = sun_df[sun_df['region'] == 'West']['darkness']\n",
    "east_darkness = sun_df[sun_df['region'] == 'East']['darkness']\n",
    "t_stat, p_value = ttest_ind(east_darkness, west_darkness, equal_var=False)\n",
    "\n",
    "# t-test results\n",
    "print(f\"t-statistic: {t_stat:.3f}\")\n",
    "print(f\"p-value: {p_value:.5f}\")"
   ]
  },
  {
   "cell_type": "markdown",
   "id": "39f0dcf6-f6bb-4462-84fb-d63ec643fb88",
   "metadata": {},
   "source": [
    "## Shade individual boxplots"
   ]
  },
  {
   "cell_type": "code",
   "execution_count": 17,
   "id": "f1e7613f-2df5-4fb4-8419-56fc4e2296c6",
   "metadata": {},
   "outputs": [
    {
     "data": {
      "image/png": "[encoded data removed]",
      "text/plain": [
       "<Figure size 576x432 with 1 Axes>"
      ]
     },
     "metadata": {},
     "output_type": "display_data"
    },
    {
     "name": "stdout",
     "output_type": "stream",
     "text": [
      "t-statistic: -8.614\n",
      "p-value: 0.00000\n"
     ]
    }
   ],
   "source": [
    "# make nice figure aesthetics\n",
    "sns.set(style='whitegrid', context='talk', font_scale=1.2)\n",
    "\n",
    "# set up plot\n",
    "fig, ax = plt.subplots(figsize=(8, 6))\n",
    "\n",
    "# specify boxplot params\n",
    "sns.boxplot(\n",
    "    x='region',\n",
    "    y='darkness',\n",
    "    data=shade_df,\n",
    "    hue='region',\n",
    "    legend=False,\n",
    "    palette=[shade_west_median_color, shade_east_median_color],  # two shades of purple. could be the same, no preference here.\n",
    "    linewidth=3,\n",
    "    fliersize=4,\n",
    "    order=['West', 'East'],\n",
    "    hue_order=['West', 'East'],\n",
    "    ax=ax\n",
    ")\n",
    "\n",
    "# no labels/titles\n",
    "#ax.set_title('\"Darkness\" by Region (West vs. East)', fontsize=16, fontweight='bold', pad=15)\n",
    "ax.set_xlabel(None)\n",
    "ax.set_ylabel(None)\n",
    "\n",
    "# tick parameters\n",
    "ax.tick_params(axis='both', which='major', labelsize=13)\n",
    "\n",
    "# this helps push the horiz bars away from the y\n",
    "sns.despine(offset=10, trim=True)\n",
    "\n",
    "# let's see it!\n",
    "plt.tight_layout()\n",
    "plt.show()\n",
    "\n",
    "# t-test as well\n",
    "west_darkness = shade_df[shade_df['region'] == 'West']['darkness']\n",
    "east_darkness = shade_df[shade_df['region'] == 'East']['darkness']\n",
    "t_stat, p_value = ttest_ind(east_darkness, west_darkness, equal_var=False)\n",
    "\n",
    "# t-test results\n",
    "print(f\"t-statistic: {t_stat:.3f}\")\n",
    "print(f\"p-value: {p_value:.5f}\")"
   ]
  },
  {
   "cell_type": "markdown",
   "id": "9e551a07-f8a2-4c33-aa7b-7d6bb8dd95a6",
   "metadata": {},
   "source": [
    "## Partial individual boxplots"
   ]
  },
  {
   "cell_type": "code",
   "execution_count": 18,
   "id": "5282d805-2e05-4644-8604-a88f1cff05ba",
   "metadata": {},
   "outputs": [
    {
     "data": {
      "image/png": "[encoded data removed]",
      "text/plain": [
       "<Figure size 576x432 with 1 Axes>"
      ]
     },
     "metadata": {},
     "output_type": "display_data"
    },
    {
     "name": "stdout",
     "output_type": "stream",
     "text": [
      "t-statistic: -4.501\n",
      "p-value: 0.00002\n"
     ]
    }
   ],
   "source": [
    "# make nice figure aesthetics\n",
    "sns.set(style='whitegrid', context='talk', font_scale=1.2)\n",
    "\n",
    "# set up plot\n",
    "fig, ax = plt.subplots(figsize=(8, 6))\n",
    "\n",
    "# specify boxplot params\n",
    "sns.boxplot(\n",
    "    x='region',\n",
    "    y='darkness',\n",
    "    data=partial_df,\n",
    "    hue='region',\n",
    "    legend=False,\n",
    "    palette=[partial_west_median_color, partial_east_median_color],  # two shades of purple. could be the same, no preference here.\n",
    "    linewidth=3,\n",
    "    fliersize=4,\n",
    "    order=['West', 'East'],\n",
    "    hue_order=['West', 'East'],\n",
    "    ax=ax\n",
    ")\n",
    "\n",
    "# no labels/titles\n",
    "#ax.set_title('\"Darkness\" by Region (West vs. East)', fontsize=16, fontweight='bold', pad=15)\n",
    "ax.set_xlabel(None)\n",
    "ax.set_ylabel(None)\n",
    "\n",
    "# tick parameters\n",
    "ax.tick_params(axis='both', which='major', labelsize=13)\n",
    "\n",
    "# this helps push the horiz bars away from the y\n",
    "sns.despine(offset=10, trim=True)\n",
    "\n",
    "# let's see it!\n",
    "plt.tight_layout()\n",
    "plt.show()\n",
    "\n",
    "# t-test as well\n",
    "west_darkness = partial_df[partial_df['region'] == 'West']['darkness']\n",
    "east_darkness = partial_df[partial_df['region'] == 'East']['darkness']\n",
    "t_stat, p_value = ttest_ind(east_darkness, west_darkness, equal_var=False)\n",
    "\n",
    "# t-test results\n",
    "print(f\"t-statistic: {t_stat:.3f}\")\n",
    "print(f\"p-value: {p_value:.5f}\")"
   ]
  },
  {
   "cell_type": "markdown",
   "id": "bf1d0bd3-092d-4e0d-85a8-539e61dc0aa6",
   "metadata": {},
   "source": [
    "## All three together:"
   ]
  },
  {
   "cell_type": "code",
   "execution_count": 19,
   "id": "b3fa6688-d71e-4573-a946-433e85f5a6fc",
   "metadata": {},
   "outputs": [
    {
     "data": {
      "image/png": "[encoded data removed]",
      "text/plain": [
       "<Figure size 1296x432 with 3 Axes>"
      ]
     },
     "metadata": {},
     "output_type": "display_data"
    }
   ],
   "source": [
    "# make nice figure aesthetics\n",
    "sns.set(style='whitegrid', context='talk', font_scale=1.2)\n",
    "\n",
    "# 1 row, 3 columns, share y-axis\n",
    "fig, axes = plt.subplots(ncols=3, sharey=True, figsize=(18, 6))\n",
    "\n",
    "# PLOT 1: sun_df\n",
    "sns.boxplot(\n",
    "    x='region', y='darkness', data=sun_df,\n",
    "    hue='region', legend=False,\n",
    "    palette=[sun_west_median_color, sun_east_median_color],\n",
    "    linewidth=3, fliersize=4,\n",
    "    order=['West', 'East'], hue_order=['West', 'East'],\n",
    "    ax=axes[0]\n",
    ")\n",
    "axes[0].set_title('Sun')\n",
    "axes[0].set_xlabel(None)\n",
    "axes[0].set_ylabel(None)\n",
    "axes[0].tick_params(axis='both', which='major', labelsize=13)\n",
    "sns.despine(ax=axes[0], offset=10, trim=True)\n",
    "\n",
    "# PLOT 2: partial_df\n",
    "sns.boxplot(\n",
    "    x='region', y='darkness', data=partial_df,\n",
    "    hue='region', legend=False,\n",
    "    palette=[partial_west_median_color, partial_east_median_color],\n",
    "    linewidth=3, fliersize=4,\n",
    "    order=['West', 'East'], hue_order=['West', 'East'],\n",
    "    ax=axes[1]\n",
    ")\n",
    "axes[1].set_title('Partial Sun')\n",
    "axes[1].set_xlabel(None)\n",
    "axes[1].set_ylabel(None)\n",
    "axes[1].tick_params(axis='both', which='major', labelsize=13)\n",
    "sns.despine(ax=axes[1], offset=10, trim=True)\n",
    "\n",
    "# PLOT 3: shade_df\n",
    "sns.boxplot(\n",
    "    x='region', y='darkness', data=shade_df,\n",
    "    hue='region', legend=False,\n",
    "    palette=[shade_west_median_color, shade_east_median_color],\n",
    "    linewidth=3, fliersize=4,\n",
    "    order=['West', 'East'], hue_order=['West', 'East'],\n",
    "    ax=axes[2]\n",
    ")\n",
    "axes[2].set_title('Shade')\n",
    "axes[2].set_xlabel(None)\n",
    "axes[2].set_ylabel(None)\n",
    "axes[2].tick_params(axis='both', which='major', labelsize=13)\n",
    "sns.despine(ax=axes[2], offset=10, trim=True)\n",
    "\n",
    "# y label\n",
    "fig.text(0.04, 0.5, 'Darkness', va='center', rotation='vertical', fontsize=16)\n",
    "\n",
    "plt.tight_layout(rect=[0.05, 0, 1, 1])\n",
    "plt.show()"
   ]
  },
  {
   "cell_type": "markdown",
   "id": "896f6793-61c9-4e39-9feb-161192fe32b4",
   "metadata": {},
   "source": [
    "# ~~~~~~~~~~~~~~~~~~~~~"
   ]
  },
  {
   "cell_type": "markdown",
   "id": "35521e9e-13e8-4898-85e5-a194c4281b86",
   "metadata": {},
   "source": [
    "# ~~~~~~~~~~~~~~~~~~~~~"
   ]
  },
  {
   "cell_type": "markdown",
   "id": "7ccadf83-269b-4f07-8f9e-b5aa72a1d44a",
   "metadata": {},
   "source": [
    "# ~~~~~~~~~~~~~~~~~~~~~"
   ]
  },
  {
   "cell_type": "markdown",
   "id": "b2068ac2-5346-41b5-b04f-cc2cd577d3d3",
   "metadata": {},
   "source": [
    "# Sam's Validation"
   ]
  },
  {
   "cell_type": "code",
   "execution_count": 20,
   "id": "602897be-3b07-4b86-98f8-035c3a9e272a",
   "metadata": {},
   "outputs": [],
   "source": [
    "sam_val = pd.read_csv('./validation_subset_Sam.csv')\n",
    "sam_val.columns = ['image_idx', 'lighting', 'monarda']\n",
    "sam_val.to_csv('./validation_subset_Sam.csv',index=False)"
   ]
  },
  {
   "cell_type": "code",
   "execution_count": 21,
   "id": "934b11d5-b8cd-4ae0-96df-bf255fe2adce",
   "metadata": {},
   "outputs": [
    {
     "data": {
      "text/html": [
       "<div>\n",
       "<style scoped>\n",
       "    .dataframe tbody tr th:only-of-type {\n",
       "        vertical-align: middle;\n",
       "    }\n",
       "\n",
       "    .dataframe tbody tr th {\n",
       "        vertical-align: top;\n",
       "    }\n",
       "\n",
       "    .dataframe thead th {\n",
       "        text-align: right;\n",
       "    }\n",
       "</style>\n",
       "<table border=\"1\" class=\"dataframe\">\n",
       "  <thead>\n",
       "    <tr style=\"text-align: right;\">\n",
       "      <th></th>\n",
       "      <th>image_idx</th>\n",
       "      <th>lighting</th>\n",
       "      <th>monarda</th>\n",
       "    </tr>\n",
       "  </thead>\n",
       "  <tbody>\n",
       "    <tr>\n",
       "      <th>0</th>\n",
       "      <td>10</td>\n",
       "      <td>h</td>\n",
       "      <td>NaN</td>\n",
       "    </tr>\n",
       "    <tr>\n",
       "      <th>1</th>\n",
       "      <td>143</td>\n",
       "      <td>s</td>\n",
       "      <td>NaN</td>\n",
       "    </tr>\n",
       "    <tr>\n",
       "      <th>2</th>\n",
       "      <td>177</td>\n",
       "      <td>s</td>\n",
       "      <td>NaN</td>\n",
       "    </tr>\n",
       "    <tr>\n",
       "      <th>3</th>\n",
       "      <td>382</td>\n",
       "      <td>p</td>\n",
       "      <td>NaN</td>\n",
       "    </tr>\n",
       "    <tr>\n",
       "      <th>4</th>\n",
       "      <td>531</td>\n",
       "      <td>h</td>\n",
       "      <td>NaN</td>\n",
       "    </tr>\n",
       "    <tr>\n",
       "      <th>...</th>\n",
       "      <td>...</td>\n",
       "      <td>...</td>\n",
       "      <td>...</td>\n",
       "    </tr>\n",
       "    <tr>\n",
       "      <th>495</th>\n",
       "      <td>40750</td>\n",
       "      <td>h</td>\n",
       "      <td>NaN</td>\n",
       "    </tr>\n",
       "    <tr>\n",
       "      <th>496</th>\n",
       "      <td>40772</td>\n",
       "      <td>s</td>\n",
       "      <td>NaN</td>\n",
       "    </tr>\n",
       "    <tr>\n",
       "      <th>497</th>\n",
       "      <td>40822</td>\n",
       "      <td>s</td>\n",
       "      <td>NaN</td>\n",
       "    </tr>\n",
       "    <tr>\n",
       "      <th>498</th>\n",
       "      <td>40894</td>\n",
       "      <td>h</td>\n",
       "      <td>NaN</td>\n",
       "    </tr>\n",
       "    <tr>\n",
       "      <th>499</th>\n",
       "      <td>40990</td>\n",
       "      <td>s</td>\n",
       "      <td>NaN</td>\n",
       "    </tr>\n",
       "  </tbody>\n",
       "</table>\n",
       "<p>500 rows × 3 columns</p>\n",
       "</div>"
      ],
      "text/plain": [
       "     image_idx lighting  monarda\n",
       "0           10        h      NaN\n",
       "1          143        s      NaN\n",
       "2          177        s      NaN\n",
       "3          382        p      NaN\n",
       "4          531        h      NaN\n",
       "..         ...      ...      ...\n",
       "495      40750        h      NaN\n",
       "496      40772        s      NaN\n",
       "497      40822        s      NaN\n",
       "498      40894        h      NaN\n",
       "499      40990        s      NaN\n",
       "\n",
       "[500 rows x 3 columns]"
      ]
     },
     "execution_count": 21,
     "metadata": {},
     "output_type": "execute_result"
    }
   ],
   "source": [
    "sam_val"
   ]
  },
  {
   "cell_type": "code",
   "execution_count": 22,
   "id": "0229a385-cea3-4fe5-b3b1-adaf45a19e47",
   "metadata": {},
   "outputs": [
    {
     "data": {
      "text/plain": [
       "np.int64(500)"
      ]
     },
     "execution_count": 22,
     "metadata": {},
     "output_type": "execute_result"
    }
   ],
   "source": [
    "# how many show monarda flowers\n",
    "sam_val.monarda.isna().sum()"
   ]
  },
  {
   "cell_type": "code",
   "execution_count": 23,
   "id": "50f30517-c059-47ff-997b-ca044a9e1b30",
   "metadata": {},
   "outputs": [
    {
     "data": {
      "text/plain": [
       "np.int64(371)"
      ]
     },
     "execution_count": 23,
     "metadata": {},
     "output_type": "execute_result"
    }
   ],
   "source": [
    "# how many agree with Robin?\n",
    "np.sum(np.array(robin_val.lighting) == np.array(sam_val.lighting))"
   ]
  },
  {
   "cell_type": "code",
   "execution_count": 24,
   "id": "edb4cdec-e86f-4da0-ab90-c1c7c572b3c7",
   "metadata": {},
   "outputs": [],
   "source": [
    "sunlist = list(sam_val[sam_val.lighting.eq('s')].image_idx)\n",
    "shadelist = list(sam_val[sam_val.lighting.eq('h')].image_idx)\n",
    "partiallist = list(sam_val[sam_val.lighting.eq('p')].image_idx)"
   ]
  },
  {
   "cell_type": "code",
   "execution_count": 25,
   "id": "bc4790ad-99cd-464b-b143-9e7fb034e2c0",
   "metadata": {},
   "outputs": [
    {
     "data": {
      "text/plain": [
       "np.int64(1)"
      ]
     },
     "execution_count": 25,
     "metadata": {},
     "output_type": "execute_result"
    }
   ],
   "source": [
    "np.sum(sam_val.lighting.eq('n'))"
   ]
  },
  {
   "cell_type": "code",
   "execution_count": 26,
   "id": "e52e27f5-468e-4d32-b4c8-11a1867a4532",
   "metadata": {},
   "outputs": [],
   "source": [
    "sun_df = color_df[(color_df.image_idx.isin(sunlist))]\n",
    "shade_df = color_df[(color_df.image_idx.isin(shadelist))]\n",
    "partial_df = color_df[(color_df.image_idx.isin(partiallist))]"
   ]
  },
  {
   "cell_type": "code",
   "execution_count": 27,
   "id": "d31e39ab-7d72-402d-9551-ebc6438adc84",
   "metadata": {},
   "outputs": [
    {
     "name": "stdout",
     "output_type": "stream",
     "text": [
      "Number of overall sun observations: 234\n",
      "    West: 113\n",
      "    East: 121\n",
      "Number of overall shade observations: 167\n",
      "    West: 82\n",
      "    East: 85\n",
      "Number of overall partial observations: 98\n",
      "    West: 54\n",
      "    East: 44\n"
     ]
    }
   ],
   "source": [
    "print(f\"Number of overall sun observations: {len(sunlist)}\")\n",
    "print(f\"    West: {np.sum(sun_df.longitude < -100)}\")\n",
    "print(f\"    East: {np.sum(sun_df.longitude > -100)}\")\n",
    "print(f\"Number of overall shade observations: {len(shadelist)}\")\n",
    "print(f\"    West: {np.sum(shade_df.longitude < -100)}\")\n",
    "print(f\"    East: {np.sum(shade_df.longitude > -100)}\")\n",
    "print(f\"Number of overall partial observations: {len(partiallist)}\")\n",
    "print(f\"    West: {np.sum(partial_df.longitude < -100)}\")\n",
    "print(f\"    East: {np.sum(partial_df.longitude > -100)}\")"
   ]
  },
  {
   "cell_type": "code",
   "execution_count": 28,
   "id": "6911d063-bdea-4fe5-9140-73e61640cd00",
   "metadata": {},
   "outputs": [
    {
     "data": {
      "text/plain": [
       "499"
      ]
     },
     "execution_count": 28,
     "metadata": {},
     "output_type": "execute_result"
    }
   ],
   "source": [
    "54+44+82+85+113+121"
   ]
  },
  {
   "cell_type": "code",
   "execution_count": 29,
   "id": "0fbae012-ac23-4c7d-8cfb-fc1635e94fe3",
   "metadata": {},
   "outputs": [
    {
     "name": "stdout",
     "output_type": "stream",
     "text": [
      "χ² = 1.35, df = 2, p-value = 0.5102\n"
     ]
    }
   ],
   "source": [
    "# replace these with your actual counts\n",
    "table = np.array([[np.sum(sun_df.longitude < -100), np.sum(shade_df.longitude < -100), np.sum(partial_df.longitude < -100)],\n",
    "                  [np.sum(sun_df.longitude > -100), np.sum(shade_df.longitude > -100), np.sum(partial_df.longitude > -100)]])\n",
    "\n",
    "chi2, p, dof, expected = chi2_contingency(table, correction=False) # two degrees of freedom so no yates correction\n",
    "print(f\"χ² = {chi2:.2f}, df = {dof}, p-value = {p:.4f}\")"
   ]
  },
  {
   "cell_type": "markdown",
   "id": "3a04050a-6def-40ab-b43a-5d14db55a470",
   "metadata": {},
   "source": [
    "# Boxplots"
   ]
  },
  {
   "cell_type": "markdown",
   "id": "677fb5d2-4445-4eeb-8540-bd4d2e28799f",
   "metadata": {},
   "source": [
    "## get median color for each region"
   ]
  },
  {
   "cell_type": "code",
   "execution_count": 30,
   "id": "ce5482ca-bf5d-4064-b168-1b91db9a9823",
   "metadata": {},
   "outputs": [],
   "source": [
    "# conversion functions (from notebook 5)\n",
    "def rgb_to_hex(rgb):\n",
    "    # rgb should be a tuple like (R, G, B)\n",
    "    return '#{:02x}{:02x}{:02x}'.format(*rgb)\n",
    "def lab_to_rgb(lab):\n",
    "    \"\"\"convert (L,a,b) in OpenCV's Lab to (r,g,b) in [0,255]\"\"\"\n",
    "    arr = np.array([[lab]], dtype=np.uint8)\n",
    "    rgb = cv2.cvtColor(arr, cv2.COLOR_LAB2RGB)[0][0]\n",
    "    return tuple(int(x) for x in rgb)"
   ]
  },
  {
   "cell_type": "code",
   "execution_count": 31,
   "id": "f7e62e69-9889-446a-bbbd-981e64c2b7e4",
   "metadata": {},
   "outputs": [],
   "source": [
    "#####\n",
    "#SUN#\n",
    "#####\n",
    "\n",
    "### WEST\n",
    "west_sun = list(sun_df[sun_df.region.eq('West')].lab)\n",
    "west_sun = [i.strip('()').split(', ') for i in west_sun]\n",
    "west_sun = [[float(q) for q in i] for i in west_sun]\n",
    "\n",
    "median_lab = np.median(west_sun,axis=0) # lab color\n",
    "sun_west_median_color = rgb_to_hex(lab_to_rgb(median_lab)) # hex color\n",
    "\n",
    "### EAST\n",
    "east_sun = list(sun_df[sun_df.region.eq('East')].lab)\n",
    "east_sun = [i.strip('()').split(', ') for i in east_sun]\n",
    "east_sun = [[float(q) for q in i] for i in east_sun]\n",
    "\n",
    "median_lab = np.median(east_sun,axis=0) # lab color\n",
    "sun_east_median_color = rgb_to_hex(lab_to_rgb(median_lab)) # hex color\n",
    "\n",
    "#######\n",
    "#SHADE#\n",
    "#######\n",
    "\n",
    "### WEST\n",
    "west_shade = list(shade_df[shade_df.region.eq('West')].lab)\n",
    "west_shade = [i.strip('()').split(', ') for i in west_shade]\n",
    "west_shade = [[float(q) for q in i] for i in west_shade]\n",
    "\n",
    "median_lab = np.median(west_shade,axis=0) # lab color\n",
    "shade_west_median_color = rgb_to_hex(lab_to_rgb(median_lab)) # hex color\n",
    "\n",
    "### EAST\n",
    "east_shade = list(shade_df[shade_df.region.eq('East')].lab)\n",
    "east_shade = [i.strip('()').split(', ') for i in east_shade]\n",
    "east_shade = [[float(q) for q in i] for i in east_shade]\n",
    "\n",
    "median_lab = np.median(east_shade,axis=0) # lab color\n",
    "shade_east_median_color = rgb_to_hex(lab_to_rgb(median_lab)) # hex color\n",
    "\n",
    "\n",
    "#########\n",
    "#PARTIAL#\n",
    "#########\n",
    "\n",
    "### WEST\n",
    "west_partial = list(partial_df[partial_df.region.eq('West')].lab)\n",
    "west_partial = [i.strip('()').split(', ') for i in west_partial]\n",
    "west_partial = [[float(q) for q in i] for i in west_partial]\n",
    "\n",
    "median_lab = np.median(west_partial,axis=0) # lab color\n",
    "partial_west_median_color = rgb_to_hex(lab_to_rgb(median_lab)) # hex color\n",
    "\n",
    "### EAST\n",
    "east_partial = list(partial_df[partial_df.region.eq('East')].lab)\n",
    "east_partial = [i.strip('()').split(', ') for i in east_partial]\n",
    "east_partial = [[float(q) for q in i] for i in east_partial]\n",
    "\n",
    "median_lab = np.median(east_partial,axis=0) # lab color\n",
    "partial_east_median_color = rgb_to_hex(lab_to_rgb(median_lab)) # hex color"
   ]
  },
  {
   "cell_type": "markdown",
   "id": "1aa5d8f1-ecb7-4db1-81d6-4daf252e9ee3",
   "metadata": {},
   "source": [
    "## Sun individual boxplots"
   ]
  },
  {
   "cell_type": "code",
   "execution_count": 32,
   "id": "9718bb32-e738-4c54-9b12-6c93ba662396",
   "metadata": {},
   "outputs": [
    {
     "data": {
      "image/png": "[encoded data removed]",
      "text/plain": [
       "<Figure size 576x432 with 1 Axes>"
      ]
     },
     "metadata": {},
     "output_type": "display_data"
    },
    {
     "name": "stdout",
     "output_type": "stream",
     "text": [
      "t-statistic: -11.643\n",
      "p-value: 0.00000\n"
     ]
    }
   ],
   "source": [
    "# make nice figure aesthetics\n",
    "sns.set(style='whitegrid', context='talk', font_scale=1.2)\n",
    "\n",
    "# set up plot\n",
    "fig, ax = plt.subplots(figsize=(8, 6))\n",
    "\n",
    "# specify boxplot params\n",
    "sns.boxplot(\n",
    "    x='region',\n",
    "    y='darkness',\n",
    "    data=sun_df,\n",
    "    hue='region',\n",
    "    legend=False,\n",
    "    palette=[sun_west_median_color, sun_east_median_color],  # two shades of purple. could be the same, no preference here.\n",
    "    linewidth=3,\n",
    "    fliersize=4,\n",
    "    order=['West', 'East'],\n",
    "    hue_order=['West', 'East'],\n",
    "    ax=ax\n",
    ")\n",
    "\n",
    "# no labels/titles\n",
    "#ax.set_title('\"Darkness\" by Region (West vs. East)', fontsize=16, fontweight='bold', pad=15)\n",
    "ax.set_xlabel(None)\n",
    "ax.set_ylabel(None)\n",
    "\n",
    "# tick parameters\n",
    "ax.tick_params(axis='both', which='major', labelsize=13)\n",
    "\n",
    "# this helps push the horiz bars away from the y\n",
    "sns.despine(offset=10, trim=True)\n",
    "\n",
    "# let's see it!\n",
    "plt.tight_layout()\n",
    "plt.show()\n",
    "\n",
    "# t-test as well\n",
    "west_darkness = sun_df[sun_df['region'] == 'West']['darkness']\n",
    "east_darkness = sun_df[sun_df['region'] == 'East']['darkness']\n",
    "t_stat, p_value = ttest_ind(east_darkness, west_darkness, equal_var=False)\n",
    "\n",
    "# t-test results\n",
    "print(f\"t-statistic: {t_stat:.3f}\")\n",
    "print(f\"p-value: {p_value:.5f}\")"
   ]
  },
  {
   "cell_type": "markdown",
   "id": "8b219702-6975-4130-ba04-274132c11eee",
   "metadata": {},
   "source": [
    "## Shade individual boxplots"
   ]
  },
  {
   "cell_type": "code",
   "execution_count": 33,
   "id": "52ce6959-dc77-47fb-8216-813e91bdf4df",
   "metadata": {},
   "outputs": [
    {
     "data": {
      "image/png": "[encoded data removed]",
      "text/plain": [
       "<Figure size 576x432 with 1 Axes>"
      ]
     },
     "metadata": {},
     "output_type": "display_data"
    },
    {
     "name": "stdout",
     "output_type": "stream",
     "text": [
      "t-statistic: -9.004\n",
      "p-value: 0.00000\n"
     ]
    }
   ],
   "source": [
    "# make nice figure aesthetics\n",
    "sns.set(style='whitegrid', context='talk', font_scale=1.2)\n",
    "\n",
    "# set up plot\n",
    "fig, ax = plt.subplots(figsize=(8, 6))\n",
    "\n",
    "# specify boxplot params\n",
    "sns.boxplot(\n",
    "    x='region',\n",
    "    y='darkness',\n",
    "    data=shade_df,\n",
    "    hue='region',\n",
    "    legend=False,\n",
    "    palette=[shade_west_median_color, shade_east_median_color],  # two shades of purple. could be the same, no preference here.\n",
    "    linewidth=3,\n",
    "    fliersize=4,\n",
    "    order=['West', 'East'],\n",
    "    hue_order=['West', 'East'],\n",
    "    ax=ax\n",
    ")\n",
    "\n",
    "# no labels/titles\n",
    "#ax.set_title('\"Darkness\" by Region (West vs. East)', fontsize=16, fontweight='bold', pad=15)\n",
    "ax.set_xlabel(None)\n",
    "ax.set_ylabel(None)\n",
    "\n",
    "# tick parameters\n",
    "ax.tick_params(axis='both', which='major', labelsize=13)\n",
    "\n",
    "# this helps push the horiz bars away from the y\n",
    "sns.despine(offset=10, trim=True)\n",
    "\n",
    "# let's see it!\n",
    "plt.tight_layout()\n",
    "plt.show()\n",
    "\n",
    "# t-test as well\n",
    "west_darkness = shade_df[shade_df['region'] == 'West']['darkness']\n",
    "east_darkness = shade_df[shade_df['region'] == 'East']['darkness']\n",
    "t_stat, p_value = ttest_ind(east_darkness, west_darkness, equal_var=False)\n",
    "\n",
    "# t-test results\n",
    "print(f\"t-statistic: {t_stat:.3f}\")\n",
    "print(f\"p-value: {p_value:.5f}\")"
   ]
  },
  {
   "cell_type": "markdown",
   "id": "7e7cadbd-fb65-488a-93c6-a09858f7b5ff",
   "metadata": {},
   "source": [
    "## Partial individual boxplots"
   ]
  },
  {
   "cell_type": "code",
   "execution_count": 34,
   "id": "b7e02d10-cfda-4b94-b610-5b91d9188123",
   "metadata": {},
   "outputs": [
    {
     "data": {
      "image/png": "[encoded data removed]",
      "text/plain": [
       "<Figure size 576x432 with 1 Axes>"
      ]
     },
     "metadata": {},
     "output_type": "display_data"
    },
    {
     "name": "stdout",
     "output_type": "stream",
     "text": [
      "t-statistic: -4.750\n",
      "p-value: 0.00001\n"
     ]
    }
   ],
   "source": [
    "# make nice figure aesthetics\n",
    "sns.set(style='whitegrid', context='talk', font_scale=1.2)\n",
    "\n",
    "# set up plot\n",
    "fig, ax = plt.subplots(figsize=(8, 6))\n",
    "\n",
    "# specify boxplot params\n",
    "sns.boxplot(\n",
    "    x='region',\n",
    "    y='darkness',\n",
    "    data=partial_df,\n",
    "    hue='region',\n",
    "    legend=False,\n",
    "    palette=[partial_west_median_color, partial_east_median_color],  # two shades of purple. could be the same, no preference here.\n",
    "    linewidth=3,\n",
    "    fliersize=4,\n",
    "    order=['West', 'East'],\n",
    "    hue_order=['West', 'East'],\n",
    "    ax=ax\n",
    ")\n",
    "\n",
    "# no labels/titles\n",
    "#ax.set_title('\"Darkness\" by Region (West vs. East)', fontsize=16, fontweight='bold', pad=15)\n",
    "ax.set_xlabel(None)\n",
    "ax.set_ylabel(None)\n",
    "\n",
    "# tick parameters\n",
    "ax.tick_params(axis='both', which='major', labelsize=13)\n",
    "\n",
    "# this helps push the horiz bars away from the y\n",
    "sns.despine(offset=10, trim=True)\n",
    "\n",
    "# let's see it!\n",
    "plt.tight_layout()\n",
    "plt.show()\n",
    "\n",
    "# t-test as well\n",
    "west_darkness = partial_df[partial_df['region'] == 'West']['darkness']\n",
    "east_darkness = partial_df[partial_df['region'] == 'East']['darkness']\n",
    "t_stat, p_value = ttest_ind(east_darkness, west_darkness, equal_var=False)\n",
    "\n",
    "# t-test results\n",
    "print(f\"t-statistic: {t_stat:.3f}\")\n",
    "print(f\"p-value: {p_value:.5f}\")"
   ]
  },
  {
   "cell_type": "markdown",
   "id": "540ff922-bad0-48b8-bff8-3a2678d4ba69",
   "metadata": {},
   "source": [
    "## All three together:"
   ]
  },
  {
   "cell_type": "code",
   "execution_count": 35,
   "id": "b97efdc8-6ac6-409f-a19d-2ffe3c3e1844",
   "metadata": {},
   "outputs": [
    {
     "data": {
      "image/png": "[encoded data removed]",
      "text/plain": [
       "<Figure size 1296x432 with 3 Axes>"
      ]
     },
     "metadata": {},
     "output_type": "display_data"
    }
   ],
   "source": [
    "# make nice figure aesthetics\n",
    "sns.set(style='whitegrid', context='talk', font_scale=1.2)\n",
    "\n",
    "# 1 row, 3 columns, share y-axis\n",
    "fig, axes = plt.subplots(ncols=3, sharey=True, figsize=(18, 6))\n",
    "\n",
    "# PLOT 1: sun_df\n",
    "sns.boxplot(\n",
    "    x='region', y='darkness', data=sun_df,\n",
    "    hue='region', legend=False,\n",
    "    palette=[sun_west_median_color, sun_east_median_color],\n",
    "    linewidth=3, fliersize=4,\n",
    "    order=['West', 'East'], hue_order=['West', 'East'],\n",
    "    ax=axes[0]\n",
    ")\n",
    "axes[0].set_title('Sun')\n",
    "axes[0].set_xlabel(None)\n",
    "axes[0].set_ylabel(None)\n",
    "axes[0].tick_params(axis='both', which='major', labelsize=13)\n",
    "sns.despine(ax=axes[0], offset=10, trim=True)\n",
    "\n",
    "# PLOT 2: partial_df\n",
    "sns.boxplot(\n",
    "    x='region', y='darkness', data=partial_df,\n",
    "    hue='region', legend=False,\n",
    "    palette=[partial_west_median_color, partial_east_median_color],\n",
    "    linewidth=3, fliersize=4,\n",
    "    order=['West', 'East'], hue_order=['West', 'East'],\n",
    "    ax=axes[1]\n",
    ")\n",
    "axes[1].set_title('Partial Sun')\n",
    "axes[1].set_xlabel(None)\n",
    "axes[1].set_ylabel(None)\n",
    "axes[1].tick_params(axis='both', which='major', labelsize=13)\n",
    "sns.despine(ax=axes[1], offset=10, trim=True)\n",
    "\n",
    "# PLOT 3: shade_df\n",
    "sns.boxplot(\n",
    "    x='region', y='darkness', data=shade_df,\n",
    "    hue='region', legend=False,\n",
    "    palette=[shade_west_median_color, shade_east_median_color],\n",
    "    linewidth=3, fliersize=4,\n",
    "    order=['West', 'East'], hue_order=['West', 'East'],\n",
    "    ax=axes[2]\n",
    ")\n",
    "axes[2].set_title('Shade')\n",
    "axes[2].set_xlabel(None)\n",
    "axes[2].set_ylabel(None)\n",
    "axes[2].tick_params(axis='both', which='major', labelsize=13)\n",
    "sns.despine(ax=axes[2], offset=10, trim=True)\n",
    "\n",
    "# y label\n",
    "fig.text(0.04, 0.5, 'Darkness', va='center', rotation='vertical', fontsize=16)\n",
    "\n",
    "plt.tight_layout(rect=[0.05, 0, 1, 1])\n",
    "plt.show()"
   ]
  },
  {
   "cell_type": "markdown",
   "id": "568d0528-9415-4718-9014-56fefb8d6c03",
   "metadata": {},
   "source": [
    "# ~~~~~~~~~~~~~~~~~~~~~"
   ]
  },
  {
   "cell_type": "markdown",
   "id": "f068655c-5c0b-4e08-b6f5-5f2e842a5ee7",
   "metadata": {},
   "source": [
    "# ~~~~~~~~~~~~~~~~~~~~~"
   ]
  },
  {
   "cell_type": "markdown",
   "id": "321b7360-bffa-4af0-a373-569c79bb4100",
   "metadata": {},
   "source": [
    "# ~~~~~~~~~~~~~~~~~~~~~"
   ]
  },
  {
   "cell_type": "markdown",
   "id": "d1743dcc-3676-4eb8-998a-9c52c33b6a49",
   "metadata": {},
   "source": [
    "# Intersected Validation"
   ]
  },
  {
   "cell_type": "markdown",
   "id": "56c18af6-a915-4d47-abab-6c5a9ec3c5aa",
   "metadata": {},
   "source": [
    "#### cohen's k for agreement"
   ]
  },
  {
   "cell_type": "code",
   "execution_count": 36,
   "id": "5797fbd6-be98-4910-9e54-b6c039ae19c5",
   "metadata": {},
   "outputs": [
    {
     "name": "stdout",
     "output_type": "stream",
     "text": [
      "Cohen's κ = 0.586\n"
     ]
    }
   ],
   "source": [
    "kappa = cohen_kappa_score(np.array(sam_val.lighting), np.array(robin_val.lighting))\n",
    "print(f\"Cohen's κ = {kappa:.3f}\")"
   ]
  },
  {
   "cell_type": "code",
   "execution_count": 37,
   "id": "1787da12-2cc3-4ec0-a45b-5c5f2291abaf",
   "metadata": {},
   "outputs": [
    {
     "name": "stdout",
     "output_type": "stream",
     "text": [
      "95% CI: 0.525 - 0.647\n"
     ]
    }
   ],
   "source": [
    "N = len(np.array(sam_val.lighting)); nboot = 10_000\n",
    "boot = [ cohen_kappa_score(np.array(sam_val.lighting)[idx], np.array(robin_val.lighting)[idx]) for idx in np.random.randint(0, N, (nboot, N)) ]\n",
    "lo, hi = np.percentile(boot, [2.5, 97.5])\n",
    "print(f\"95% CI: {lo:.3f} - {hi:.3f}\")"
   ]
  },
  {
   "cell_type": "markdown",
   "id": "6c8adb3f-6246-40ae-8732-aacc95361322",
   "metadata": {},
   "source": [
    "#### consensus dataset"
   ]
  },
  {
   "cell_type": "code",
   "execution_count": 38,
   "id": "7d0d832f-efc9-422d-adb2-ea7c3c76bb48",
   "metadata": {},
   "outputs": [
    {
     "data": {
      "text/html": [
       "<div>\n",
       "<style scoped>\n",
       "    .dataframe tbody tr th:only-of-type {\n",
       "        vertical-align: middle;\n",
       "    }\n",
       "\n",
       "    .dataframe tbody tr th {\n",
       "        vertical-align: top;\n",
       "    }\n",
       "\n",
       "    .dataframe thead th {\n",
       "        text-align: right;\n",
       "    }\n",
       "</style>\n",
       "<table border=\"1\" class=\"dataframe\">\n",
       "  <thead>\n",
       "    <tr style=\"text-align: right;\">\n",
       "      <th></th>\n",
       "      <th>image_idx</th>\n",
       "      <th>lighting</th>\n",
       "      <th>monarda</th>\n",
       "    </tr>\n",
       "  </thead>\n",
       "  <tbody>\n",
       "    <tr>\n",
       "      <th>0</th>\n",
       "      <td>10</td>\n",
       "      <td>h</td>\n",
       "      <td>NaN</td>\n",
       "    </tr>\n",
       "    <tr>\n",
       "      <th>1</th>\n",
       "      <td>143</td>\n",
       "      <td>s</td>\n",
       "      <td>NaN</td>\n",
       "    </tr>\n",
       "    <tr>\n",
       "      <th>2</th>\n",
       "      <td>177</td>\n",
       "      <td>s</td>\n",
       "      <td>NaN</td>\n",
       "    </tr>\n",
       "    <tr>\n",
       "      <th>4</th>\n",
       "      <td>531</td>\n",
       "      <td>h</td>\n",
       "      <td>NaN</td>\n",
       "    </tr>\n",
       "    <tr>\n",
       "      <th>6</th>\n",
       "      <td>552</td>\n",
       "      <td>s</td>\n",
       "      <td>NaN</td>\n",
       "    </tr>\n",
       "    <tr>\n",
       "      <th>...</th>\n",
       "      <td>...</td>\n",
       "      <td>...</td>\n",
       "      <td>...</td>\n",
       "    </tr>\n",
       "    <tr>\n",
       "      <th>494</th>\n",
       "      <td>40709</td>\n",
       "      <td>h</td>\n",
       "      <td>NaN</td>\n",
       "    </tr>\n",
       "    <tr>\n",
       "      <th>496</th>\n",
       "      <td>40772</td>\n",
       "      <td>s</td>\n",
       "      <td>NaN</td>\n",
       "    </tr>\n",
       "    <tr>\n",
       "      <th>497</th>\n",
       "      <td>40822</td>\n",
       "      <td>s</td>\n",
       "      <td>NaN</td>\n",
       "    </tr>\n",
       "    <tr>\n",
       "      <th>498</th>\n",
       "      <td>40894</td>\n",
       "      <td>h</td>\n",
       "      <td>NaN</td>\n",
       "    </tr>\n",
       "    <tr>\n",
       "      <th>499</th>\n",
       "      <td>40990</td>\n",
       "      <td>s</td>\n",
       "      <td>NaN</td>\n",
       "    </tr>\n",
       "  </tbody>\n",
       "</table>\n",
       "<p>371 rows × 3 columns</p>\n",
       "</div>"
      ],
      "text/plain": [
       "     image_idx lighting  monarda\n",
       "0           10        h      NaN\n",
       "1          143        s      NaN\n",
       "2          177        s      NaN\n",
       "4          531        h      NaN\n",
       "6          552        s      NaN\n",
       "..         ...      ...      ...\n",
       "494      40709        h      NaN\n",
       "496      40772        s      NaN\n",
       "497      40822        s      NaN\n",
       "498      40894        h      NaN\n",
       "499      40990        s      NaN\n",
       "\n",
       "[371 rows x 3 columns]"
      ]
     },
     "execution_count": 38,
     "metadata": {},
     "output_type": "execute_result"
    }
   ],
   "source": [
    "# pull out all the rows where Robin and Sam agree\n",
    "intersected_val = robin_val[np.array(sam_val.lighting) == np.array(robin_val.lighting)]\n",
    "intersected_val"
   ]
  },
  {
   "cell_type": "code",
   "execution_count": 39,
   "id": "cd3cfe69-eb25-4e9e-8b70-3fc90c4972b1",
   "metadata": {},
   "outputs": [
    {
     "data": {
      "text/plain": [
       "0.742"
      ]
     },
     "execution_count": 39,
     "metadata": {},
     "output_type": "execute_result"
    }
   ],
   "source": [
    "# percent agreement\n",
    "371/500"
   ]
  },
  {
   "cell_type": "code",
   "execution_count": 40,
   "id": "3292f83b-9e4f-42d7-9580-c0cb465f6695",
   "metadata": {},
   "outputs": [],
   "source": [
    "sunlist = list(intersected_val[intersected_val.lighting.eq('s')].image_idx)\n",
    "shadelist = list(intersected_val[intersected_val.lighting.eq('h')].image_idx)\n",
    "partiallist = list(intersected_val[intersected_val.lighting.eq('p')].image_idx)"
   ]
  },
  {
   "cell_type": "code",
   "execution_count": 41,
   "id": "5a6529a0-7acc-4263-bbdf-374b5043b89b",
   "metadata": {},
   "outputs": [],
   "source": [
    "sun_df = color_df[(color_df.image_idx.isin(sunlist))]\n",
    "shade_df = color_df[(color_df.image_idx.isin(shadelist))]\n",
    "partial_df = color_df[(color_df.image_idx.isin(partiallist))]"
   ]
  },
  {
   "cell_type": "code",
   "execution_count": 42,
   "id": "88d4e684-5470-47e2-afd9-d6d5004672b4",
   "metadata": {},
   "outputs": [
    {
     "name": "stdout",
     "output_type": "stream",
     "text": [
      "Number of overall sun observations: 182\n",
      "    West: 90\n",
      "    East: 92\n",
      "Number of overall shade observations: 141\n",
      "    West: 68\n",
      "    East: 73\n",
      "Number of overall partial observations: 48\n",
      "    West: 26\n",
      "    East: 22\n"
     ]
    }
   ],
   "source": [
    "print(f\"Number of overall sun observations: {len(sunlist)}\")\n",
    "print(f\"    West: {np.sum(sun_df.longitude < -100)}\")\n",
    "print(f\"    East: {np.sum(sun_df.longitude > -100)}\")\n",
    "print(f\"Number of overall shade observations: {len(shadelist)}\")\n",
    "print(f\"    West: {np.sum(shade_df.longitude < -100)}\")\n",
    "print(f\"    East: {np.sum(shade_df.longitude > -100)}\")\n",
    "print(f\"Number of overall partial observations: {len(partiallist)}\")\n",
    "print(f\"    West: {np.sum(partial_df.longitude < -100)}\")\n",
    "print(f\"    East: {np.sum(partial_df.longitude > -100)}\")"
   ]
  },
  {
   "cell_type": "code",
   "execution_count": 43,
   "id": "dc73a328-b6e5-45d9-893e-04d0d4f43d4a",
   "metadata": {},
   "outputs": [
    {
     "name": "stdout",
     "output_type": "stream",
     "text": [
      "χ² = 0.51, df = 2, p-value = 0.7755\n"
     ]
    }
   ],
   "source": [
    "# replace these with your actual counts\n",
    "table = np.array([[np.sum(sun_df.longitude < -100), np.sum(shade_df.longitude < -100), np.sum(partial_df.longitude < -100)],\n",
    "                  [np.sum(sun_df.longitude > -100), np.sum(shade_df.longitude > -100), np.sum(partial_df.longitude > -100)]])\n",
    "\n",
    "chi2, p, dof, expected = chi2_contingency(table, correction=False) # two degrees of freedom so no yates correction\n",
    "print(f\"χ² = {chi2:.2f}, df = {dof}, p-value = {p:.4f}\")"
   ]
  },
  {
   "cell_type": "markdown",
   "id": "aaf96293-2c8a-45b0-a856-10193fd8159f",
   "metadata": {},
   "source": [
    "# Boxplots"
   ]
  },
  {
   "cell_type": "markdown",
   "id": "55f0cbf2-0df3-4817-8639-e24d9bd4ac4c",
   "metadata": {},
   "source": [
    "## get median color for each region"
   ]
  },
  {
   "cell_type": "code",
   "execution_count": 44,
   "id": "ab0fb3ee-eadb-4ef3-b05c-88f6238380b9",
   "metadata": {},
   "outputs": [],
   "source": [
    "# conversion functions (from notebook 5)\n",
    "def rgb_to_hex(rgb):\n",
    "    # rgb should be a tuple like (R, G, B)\n",
    "    return '#{:02x}{:02x}{:02x}'.format(*rgb)\n",
    "def lab_to_rgb(lab):\n",
    "    \"\"\"convert (L,a,b) in OpenCV's Lab to (r,g,b) in [0,255]\"\"\"\n",
    "    arr = np.array([[lab]], dtype=np.uint8)\n",
    "    rgb = cv2.cvtColor(arr, cv2.COLOR_LAB2RGB)[0][0]\n",
    "    return tuple(int(x) for x in rgb)"
   ]
  },
  {
   "cell_type": "code",
   "execution_count": 45,
   "id": "81e71fb7-0390-4ada-9049-43b88d45c8b9",
   "metadata": {},
   "outputs": [],
   "source": [
    "#####\n",
    "#SUN#\n",
    "#####\n",
    "\n",
    "### WEST\n",
    "west_sun = list(sun_df[sun_df.region.eq('West')].lab)\n",
    "west_sun = [i.strip('()').split(', ') for i in west_sun]\n",
    "west_sun = [[float(q) for q in i] for i in west_sun]\n",
    "\n",
    "median_lab = np.median(west_sun,axis=0) # lab color\n",
    "sun_west_median_color = rgb_to_hex(lab_to_rgb(median_lab)) # hex color\n",
    "\n",
    "### EAST\n",
    "east_sun = list(sun_df[sun_df.region.eq('East')].lab)\n",
    "east_sun = [i.strip('()').split(', ') for i in east_sun]\n",
    "east_sun = [[float(q) for q in i] for i in east_sun]\n",
    "\n",
    "median_lab = np.median(east_sun,axis=0) # lab color\n",
    "sun_east_median_color = rgb_to_hex(lab_to_rgb(median_lab)) # hex color\n",
    "\n",
    "#######\n",
    "#SHADE#\n",
    "#######\n",
    "\n",
    "### WEST\n",
    "west_shade = list(shade_df[shade_df.region.eq('West')].lab)\n",
    "west_shade = [i.strip('()').split(', ') for i in west_shade]\n",
    "west_shade = [[float(q) for q in i] for i in west_shade]\n",
    "\n",
    "median_lab = np.median(west_shade,axis=0) # lab color\n",
    "shade_west_median_color = rgb_to_hex(lab_to_rgb(median_lab)) # hex color\n",
    "\n",
    "### EAST\n",
    "east_shade = list(shade_df[shade_df.region.eq('East')].lab)\n",
    "east_shade = [i.strip('()').split(', ') for i in east_shade]\n",
    "east_shade = [[float(q) for q in i] for i in east_shade]\n",
    "\n",
    "median_lab = np.median(east_shade,axis=0) # lab color\n",
    "shade_east_median_color = rgb_to_hex(lab_to_rgb(median_lab)) # hex color\n",
    "\n",
    "\n",
    "#########\n",
    "#PARTIAL#\n",
    "#########\n",
    "\n",
    "### WEST\n",
    "west_partial = list(partial_df[partial_df.region.eq('West')].lab)\n",
    "west_partial = [i.strip('()').split(', ') for i in west_partial]\n",
    "west_partial = [[float(q) for q in i] for i in west_partial]\n",
    "\n",
    "median_lab = np.median(west_partial,axis=0) # lab color\n",
    "partial_west_median_color = rgb_to_hex(lab_to_rgb(median_lab)) # hex color\n",
    "\n",
    "### EAST\n",
    "east_partial = list(partial_df[partial_df.region.eq('East')].lab)\n",
    "east_partial = [i.strip('()').split(', ') for i in east_partial]\n",
    "east_partial = [[float(q) for q in i] for i in east_partial]\n",
    "\n",
    "median_lab = np.median(east_partial,axis=0) # lab color\n",
    "partial_east_median_color = rgb_to_hex(lab_to_rgb(median_lab)) # hex color"
   ]
  },
  {
   "cell_type": "markdown",
   "id": "46b35331-8426-42a9-9d1d-785bc533ad2a",
   "metadata": {},
   "source": [
    "## Sun individual boxplots"
   ]
  },
  {
   "cell_type": "code",
   "execution_count": 46,
   "id": "c8fb153e-ba6d-4f4c-8434-8e4e5cda68f0",
   "metadata": {},
   "outputs": [
    {
     "data": {
      "image/png": "[encoded data removed]",
      "text/plain": [
       "<Figure size 576x432 with 1 Axes>"
      ]
     },
     "metadata": {},
     "output_type": "display_data"
    },
    {
     "name": "stdout",
     "output_type": "stream",
     "text": [
      "t-statistic: -10.840\n",
      "p-value: 0.00000\n"
     ]
    }
   ],
   "source": [
    "# make nice figure aesthetics\n",
    "sns.set(style='whitegrid', context='talk', font_scale=1.2)\n",
    "\n",
    "# set up plot\n",
    "fig, ax = plt.subplots(figsize=(8, 6))\n",
    "\n",
    "# specify boxplot params\n",
    "sns.boxplot(\n",
    "    x='region',\n",
    "    y='darkness',\n",
    "    data=sun_df,\n",
    "    hue='region',\n",
    "    legend=False,\n",
    "    palette=[sun_west_median_color, sun_east_median_color],  # two shades of purple. could be the same, no preference here.\n",
    "    linewidth=3,\n",
    "    fliersize=4,\n",
    "    order=['West', 'East'],\n",
    "    hue_order=['West', 'East'],\n",
    "    ax=ax\n",
    ")\n",
    "\n",
    "# no labels/titles\n",
    "#ax.set_title('\"Darkness\" by Region (West vs. East)', fontsize=16, fontweight='bold', pad=15)\n",
    "ax.set_xlabel(None)\n",
    "ax.set_ylabel(None)\n",
    "\n",
    "# tick parameters\n",
    "ax.tick_params(axis='both', which='major', labelsize=13)\n",
    "\n",
    "# this helps push the horiz bars away from the y\n",
    "sns.despine(offset=10, trim=True)\n",
    "\n",
    "# let's see it!\n",
    "plt.tight_layout()\n",
    "plt.show()\n",
    "\n",
    "# t-test as well\n",
    "west_darkness = sun_df[sun_df['region'] == 'West']['darkness']\n",
    "east_darkness = sun_df[sun_df['region'] == 'East']['darkness']\n",
    "t_stat, p_value = ttest_ind(east_darkness, west_darkness, equal_var=False)\n",
    "\n",
    "# t-test results\n",
    "print(f\"t-statistic: {t_stat:.3f}\")\n",
    "print(f\"p-value: {p_value:.5f}\")"
   ]
  },
  {
   "cell_type": "markdown",
   "id": "8d2629b8-cf29-4a74-81e0-53ed07ba8649",
   "metadata": {},
   "source": [
    "## Shade individual boxplots"
   ]
  },
  {
   "cell_type": "code",
   "execution_count": 47,
   "id": "270dff36-90f2-4ca0-a94b-316446de71c0",
   "metadata": {},
   "outputs": [
    {
     "data": {
      "image/png": "[encoded data removed]",
      "text/plain": [
       "<Figure size 576x432 with 1 Axes>"
      ]
     },
     "metadata": {},
     "output_type": "display_data"
    },
    {
     "name": "stdout",
     "output_type": "stream",
     "text": [
      "t-statistic: -8.563\n",
      "p-value: 0.00000\n"
     ]
    }
   ],
   "source": [
    "# make nice figure aesthetics\n",
    "sns.set(style='whitegrid', context='talk', font_scale=1.2)\n",
    "\n",
    "# set up plot\n",
    "fig, ax = plt.subplots(figsize=(8, 6))\n",
    "\n",
    "# specify boxplot params\n",
    "sns.boxplot(\n",
    "    x='region',\n",
    "    y='darkness',\n",
    "    data=shade_df,\n",
    "    hue='region',\n",
    "    legend=False,\n",
    "    palette=[shade_west_median_color, shade_east_median_color],  # two shades of purple. could be the same, no preference here.\n",
    "    linewidth=3,\n",
    "    fliersize=4,\n",
    "    order=['West', 'East'],\n",
    "    hue_order=['West', 'East'],\n",
    "    ax=ax\n",
    ")\n",
    "\n",
    "# no labels/titles\n",
    "#ax.set_title('\"Darkness\" by Region (West vs. East)', fontsize=16, fontweight='bold', pad=15)\n",
    "ax.set_xlabel(None)\n",
    "ax.set_ylabel(None)\n",
    "\n",
    "# tick parameters\n",
    "ax.tick_params(axis='both', which='major', labelsize=13)\n",
    "\n",
    "# this helps push the horiz bars away from the y\n",
    "sns.despine(offset=10, trim=True)\n",
    "\n",
    "# let's see it!\n",
    "plt.tight_layout()\n",
    "plt.show()\n",
    "\n",
    "# t-test as well\n",
    "west_darkness = shade_df[shade_df['region'] == 'West']['darkness']\n",
    "east_darkness = shade_df[shade_df['region'] == 'East']['darkness']\n",
    "t_stat, p_value = ttest_ind(east_darkness, west_darkness, equal_var=False)\n",
    "\n",
    "# t-test results\n",
    "print(f\"t-statistic: {t_stat:.3f}\")\n",
    "print(f\"p-value: {p_value:.5f}\")"
   ]
  },
  {
   "cell_type": "markdown",
   "id": "6e17f678-ea5a-4605-90bb-e2a0568d5462",
   "metadata": {},
   "source": [
    "## Partial individual boxplots"
   ]
  },
  {
   "cell_type": "code",
   "execution_count": 48,
   "id": "32b61b92-9c0a-461e-9b4a-e601bfb7280b",
   "metadata": {},
   "outputs": [
    {
     "data": {
      "image/png": "[encoded data removed]",
      "text/plain": [
       "<Figure size 576x432 with 1 Axes>"
      ]
     },
     "metadata": {},
     "output_type": "display_data"
    },
    {
     "name": "stdout",
     "output_type": "stream",
     "text": [
      "t-statistic: -3.399\n",
      "p-value: 0.00142\n"
     ]
    }
   ],
   "source": [
    "# make nice figure aesthetics\n",
    "sns.set(style='whitegrid', context='talk', font_scale=1.2)\n",
    "\n",
    "# set up plot\n",
    "fig, ax = plt.subplots(figsize=(8, 6))\n",
    "\n",
    "# specify boxplot params\n",
    "sns.boxplot(\n",
    "    x='region',\n",
    "    y='darkness',\n",
    "    data=partial_df,\n",
    "    hue='region',\n",
    "    legend=False,\n",
    "    palette=[partial_west_median_color, partial_east_median_color],  # two shades of purple. could be the same, no preference here.\n",
    "    linewidth=3,\n",
    "    fliersize=4,\n",
    "    order=['West', 'East'],\n",
    "    hue_order=['West', 'East'],\n",
    "    ax=ax\n",
    ")\n",
    "\n",
    "# no labels/titles\n",
    "#ax.set_title('\"Darkness\" by Region (West vs. East)', fontsize=16, fontweight='bold', pad=15)\n",
    "ax.set_xlabel(None)\n",
    "ax.set_ylabel(None)\n",
    "\n",
    "# tick parameters\n",
    "ax.tick_params(axis='both', which='major', labelsize=13)\n",
    "\n",
    "# this helps push the horiz bars away from the y\n",
    "sns.despine(offset=10, trim=True)\n",
    "\n",
    "# let's see it!\n",
    "plt.tight_layout()\n",
    "plt.show()\n",
    "\n",
    "# t-test as well\n",
    "west_darkness = partial_df[partial_df['region'] == 'West']['darkness']\n",
    "east_darkness = partial_df[partial_df['region'] == 'East']['darkness']\n",
    "t_stat, p_value = ttest_ind(east_darkness, west_darkness, equal_var=False)\n",
    "\n",
    "# t-test results\n",
    "print(f\"t-statistic: {t_stat:.3f}\")\n",
    "print(f\"p-value: {p_value:.5f}\")"
   ]
  },
  {
   "cell_type": "markdown",
   "id": "979daec7-d142-450b-b988-69c7b14dc1e4",
   "metadata": {},
   "source": [
    "## All three together:"
   ]
  },
  {
   "cell_type": "code",
   "execution_count": 49,
   "id": "a1e6a057-cc6a-4d46-9232-b58a99cf8711",
   "metadata": {},
   "outputs": [
    {
     "data": {
      "image/png": "[encoded data removed]",
      "text/plain": [
       "<Figure size 1296x432 with 3 Axes>"
      ]
     },
     "metadata": {},
     "output_type": "display_data"
    }
   ],
   "source": [
    "# make nice figure aesthetics\n",
    "sns.set(style='whitegrid', context='talk', font_scale=1.2)\n",
    "\n",
    "# 1 row, 3 columns, share y-axis\n",
    "fig, axes = plt.subplots(ncols=3, sharey=True, figsize=(18, 6))\n",
    "\n",
    "# PLOT 1: sun_df\n",
    "sns.boxplot(\n",
    "    x='region', y='darkness', data=sun_df,\n",
    "    hue='region', legend=False,\n",
    "    palette=[sun_west_median_color, sun_east_median_color],\n",
    "    linewidth=3, fliersize=4,\n",
    "    order=['West', 'East'], hue_order=['West', 'East'],\n",
    "    ax=axes[0]\n",
    ")\n",
    "axes[0].set_title('Sun')\n",
    "axes[0].set_xlabel(None)\n",
    "axes[0].set_ylabel(None)\n",
    "axes[0].tick_params(axis='both', which='major', labelsize=13)\n",
    "sns.despine(ax=axes[0], offset=10, trim=True)\n",
    "\n",
    "# PLOT 2: partial_df\n",
    "sns.boxplot(\n",
    "    x='region', y='darkness', data=partial_df,\n",
    "    hue='region', legend=False,\n",
    "    palette=[partial_west_median_color, partial_east_median_color],\n",
    "    linewidth=3, fliersize=4,\n",
    "    order=['West', 'East'], hue_order=['West', 'East'],\n",
    "    ax=axes[1]\n",
    ")\n",
    "axes[1].set_title('Partial Sun')\n",
    "axes[1].set_xlabel(None)\n",
    "axes[1].set_ylabel(None)\n",
    "axes[1].tick_params(axis='both', which='major', labelsize=13)\n",
    "sns.despine(ax=axes[1], offset=10, trim=True)\n",
    "\n",
    "# PLOT 3: shade_df\n",
    "sns.boxplot(\n",
    "    x='region', y='darkness', data=shade_df,\n",
    "    hue='region', legend=False,\n",
    "    palette=[shade_west_median_color, shade_east_median_color],\n",
    "    linewidth=3, fliersize=4,\n",
    "    order=['West', 'East'], hue_order=['West', 'East'],\n",
    "    ax=axes[2]\n",
    ")\n",
    "axes[2].set_title('Shade')\n",
    "axes[2].set_xlabel(None)\n",
    "axes[2].set_ylabel(None)\n",
    "axes[2].tick_params(axis='both', which='major', labelsize=13)\n",
    "sns.despine(ax=axes[2], offset=10, trim=True)\n",
    "\n",
    "# y label\n",
    "fig.text(0.04, 0.5, 'Darkness', va='center', rotation='vertical', fontsize=16)\n",
    "\n",
    "plt.tight_layout(rect=[0.05, 0, 1, 1])\n",
    "plt.show()"
   ]
  },
  {
   "cell_type": "markdown",
   "id": "998be671-8782-4772-ba82-5d16aa47c49c",
   "metadata": {},
   "source": [
    "# ANOVA"
   ]
  },
  {
   "cell_type": "markdown",
   "id": "058523a2-826d-448e-9c1e-406b0a4d3dfb",
   "metadata": {},
   "source": [
    "# first, with intersected data"
   ]
  },
  {
   "cell_type": "code",
   "execution_count": 50,
   "id": "b1da3f66-a44e-41ca-b5cc-ff7097f650b1",
   "metadata": {},
   "outputs": [],
   "source": [
    "# color ~ geo + light + geo*light"
   ]
  },
  {
   "cell_type": "code",
   "execution_count": 51,
   "id": "baa5f34f-8d9f-481d-af44-eb7150714036",
   "metadata": {},
   "outputs": [],
   "source": [
    "subdf_full = color_df[color_df.image_idx.isin(intersected_val.image_idx)]\n",
    "\n",
    "# merge with the labels\n",
    "subdf_full = subdf_full.merge(right=intersected_val,on=\"image_idx\")"
   ]
  },
  {
   "cell_type": "code",
   "execution_count": 52,
   "id": "29472517-729a-4675-adaf-c271095f4a2e",
   "metadata": {},
   "outputs": [],
   "source": [
    "# clean up the df for readability\n",
    "sub = subdf_full.copy()\n",
    "sub[\"region\"]   = sub[\"region\"].astype(\"category\")\n",
    "sub[\"lighting\"] = sub[\"lighting\"].map({\"s\":\"Sun\", \"h\":\"Shade\", \"p\":\"Partial\"}).astype(\"category\")"
   ]
  },
  {
   "cell_type": "code",
   "execution_count": 53,
   "id": "f69ba4c1-6e55-47ea-b20f-485eafc59739",
   "metadata": {},
   "outputs": [
    {
     "name": "stdout",
     "output_type": "stream",
     "text": [
      "                            OLS Regression Results                            \n",
      "==============================================================================\n",
      "Dep. Variable:               darkness   R-squared:                       0.473\n",
      "Model:                            OLS   Adj. R-squared:                  0.466\n",
      "Method:                 Least Squares   F-statistic:                     65.48\n",
      "Date:                Mon, 28 Apr 2025   Prob (F-statistic):           1.10e-48\n",
      "Time:                        23:32:19   Log-Likelihood:                 469.87\n",
      "No. Observations:                 371   AIC:                            -927.7\n",
      "Df Residuals:                     365   BIC:                            -904.2\n",
      "Df Model:                           5                                         \n",
      "Covariance Type:            nonrobust                                         \n",
      "==========================================================================================================\n",
      "                                             coef    std err          t      P>|t|      [0.025      0.975]\n",
      "----------------------------------------------------------------------------------------------------------\n",
      "Intercept                                  0.3291      0.015     22.449      0.000       0.300       0.358\n",
      "C(region)[T.West]                          0.0841      0.020      4.221      0.000       0.045       0.123\n",
      "C(lighting)[T.Shade]                      -0.0280      0.017     -1.672      0.095      -0.061       0.005\n",
      "C(lighting)[T.Sun]                        -0.1026      0.016     -6.287      0.000      -0.135      -0.070\n",
      "C(region)[T.West]:C(lighting)[T.Shade]     0.0198      0.023      0.861      0.390      -0.025       0.065\n",
      "C(region)[T.West]:C(lighting)[T.Sun]       0.0138      0.022      0.616      0.538      -0.030       0.058\n",
      "==============================================================================\n",
      "Omnibus:                        4.515   Durbin-Watson:                   2.174\n",
      "Prob(Omnibus):                  0.105   Jarque-Bera (JB):                5.206\n",
      "Skew:                           0.117   Prob(JB):                       0.0741\n",
      "Kurtosis:                       3.531   Cond. No.                         15.7\n",
      "==============================================================================\n",
      "\n",
      "Notes:\n",
      "[1] Standard Errors assume that the covariance matrix of the errors is correctly specified.\n"
     ]
    }
   ],
   "source": [
    "# details here: https://www.statsmodels.org/stable/example_formulas.html\n",
    "# fit ols model\n",
    "# rresp ~ main effects + interaction\n",
    "mod = smf.ols('darkness ~ C(region) * C(lighting)', data=sub).fit()\n",
    "\n",
    "print(mod.summary())          # coefficient table"
   ]
  },
  {
   "cell_type": "code",
   "execution_count": 54,
   "id": "6eedd8a4-f07e-48a0-a5f9-1783bf356fac",
   "metadata": {},
   "outputs": [
    {
     "name": "stdout",
     "output_type": "stream",
     "text": [
      "                         sum_sq     df           F        PR(>F)\n",
      "C(region)              0.896386    1.0  189.646608  4.861217e-35\n",
      "C(lighting)            0.634677    2.0   67.138670  1.482720e-25\n",
      "C(region):C(lighting)  0.003533    2.0    0.373776  6.883943e-01\n",
      "Residual               1.725214  365.0         NaN           NaN\n"
     ]
    }
   ],
   "source": [
    "print(anova_lm(mod, typ=2)) # anova for the lin model"
   ]
  },
  {
   "cell_type": "markdown",
   "id": "4d6b2e55-2625-42b6-bbb1-d3b3acd80f01",
   "metadata": {},
   "source": [
    "### Now remove the interaction term"
   ]
  },
  {
   "cell_type": "code",
   "execution_count": 55,
   "id": "69133f93-eec9-4ac2-a4e8-14d1ddc791ec",
   "metadata": {},
   "outputs": [
    {
     "name": "stdout",
     "output_type": "stream",
     "text": [
      "                            OLS Regression Results                            \n",
      "==============================================================================\n",
      "Dep. Variable:               darkness   R-squared:                       0.472\n",
      "Model:                            OLS   Adj. R-squared:                  0.467\n",
      "Method:                 Least Squares   F-statistic:                     109.3\n",
      "Date:                Mon, 28 Apr 2025   Prob (F-statistic):           1.45e-50\n",
      "Time:                        23:32:19   Log-Likelihood:                 469.49\n",
      "No. Observations:                 371   AIC:                            -931.0\n",
      "Df Residuals:                     367   BIC:                            -915.3\n",
      "Df Model:                           3                                         \n",
      "Covariance Type:            nonrobust                                         \n",
      "========================================================================================\n",
      "                           coef    std err          t      P>|t|      [0.025      0.975]\n",
      "----------------------------------------------------------------------------------------\n",
      "Intercept                0.3213      0.011     30.218      0.000       0.300       0.342\n",
      "C(region)[T.West]        0.0984      0.007     13.795      0.000       0.084       0.112\n",
      "C(lighting)[T.Shade]    -0.0175      0.011     -1.528      0.127      -0.040       0.005\n",
      "C(lighting)[T.Sun]      -0.0951      0.011     -8.536      0.000      -0.117      -0.073\n",
      "==============================================================================\n",
      "Omnibus:                        4.793   Durbin-Watson:                   2.171\n",
      "Prob(Omnibus):                  0.091   Jarque-Bera (JB):                5.722\n",
      "Skew:                           0.111   Prob(JB):                       0.0572\n",
      "Kurtosis:                       3.566   Cond. No.                         6.55\n",
      "==============================================================================\n",
      "\n",
      "Notes:\n",
      "[1] Standard Errors assume that the covariance matrix of the errors is correctly specified.\n"
     ]
    }
   ],
   "source": [
    "mod_add = smf.ols('darkness ~ C(region) + C(lighting)', data=sub).fit()\n",
    "print(mod_add.summary())          # coefficient table"
   ]
  },
  {
   "cell_type": "code",
   "execution_count": 56,
   "id": "8ea1e4cd-88a9-45c5-964e-2438f16d9671",
   "metadata": {},
   "outputs": [
    {
     "name": "stdout",
     "output_type": "stream",
     "text": [
      "               sum_sq     df           F        PR(>F)\n",
      "C(region)    0.896386    1.0  190.296025  3.629527e-35\n",
      "C(lighting)  0.634677    2.0   67.368576  1.199027e-25\n",
      "Residual     1.728747  367.0         NaN           NaN\n"
     ]
    }
   ],
   "source": [
    "print(anova_lm(mod_add, typ=2)) # anova for the lin model"
   ]
  },
  {
   "cell_type": "code",
   "execution_count": 57,
   "id": "9f94eca0-985a-4b64-af15-8b645f360b8e",
   "metadata": {},
   "outputs": [
    {
     "name": "stdout",
     "output_type": "stream",
     "text": [
      "  region lighting  mean_darkness   n\n",
      "0   East  Partial       0.321303  22\n",
      "1   East    Shade       0.303772  73\n",
      "2   East      Sun       0.226206  92\n",
      "3   West  Partial       0.419682  26\n",
      "4   West    Shade       0.402151  68\n",
      "5   West      Sun       0.324585  90\n"
     ]
    },
    {
     "name": "stderr",
     "output_type": "stream",
     "text": [
      "/var/folders/qh/c7rwx84921n2kznn09zb2pnh0000gn/T/ipykernel_45701/3327148177.py:3: FutureWarning: The default of observed=False is deprecated and will be changed to True in a future version of pandas. Pass observed=False to retain current behavior or observed=True to adopt the future default and silence this warning.\n",
      "  .groupby(['region','lighting'])\n"
     ]
    }
   ],
   "source": [
    "means = (sub\n",
    "         .assign(pred = mod_add.fittedvalues)\n",
    "         .groupby(['region','lighting'])\n",
    "         .agg(mean_darkness = ('pred','mean'),\n",
    "              n = ('darkness','size'))\n",
    "         .reset_index())\n",
    "print(means)"
   ]
  },
  {
   "cell_type": "code",
   "execution_count": 58,
   "id": "a3d22813-7006-400b-b082-646d32cf32cc",
   "metadata": {},
   "outputs": [
    {
     "data": {
      "image/png": "[encoded data removed]",
      "text/plain": [
       "<Figure size 432x288 with 1 Axes>"
      ]
     },
     "metadata": {},
     "output_type": "display_data"
    }
   ],
   "source": [
    "sns.pointplot(\n",
    "    data=sub, x=\"lighting\", y=\"darkness\", hue=\"region\",\n",
    "    dodge=0.3, capsize=.1,\n",
    "    err_kws={'linewidth': 1.5},\n",
    "    errorbar=('ci', 95)\n",
    ")\n",
    "plt.ylabel(\"mean darkness (±95 % CI)\")\n",
    "plt.xlabel(\"Lighting category\")\n",
    "plt.title(\"Interaction between region and lighting\")\n",
    "plt.show()"
   ]
  },
  {
   "cell_type": "markdown",
   "id": "84a6f7b8-73ad-4e6b-9510-c83eb46cb1d6",
   "metadata": {},
   "source": [
    "# second, with Robin's data"
   ]
  },
  {
   "cell_type": "code",
   "execution_count": 59,
   "id": "93b13192-c7b8-4364-af29-7fd230e6c5e0",
   "metadata": {},
   "outputs": [],
   "source": [
    "# color ~ geo + light + geo*light"
   ]
  },
  {
   "cell_type": "code",
   "execution_count": 60,
   "id": "dc49ac63-9efb-466d-9a2f-2702180255f1",
   "metadata": {},
   "outputs": [],
   "source": [
    "subdf_full = color_df[color_df.image_idx.isin(robin_val.image_idx)]\n",
    "\n",
    "# merge with the labels\n",
    "subdf_full = subdf_full.merge(right=robin_val,on=\"image_idx\")"
   ]
  },
  {
   "cell_type": "code",
   "execution_count": 61,
   "id": "acf6bf9b-2f10-4911-9989-c68bfbc1ea95",
   "metadata": {},
   "outputs": [],
   "source": [
    "# clean up the df for readability\n",
    "sub = subdf_full.copy()\n",
    "sub[\"region\"]   = sub[\"region\"].astype(\"category\")\n",
    "sub[\"lighting\"] = sub[\"lighting\"].map({\"s\":\"Sun\", \"h\":\"Shade\", \"p\":\"Partial\"}).astype(\"category\")"
   ]
  },
  {
   "cell_type": "code",
   "execution_count": 62,
   "id": "56e24bab-94a5-4140-817b-c8b320947c9e",
   "metadata": {},
   "outputs": [
    {
     "name": "stdout",
     "output_type": "stream",
     "text": [
      "                            OLS Regression Results                            \n",
      "==============================================================================\n",
      "Dep. Variable:               darkness   R-squared:                       0.340\n",
      "Model:                            OLS   Adj. R-squared:                  0.334\n",
      "Method:                 Least Squares   F-statistic:                     50.94\n",
      "Date:                Mon, 28 Apr 2025   Prob (F-statistic):           1.46e-42\n",
      "Time:                        23:32:20   Log-Likelihood:                 575.50\n",
      "No. Observations:                 500   AIC:                            -1139.\n",
      "Df Residuals:                     494   BIC:                            -1114.\n",
      "Df Model:                           5                                         \n",
      "Covariance Type:            nonrobust                                         \n",
      "==========================================================================================================\n",
      "                                             coef    std err          t      P>|t|      [0.025      0.975]\n",
      "----------------------------------------------------------------------------------------------------------\n",
      "Intercept                                  0.3043      0.012     24.363      0.000       0.280       0.329\n",
      "C(region)[T.West]                          0.0896      0.017      5.136      0.000       0.055       0.124\n",
      "C(lighting)[T.Shade]                      -0.0179      0.015     -1.216      0.224      -0.047       0.011\n",
      "C(lighting)[T.Sun]                        -0.0671      0.014     -4.651      0.000      -0.095      -0.039\n",
      "C(region)[T.West]:C(lighting)[T.Shade]     0.0102      0.021      0.490      0.624      -0.031       0.051\n",
      "C(region)[T.West]:C(lighting)[T.Sun]       0.0086      0.020      0.427      0.670      -0.031       0.048\n",
      "==============================================================================\n",
      "Omnibus:                        8.736   Durbin-Watson:                   2.146\n",
      "Prob(Omnibus):                  0.013   Jarque-Bera (JB):               14.039\n",
      "Skew:                           0.037   Prob(JB):                     0.000894\n",
      "Kurtosis:                       3.817   Cond. No.                         14.2\n",
      "==============================================================================\n",
      "\n",
      "Notes:\n",
      "[1] Standard Errors assume that the covariance matrix of the errors is correctly specified.\n"
     ]
    }
   ],
   "source": [
    "# fit ols model\n",
    "# rresp ~ main effects + interaction\n",
    "mod = smf.ols('darkness ~ C(region) * C(lighting)', data=sub).fit()\n",
    "\n",
    "print(mod.summary())          # coefficient table"
   ]
  },
  {
   "cell_type": "code",
   "execution_count": 63,
   "id": "5f3f0092-356a-4aeb-8bbf-c718f809b222",
   "metadata": {},
   "outputs": [
    {
     "name": "stdout",
     "output_type": "stream",
     "text": [
      "                         sum_sq     df           F        PR(>F)\n",
      "C(region)              1.183436    1.0  199.584245  2.643940e-38\n",
      "C(lighting)            0.368170    2.0   31.045562  1.992983e-13\n",
      "C(region):C(lighting)  0.001487    2.0    0.125376  8.821929e-01\n",
      "Residual               2.929176  494.0         NaN           NaN\n"
     ]
    }
   ],
   "source": [
    "print(anova_lm(mod, typ=2)) # anova for the lin model"
   ]
  },
  {
   "cell_type": "markdown",
   "id": "ef4f6cc4-fc82-4478-908b-0546bee1765c",
   "metadata": {},
   "source": [
    "### Now remove the interaction term"
   ]
  },
  {
   "cell_type": "code",
   "execution_count": 64,
   "id": "1b32cf82-db08-4079-82b1-7cb44ef103e0",
   "metadata": {},
   "outputs": [
    {
     "name": "stdout",
     "output_type": "stream",
     "text": [
      "                            OLS Regression Results                            \n",
      "==============================================================================\n",
      "Dep. Variable:               darkness   R-squared:                       0.340\n",
      "Model:                            OLS   Adj. R-squared:                  0.336\n",
      "Method:                 Least Squares   F-statistic:                     85.12\n",
      "Date:                Mon, 28 Apr 2025   Prob (F-statistic):           1.93e-44\n",
      "Time:                        23:32:20   Log-Likelihood:                 575.38\n",
      "No. Observations:                 500   AIC:                            -1143.\n",
      "Df Residuals:                     496   BIC:                            -1126.\n",
      "Df Model:                           3                                         \n",
      "Covariance Type:            nonrobust                                         \n",
      "========================================================================================\n",
      "                           coef    std err          t      P>|t|      [0.025      0.975]\n",
      "----------------------------------------------------------------------------------------\n",
      "Intercept                0.3003      0.009     31.975      0.000       0.282       0.319\n",
      "C(region)[T.West]        0.0974      0.007     14.152      0.000       0.084       0.111\n",
      "C(lighting)[T.Shade]    -0.0128      0.010     -1.229      0.220      -0.033       0.008\n",
      "C(lighting)[T.Sun]      -0.0627      0.010     -6.249      0.000      -0.082      -0.043\n",
      "==============================================================================\n",
      "Omnibus:                        8.863   Durbin-Watson:                   2.147\n",
      "Prob(Omnibus):                  0.012   Jarque-Bera (JB):               14.305\n",
      "Skew:                           0.040   Prob(JB):                     0.000783\n",
      "Kurtosis:                       3.825   Cond. No.                         5.98\n",
      "==============================================================================\n",
      "\n",
      "Notes:\n",
      "[1] Standard Errors assume that the covariance matrix of the errors is correctly specified.\n"
     ]
    }
   ],
   "source": [
    "mod_add = smf.ols('darkness ~ C(region) + C(lighting)', data=sub).fit()\n",
    "print(mod_add.summary())          # coefficient table"
   ]
  },
  {
   "cell_type": "code",
   "execution_count": 65,
   "id": "5e60ba2a-a5e3-46c2-a611-98c24dc80bef",
   "metadata": {},
   "outputs": [
    {
     "name": "stdout",
     "output_type": "stream",
     "text": [
      "               sum_sq     df           F        PR(>F)\n",
      "C(region)    1.183436    1.0  200.290611  1.949009e-38\n",
      "C(lighting)  0.368170    2.0   31.155438  1.795502e-13\n",
      "Residual     2.930663  496.0         NaN           NaN\n"
     ]
    }
   ],
   "source": [
    "print(anova_lm(mod_add, typ=2)) # anova for the lin model"
   ]
  },
  {
   "cell_type": "code",
   "execution_count": 66,
   "id": "87fc0b9b-e5f8-4ab4-85b5-fcdd8afd4c0e",
   "metadata": {},
   "outputs": [
    {
     "name": "stdout",
     "output_type": "stream",
     "text": [
      "  region lighting  mean_darkness    n\n",
      "0   East  Partial       0.300316   38\n",
      "1   East    Shade       0.287543   98\n",
      "2   East      Sun       0.237642  114\n",
      "3   West  Partial       0.397739   40\n",
      "4   West    Shade       0.384966   86\n",
      "5   West      Sun       0.335065  124\n"
     ]
    },
    {
     "name": "stderr",
     "output_type": "stream",
     "text": [
      "/var/folders/qh/c7rwx84921n2kznn09zb2pnh0000gn/T/ipykernel_45701/3327148177.py:3: FutureWarning: The default of observed=False is deprecated and will be changed to True in a future version of pandas. Pass observed=False to retain current behavior or observed=True to adopt the future default and silence this warning.\n",
      "  .groupby(['region','lighting'])\n"
     ]
    }
   ],
   "source": [
    "means = (sub\n",
    "         .assign(pred = mod_add.fittedvalues)\n",
    "         .groupby(['region','lighting'])\n",
    "         .agg(mean_darkness = ('pred','mean'),\n",
    "              n = ('darkness','size'))\n",
    "         .reset_index())\n",
    "print(means)"
   ]
  },
  {
   "cell_type": "code",
   "execution_count": 67,
   "id": "68cadd86-ca6c-496c-85d5-a6bec6a5eb95",
   "metadata": {},
   "outputs": [
    {
     "data": {
      "image/png": "[encoded data removed]",
      "text/plain": [
       "<Figure size 432x288 with 1 Axes>"
      ]
     },
     "metadata": {},
     "output_type": "display_data"
    }
   ],
   "source": [
    "sns.pointplot(\n",
    "    data=sub, x=\"lighting\", y=\"darkness\", hue=\"region\",\n",
    "    dodge=0.3, capsize=.1,\n",
    "    err_kws={'linewidth': 1.5},\n",
    "    errorbar=('ci', 95)\n",
    ")\n",
    "plt.ylabel(\"mean darkness (±95 % CI)\")\n",
    "plt.xlabel(\"Lighting category\")\n",
    "plt.title(\"Interaction between region and lighting\")\n",
    "plt.show()"
   ]
  },
  {
   "cell_type": "markdown",
   "id": "244169f5-88a1-4b95-9488-dd99841a8ef1",
   "metadata": {},
   "source": [
    "# third, with Sam's data"
   ]
  },
  {
   "cell_type": "code",
   "execution_count": 68,
   "id": "0e2ea342-d175-42d2-8313-c725cde64caf",
   "metadata": {},
   "outputs": [],
   "source": [
    "# color ~ geo + light + geo*light"
   ]
  },
  {
   "cell_type": "code",
   "execution_count": 69,
   "id": "487db052-e07e-4fe5-8640-6ceee840849b",
   "metadata": {},
   "outputs": [],
   "source": [
    "subdf_full = color_df[color_df.image_idx.isin(sam_val.image_idx)]\n",
    "\n",
    "# merge with the labels\n",
    "subdf_full = subdf_full.merge(right=sam_val,on=\"image_idx\")"
   ]
  },
  {
   "cell_type": "code",
   "execution_count": 70,
   "id": "25d66f2f-111f-4537-bcb7-a90d574bb98b",
   "metadata": {},
   "outputs": [],
   "source": [
    "# clean up the df for readability\n",
    "sub = subdf_full.copy()\n",
    "sub[\"region\"]   = sub[\"region\"].astype(\"category\")\n",
    "sub[\"lighting\"] = sub[\"lighting\"].map({\"s\":\"Sun\", \"h\":\"Shade\", \"p\":\"Partial\"}).astype(\"category\")"
   ]
  },
  {
   "cell_type": "code",
   "execution_count": 71,
   "id": "4b6e189a-2b66-4b24-ad04-437175bbc8d5",
   "metadata": {},
   "outputs": [
    {
     "name": "stdout",
     "output_type": "stream",
     "text": [
      "                            OLS Regression Results                            \n",
      "==============================================================================\n",
      "Dep. Variable:               darkness   R-squared:                       0.440\n",
      "Model:                            OLS   Adj. R-squared:                  0.435\n",
      "Method:                 Least Squares   F-statistic:                     77.55\n",
      "Date:                Mon, 28 Apr 2025   Prob (F-statistic):           6.55e-60\n",
      "Time:                        23:32:20   Log-Likelihood:                 618.36\n",
      "No. Observations:                 499   AIC:                            -1225.\n",
      "Df Residuals:                     493   BIC:                            -1199.\n",
      "Df Model:                           5                                         \n",
      "Covariance Type:            nonrobust                                         \n",
      "==========================================================================================================\n",
      "                                             coef    std err          t      P>|t|      [0.025      0.975]\n",
      "----------------------------------------------------------------------------------------------------------\n",
      "Intercept                                  0.3144      0.011     29.584      0.000       0.294       0.335\n",
      "C(region)[T.West]                          0.0793      0.014      5.539      0.000       0.051       0.107\n",
      "C(lighting)[T.Shade]                      -0.0162      0.013     -1.238      0.216      -0.042       0.010\n",
      "C(lighting)[T.Sun]                        -0.0872      0.012     -7.024      0.000      -0.112      -0.063\n",
      "C(region)[T.West]:C(lighting)[T.Shade]     0.0254      0.018      1.410      0.159      -0.010       0.061\n",
      "C(region)[T.West]:C(lighting)[T.Sun]       0.0137      0.017      0.807      0.420      -0.020       0.047\n",
      "==============================================================================\n",
      "Omnibus:                       14.084   Durbin-Watson:                   2.226\n",
      "Prob(Omnibus):                  0.001   Jarque-Bera (JB):               28.705\n",
      "Skew:                          -0.029   Prob(JB):                     5.85e-07\n",
      "Kurtosis:                       4.174   Cond. No.                         12.9\n",
      "==============================================================================\n",
      "\n",
      "Notes:\n",
      "[1] Standard Errors assume that the covariance matrix of the errors is correctly specified.\n"
     ]
    }
   ],
   "source": [
    "# fit ols model\n",
    "# rresp ~ main effects + interaction\n",
    "mod = smf.ols('darkness ~ C(region) * C(lighting)', data=sub).fit()\n",
    "\n",
    "print(mod.summary())          # coefficient table"
   ]
  },
  {
   "cell_type": "code",
   "execution_count": 72,
   "id": "09e01196-2cf7-4d4b-9215-272b2d7fd46a",
   "metadata": {},
   "outputs": [
    {
     "name": "stdout",
     "output_type": "stream",
     "text": [
      "                         sum_sq     df           F        PR(>F)\n",
      "C(region)              1.106004    1.0  222.502060  8.554479e-42\n",
      "C(lighting)            0.750481    2.0   75.489589  2.511080e-29\n",
      "C(region):C(lighting)  0.010041    2.0    1.010052  3.649525e-01\n",
      "Residual               2.450584  493.0         NaN           NaN\n"
     ]
    }
   ],
   "source": [
    "print(anova_lm(mod, typ=2)) # anova for the lin model"
   ]
  },
  {
   "cell_type": "markdown",
   "id": "14539117-4d70-46a0-a278-811c6f2f2f10",
   "metadata": {},
   "source": [
    "### Now remove the interaction term"
   ]
  },
  {
   "cell_type": "code",
   "execution_count": 73,
   "id": "c99caed3-63f3-4376-8a71-5b7e5dcf9a61",
   "metadata": {},
   "outputs": [
    {
     "name": "stdout",
     "output_type": "stream",
     "text": [
      "                            OLS Regression Results                            \n",
      "==============================================================================\n",
      "Dep. Variable:               darkness   R-squared:                       0.438\n",
      "Model:                            OLS   Adj. R-squared:                  0.435\n",
      "Method:                 Least Squares   F-statistic:                     128.6\n",
      "Date:                Mon, 28 Apr 2025   Prob (F-statistic):           1.38e-61\n",
      "Time:                        23:32:20   Log-Likelihood:                 617.34\n",
      "No. Observations:                 499   AIC:                            -1227.\n",
      "Df Residuals:                     495   BIC:                            -1210.\n",
      "Df Model:                           3                                         \n",
      "Covariance Type:            nonrobust                                         \n",
      "========================================================================================\n",
      "                           coef    std err          t      P>|t|      [0.025      0.975]\n",
      "----------------------------------------------------------------------------------------\n",
      "Intercept                0.3062      0.008     38.621      0.000       0.291       0.322\n",
      "C(region)[T.West]        0.0943      0.006     14.916      0.000       0.082       0.107\n",
      "C(lighting)[T.Shade]    -0.0029      0.009     -0.318      0.751      -0.020       0.015\n",
      "C(lighting)[T.Sun]      -0.0795      0.008     -9.362      0.000      -0.096      -0.063\n",
      "==============================================================================\n",
      "Omnibus:                       14.871   Durbin-Watson:                   2.226\n",
      "Prob(Omnibus):                  0.001   Jarque-Bera (JB):               31.084\n",
      "Skew:                          -0.041   Prob(JB):                     1.78e-07\n",
      "Kurtosis:                       4.220   Cond. No.                         5.41\n",
      "==============================================================================\n",
      "\n",
      "Notes:\n",
      "[1] Standard Errors assume that the covariance matrix of the errors is correctly specified.\n"
     ]
    }
   ],
   "source": [
    "mod_add = smf.ols('darkness ~ C(region) + C(lighting)', data=sub).fit()\n",
    "print(mod_add.summary())          # coefficient table"
   ]
  },
  {
   "cell_type": "code",
   "execution_count": 74,
   "id": "04df8e0f-60f3-4132-ad59-02a2167a3999",
   "metadata": {},
   "outputs": [
    {
     "name": "stdout",
     "output_type": "stream",
     "text": [
      "               sum_sq     df           F        PR(>F)\n",
      "C(region)    1.106004    1.0  222.493024  8.065961e-42\n",
      "C(lighting)  0.750481    2.0   75.486524  2.436258e-29\n",
      "Residual     2.460626  495.0         NaN           NaN\n"
     ]
    }
   ],
   "source": [
    "print(anova_lm(mod_add, typ=2)) # anova for the lin model"
   ]
  },
  {
   "cell_type": "code",
   "execution_count": 75,
   "id": "e403306a-9518-45c9-aeed-231d3866002c",
   "metadata": {},
   "outputs": [
    {
     "name": "stdout",
     "output_type": "stream",
     "text": [
      "  region lighting  mean_darkness    n\n",
      "0   East  Partial       0.306190   44\n",
      "1   East    Shade       0.303334   85\n",
      "2   East      Sun       0.226666  121\n",
      "3   West  Partial       0.400476   54\n",
      "4   West    Shade       0.397620   82\n",
      "5   West      Sun       0.320952  113\n"
     ]
    },
    {
     "name": "stderr",
     "output_type": "stream",
     "text": [
      "/var/folders/qh/c7rwx84921n2kznn09zb2pnh0000gn/T/ipykernel_45701/3327148177.py:3: FutureWarning: The default of observed=False is deprecated and will be changed to True in a future version of pandas. Pass observed=False to retain current behavior or observed=True to adopt the future default and silence this warning.\n",
      "  .groupby(['region','lighting'])\n"
     ]
    }
   ],
   "source": [
    "means = (sub\n",
    "         .assign(pred = mod_add.fittedvalues)\n",
    "         .groupby(['region','lighting'])\n",
    "         .agg(mean_darkness = ('pred','mean'),\n",
    "              n = ('darkness','size'))\n",
    "         .reset_index())\n",
    "print(means)"
   ]
  },
  {
   "cell_type": "code",
   "execution_count": 76,
   "id": "94966a37-1afb-4d9f-afea-3f40e1827972",
   "metadata": {},
   "outputs": [
    {
     "data": {
      "image/png": "[encoded data removed]",
      "text/plain": [
       "<Figure size 432x288 with 1 Axes>"
      ]
     },
     "metadata": {},
     "output_type": "display_data"
    }
   ],
   "source": [
    "sns.pointplot(\n",
    "    data=sub, x=\"lighting\", y=\"darkness\", hue=\"region\",\n",
    "    dodge=0.3, capsize=.1,\n",
    "    err_kws={'linewidth': 1.5},\n",
    "    errorbar=('ci', 95)\n",
    ")\n",
    "plt.ylabel(\"mean darkness (±95 % CI)\")\n",
    "plt.xlabel(\"Lighting category\")\n",
    "plt.title(\"Interaction between region and lighting\")\n",
    "plt.show()"
   ]
  },
  {
   "cell_type": "markdown",
   "id": "89ecdc53-793d-4fe3-b9b5-c54631d0b7ec",
   "metadata": {},
   "source": [
    "# Re-do with a and b"
   ]
  },
  {
   "cell_type": "markdown",
   "id": "8287eaf1-19bc-4a5c-bc60-1134416a3529",
   "metadata": {},
   "source": [
    "# a (green-red):"
   ]
  },
  {
   "cell_type": "code",
   "execution_count": 77,
   "id": "a7dda77a-9b9a-4d28-a222-2b0ac519441d",
   "metadata": {},
   "outputs": [],
   "source": [
    "# color ~ geo + light + geo*light"
   ]
  },
  {
   "cell_type": "code",
   "execution_count": 78,
   "id": "75bfc8d8-8d92-44e6-a96c-9d11d2669764",
   "metadata": {},
   "outputs": [],
   "source": [
    "subdf_full = color_df[color_df.image_idx.isin(intersected_val.image_idx)]\n",
    "\n",
    "# merge with the labels\n",
    "subdf_full = subdf_full.merge(right=intersected_val,on=\"image_idx\")"
   ]
  },
  {
   "cell_type": "code",
   "execution_count": 79,
   "id": "a0e55744-d594-431d-821a-dca13f38549d",
   "metadata": {},
   "outputs": [],
   "source": [
    "# clean up the df for readability\n",
    "sub = subdf_full.copy()\n",
    "sub[\"region\"]   = sub[\"region\"].astype(\"category\")\n",
    "sub[\"lighting\"] = sub[\"lighting\"].map({\"s\":\"Sun\", \"h\":\"Shade\", \"p\":\"Partial\"}).astype(\"category\")"
   ]
  },
  {
   "cell_type": "code",
   "execution_count": 80,
   "id": "e42a6fb4-8252-4c46-bf7f-6ab0cf723ffd",
   "metadata": {},
   "outputs": [
    {
     "name": "stdout",
     "output_type": "stream",
     "text": [
      "                            OLS Regression Results                            \n",
      "==============================================================================\n",
      "Dep. Variable:                      a   R-squared:                       0.423\n",
      "Model:                            OLS   Adj. R-squared:                  0.415\n",
      "Method:                 Least Squares   F-statistic:                     53.50\n",
      "Date:                Mon, 28 Apr 2025   Prob (F-statistic):           1.38e-41\n",
      "Time:                        23:32:20   Log-Likelihood:                 746.57\n",
      "No. Observations:                 371   AIC:                            -1481.\n",
      "Df Residuals:                     365   BIC:                            -1458.\n",
      "Df Model:                           5                                         \n",
      "Covariance Type:            nonrobust                                         \n",
      "==========================================================================================================\n",
      "                                             coef    std err          t      P>|t|      [0.025      0.975]\n",
      "----------------------------------------------------------------------------------------------------------\n",
      "Intercept                                  0.5784      0.007     83.196      0.000       0.565       0.592\n",
      "C(region)[T.West]                          0.0489      0.009      5.173      0.000       0.030       0.067\n",
      "C(lighting)[T.Shade]                      -0.0103      0.008     -1.304      0.193      -0.026       0.005\n",
      "C(lighting)[T.Sun]                        -0.0044      0.008     -0.573      0.567      -0.020       0.011\n",
      "C(region)[T.West]:C(lighting)[T.Shade]     0.0080      0.011      0.733      0.464      -0.013       0.030\n",
      "C(region)[T.West]:C(lighting)[T.Sun]       0.0062      0.011      0.584      0.560      -0.015       0.027\n",
      "==============================================================================\n",
      "Omnibus:                        1.991   Durbin-Watson:                   1.828\n",
      "Prob(Omnibus):                  0.370   Jarque-Bera (JB):                1.851\n",
      "Skew:                          -0.068   Prob(JB):                        0.396\n",
      "Kurtosis:                       3.318   Cond. No.                         15.7\n",
      "==============================================================================\n",
      "\n",
      "Notes:\n",
      "[1] Standard Errors assume that the covariance matrix of the errors is correctly specified.\n"
     ]
    }
   ],
   "source": [
    "# details here: https://www.statsmodels.org/stable/example_formulas.html\n",
    "# fit ols model\n",
    "# rresp ~ main effects + interaction\n",
    "mod = smf.ols('a ~ C(region) * C(lighting)', data=sub).fit()\n",
    "\n",
    "print(mod.summary())          # coefficient table"
   ]
  },
  {
   "cell_type": "code",
   "execution_count": 81,
   "id": "7bbcff7f-e667-4f19-ba80-593dba73e4c9",
   "metadata": {},
   "outputs": [
    {
     "name": "stdout",
     "output_type": "stream",
     "text": [
      "                         sum_sq     df           F        PR(>F)\n",
      "C(region)              0.279738    1.0  263.046820  6.205156e-45\n",
      "C(lighting)            0.002461    2.0    1.156964  3.155898e-01\n",
      "C(region):C(lighting)  0.000573    2.0    0.269194  7.641467e-01\n",
      "Residual               0.388160  365.0         NaN           NaN\n"
     ]
    }
   ],
   "source": [
    "print(anova_lm(mod, typ=2)) # anova for the lin model"
   ]
  },
  {
   "cell_type": "code",
   "execution_count": 82,
   "id": "95b99cae-08b8-4272-9365-60947c2999ca",
   "metadata": {},
   "outputs": [
    {
     "data": {
      "image/png": "[encoded data removed]",
      "text/plain": [
       "<Figure size 432x288 with 1 Axes>"
      ]
     },
     "metadata": {},
     "output_type": "display_data"
    }
   ],
   "source": [
    "sns.pointplot(\n",
    "    data=sub, x=\"lighting\", y=\"a\", hue=\"region\",\n",
    "    dodge=0.3, capsize=.1,\n",
    "    err_kws={'linewidth': 1.5},\n",
    "    errorbar=('ci', 95)\n",
    ")\n",
    "plt.ylabel(\"mean a (±95 % CI)\")\n",
    "plt.xlabel(\"Lighting category\")\n",
    "plt.title(\"Interaction between region and lighting\")\n",
    "plt.show()"
   ]
  },
  {
   "cell_type": "markdown",
   "id": "62e6fd30-1428-4e58-a472-9746b8c61608",
   "metadata": {},
   "source": [
    "# b (blue-yellow):"
   ]
  },
  {
   "cell_type": "code",
   "execution_count": 83,
   "id": "81b4c0a8-489a-4485-aab5-1b9b65091548",
   "metadata": {},
   "outputs": [],
   "source": [
    "# color ~ geo + light + geo*light"
   ]
  },
  {
   "cell_type": "code",
   "execution_count": 84,
   "id": "d411bbf2-c93e-418b-b781-7593148f1442",
   "metadata": {},
   "outputs": [],
   "source": [
    "subdf_full = color_df[color_df.image_idx.isin(intersected_val.image_idx)]\n",
    "\n",
    "# merge with the labels\n",
    "subdf_full = subdf_full.merge(right=intersected_val,on=\"image_idx\")"
   ]
  },
  {
   "cell_type": "code",
   "execution_count": 85,
   "id": "e6cc95ad-d970-4f86-a057-8a21a6beb0f7",
   "metadata": {},
   "outputs": [],
   "source": [
    "# clean up the df for readability\n",
    "sub = subdf_full.copy()\n",
    "sub[\"region\"]   = sub[\"region\"].astype(\"category\")\n",
    "sub[\"lighting\"] = sub[\"lighting\"].map({\"s\":\"Sun\", \"h\":\"Shade\", \"p\":\"Partial\"}).astype(\"category\")"
   ]
  },
  {
   "cell_type": "code",
   "execution_count": 86,
   "id": "1b9db6b7-8f5a-47d4-bb32-67a7a8d0adc9",
   "metadata": {},
   "outputs": [
    {
     "name": "stdout",
     "output_type": "stream",
     "text": [
      "                            OLS Regression Results                            \n",
      "==============================================================================\n",
      "Dep. Variable:                      b   R-squared:                       0.343\n",
      "Model:                            OLS   Adj. R-squared:                  0.334\n",
      "Method:                 Least Squares   F-statistic:                     38.15\n",
      "Date:                Mon, 28 Apr 2025   Prob (F-statistic):           1.82e-31\n",
      "Time:                        23:32:20   Log-Likelihood:                 742.47\n",
      "No. Observations:                 371   AIC:                            -1473.\n",
      "Df Residuals:                     365   BIC:                            -1449.\n",
      "Df Model:                           5                                         \n",
      "Covariance Type:            nonrobust                                         \n",
      "==========================================================================================================\n",
      "                                             coef    std err          t      P>|t|      [0.025      0.975]\n",
      "----------------------------------------------------------------------------------------------------------\n",
      "Intercept                                  0.4337      0.007     61.692      0.000       0.420       0.448\n",
      "C(region)[T.West]                         -0.0258      0.010     -2.706      0.007      -0.045      -0.007\n",
      "C(lighting)[T.Shade]                      -0.0119      0.008     -1.481      0.139      -0.028       0.004\n",
      "C(lighting)[T.Sun]                         0.0144      0.008      1.839      0.067      -0.001       0.030\n",
      "C(region)[T.West]:C(lighting)[T.Shade]    -0.0184      0.011     -1.665      0.097      -0.040       0.003\n",
      "C(region)[T.West]:C(lighting)[T.Sun]      -0.0109      0.011     -1.012      0.312      -0.032       0.010\n",
      "==============================================================================\n",
      "Omnibus:                        9.394   Durbin-Watson:                   1.869\n",
      "Prob(Omnibus):                  0.009   Jarque-Bera (JB):               11.869\n",
      "Skew:                           0.240   Prob(JB):                      0.00265\n",
      "Kurtosis:                       3.734   Cond. No.                         15.7\n",
      "==============================================================================\n",
      "\n",
      "Notes:\n",
      "[1] Standard Errors assume that the covariance matrix of the errors is correctly specified.\n"
     ]
    }
   ],
   "source": [
    "# details here: https://www.statsmodels.org/stable/example_formulas.html\n",
    "# fit ols model\n",
    "# rresp ~ main effects + interaction\n",
    "mod = smf.ols('b ~ C(region) * C(lighting)', data=sub).fit()\n",
    "\n",
    "print(mod.summary())          # coefficient table"
   ]
  },
  {
   "cell_type": "code",
   "execution_count": 87,
   "id": "bd5e2e00-047a-4c2c-95a6-2579675ea4c8",
   "metadata": {},
   "outputs": [
    {
     "name": "stdout",
     "output_type": "stream",
     "text": [
      "                         sum_sq     df           F        PR(>F)\n",
      "C(region)              0.134979    1.0  124.147479  5.134703e-25\n",
      "C(lighting)            0.072015    2.0   33.118153  6.065997e-14\n",
      "C(region):C(lighting)  0.003206    2.0    1.474210  2.303196e-01\n",
      "Residual               0.396845  365.0         NaN           NaN\n"
     ]
    }
   ],
   "source": [
    "print(anova_lm(mod, typ=2)) # anova for the lin model"
   ]
  },
  {
   "cell_type": "code",
   "execution_count": 88,
   "id": "b52f4f04-74c2-42e7-8e24-3d03b55c3744",
   "metadata": {},
   "outputs": [
    {
     "data": {
      "image/png": "[encoded data removed]",
      "text/plain": [
       "<Figure size 432x288 with 1 Axes>"
      ]
     },
     "metadata": {},
     "output_type": "display_data"
    }
   ],
   "source": [
    "sns.pointplot(\n",
    "    data=sub, x=\"lighting\", y=\"b\", hue=\"region\",\n",
    "    dodge=0.3, capsize=.1,\n",
    "    err_kws={'linewidth': 1.5},\n",
    "    errorbar=('ci', 95)\n",
    ")\n",
    "plt.ylabel(\"mean b (±95 % CI)\")\n",
    "plt.xlabel(\"Lighting category\")\n",
    "plt.title(\"Interaction between region and lighting\")\n",
    "plt.show()"
   ]
  },
  {
   "cell_type": "code",
   "execution_count": null,
   "id": "7415a457-0526-42d7-b409-09b13e1f0711",
   "metadata": {},
   "outputs": [],
   "source": []
  }
 ],
 "metadata": {
  "kernelspec": {
   "display_name": "Python 3 (ipykernel)",
   "language": "python",
   "name": "python3"
  },
  "language_info": {
   "codemirror_mode": {
    "name": "ipython",
    "version": 3
   },
   "file_extension": ".py",
   "mimetype": "text/x-python",
   "name": "python",
   "nbconvert_exporter": "python",
   "pygments_lexer": "ipython3",
   "version": "3.10.17"
  }
 },
 "nbformat": 4,
 "nbformat_minor": 5
}
