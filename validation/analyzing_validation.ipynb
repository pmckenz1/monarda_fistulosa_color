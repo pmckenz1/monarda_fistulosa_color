{
 "cells": [
  {
   "cell_type": "markdown",
   "id": "6e66f5c2-dcdd-4d33-88bf-cb8a87ca2f97",
   "metadata": {},
   "source": [
    "# Validation: Does the pattern hold up when stratifying across different lighting conditions? Do we see very different lighting between west and east?"
   ]
  },
  {
   "cell_type": "code",
   "execution_count": 1,
   "id": "4c5881f9-7e4e-4681-bb6c-96e25a71eb66",
   "metadata": {},
   "outputs": [],
   "source": [
    "import numpy as np\n",
    "import pandas as pd\n",
    "import matplotlib.pyplot as plt\n",
    "import seaborn as sns\n",
    "from scipy.stats import ttest_ind\n",
    "import cv2"
   ]
  },
  {
   "cell_type": "code",
   "execution_count": 2,
   "id": "c5ed73a3-dd4a-4a6b-9dc6-ffd1ec6e2550",
   "metadata": {},
   "outputs": [],
   "source": [
    "color_df = pd.read_csv('../filtered_labeled_data.csv')"
   ]
  },
  {
   "cell_type": "markdown",
   "id": "8e4fe4fd-0993-4211-a4c2-953067f9fc64",
   "metadata": {},
   "source": [
    "# Add darkness column and region"
   ]
  },
  {
   "cell_type": "code",
   "execution_count": 3,
   "id": "208c5413-a821-4de1-b40e-ad7f8cd81e39",
   "metadata": {},
   "outputs": [],
   "source": [
    "# in hsl, where \"l\" is lightness. \n",
    "# we can then subtract l from 1 for \"intensity\" = darkness\n",
    "darkness = []\n",
    "for hsl in color_df.hsl:\n",
    "    # parse the text hsl value into a list of 3 str vals\n",
    "    # (function generating this val is in notebook 5)\n",
    "    h,s,l = hsl.strip('()').split(',')\n",
    "    darkness.append(1-float(l))\n",
    "color_df['darkness'] = darkness"
   ]
  },
  {
   "cell_type": "code",
   "execution_count": 4,
   "id": "bbb2e325-0dc9-40a6-9a77-e2c0fef1bdea",
   "metadata": {},
   "outputs": [],
   "source": [
    "# set region split longitude\n",
    "focal_lon = -100 \n",
    "# make a \"region\" column based on longitude\n",
    "color_df['region'] = color_df['longitude'].apply(lambda x: 'East' if x > focal_lon else 'West')"
   ]
  },
  {
   "cell_type": "markdown",
   "id": "7c1f5403-3303-4f2b-a731-1bd0d4b26d54",
   "metadata": {},
   "source": [
    "# Robin's Validation"
   ]
  },
  {
   "cell_type": "code",
   "execution_count": 5,
   "id": "80f4319d-3dbf-4f14-8b50-7818bbc16a33",
   "metadata": {},
   "outputs": [],
   "source": [
    "robin_val = pd.read_csv('./validation_subset_Robin.csv')\n",
    "robin_val.columns = ['image_idxs', 'lighting', 'monarda']\n",
    "robin_val.to_csv('./validation_subset_Robin.csv',index=False)"
   ]
  },
  {
   "cell_type": "code",
   "execution_count": 6,
   "id": "6daec595-35c5-4ebf-a19f-f1ce6b3948f4",
   "metadata": {},
   "outputs": [
    {
     "data": {
      "text/html": [
       "<div>\n",
       "<style scoped>\n",
       "    .dataframe tbody tr th:only-of-type {\n",
       "        vertical-align: middle;\n",
       "    }\n",
       "\n",
       "    .dataframe tbody tr th {\n",
       "        vertical-align: top;\n",
       "    }\n",
       "\n",
       "    .dataframe thead th {\n",
       "        text-align: right;\n",
       "    }\n",
       "</style>\n",
       "<table border=\"1\" class=\"dataframe\">\n",
       "  <thead>\n",
       "    <tr style=\"text-align: right;\">\n",
       "      <th></th>\n",
       "      <th>image_idxs</th>\n",
       "      <th>lighting</th>\n",
       "      <th>monarda</th>\n",
       "    </tr>\n",
       "  </thead>\n",
       "  <tbody>\n",
       "    <tr>\n",
       "      <th>0</th>\n",
       "      <td>10</td>\n",
       "      <td>h</td>\n",
       "      <td>NaN</td>\n",
       "    </tr>\n",
       "    <tr>\n",
       "      <th>1</th>\n",
       "      <td>143</td>\n",
       "      <td>s</td>\n",
       "      <td>NaN</td>\n",
       "    </tr>\n",
       "    <tr>\n",
       "      <th>2</th>\n",
       "      <td>177</td>\n",
       "      <td>s</td>\n",
       "      <td>NaN</td>\n",
       "    </tr>\n",
       "    <tr>\n",
       "      <th>3</th>\n",
       "      <td>382</td>\n",
       "      <td>s</td>\n",
       "      <td>NaN</td>\n",
       "    </tr>\n",
       "    <tr>\n",
       "      <th>4</th>\n",
       "      <td>531</td>\n",
       "      <td>h</td>\n",
       "      <td>NaN</td>\n",
       "    </tr>\n",
       "    <tr>\n",
       "      <th>...</th>\n",
       "      <td>...</td>\n",
       "      <td>...</td>\n",
       "      <td>...</td>\n",
       "    </tr>\n",
       "    <tr>\n",
       "      <th>495</th>\n",
       "      <td>40750</td>\n",
       "      <td>s</td>\n",
       "      <td>NaN</td>\n",
       "    </tr>\n",
       "    <tr>\n",
       "      <th>496</th>\n",
       "      <td>40772</td>\n",
       "      <td>s</td>\n",
       "      <td>NaN</td>\n",
       "    </tr>\n",
       "    <tr>\n",
       "      <th>497</th>\n",
       "      <td>40822</td>\n",
       "      <td>s</td>\n",
       "      <td>NaN</td>\n",
       "    </tr>\n",
       "    <tr>\n",
       "      <th>498</th>\n",
       "      <td>40894</td>\n",
       "      <td>h</td>\n",
       "      <td>NaN</td>\n",
       "    </tr>\n",
       "    <tr>\n",
       "      <th>499</th>\n",
       "      <td>40990</td>\n",
       "      <td>s</td>\n",
       "      <td>NaN</td>\n",
       "    </tr>\n",
       "  </tbody>\n",
       "</table>\n",
       "<p>500 rows × 3 columns</p>\n",
       "</div>"
      ],
      "text/plain": [
       "     image_idxs lighting  monarda\n",
       "0            10        h      NaN\n",
       "1           143        s      NaN\n",
       "2           177        s      NaN\n",
       "3           382        s      NaN\n",
       "4           531        h      NaN\n",
       "..          ...      ...      ...\n",
       "495       40750        s      NaN\n",
       "496       40772        s      NaN\n",
       "497       40822        s      NaN\n",
       "498       40894        h      NaN\n",
       "499       40990        s      NaN\n",
       "\n",
       "[500 rows x 3 columns]"
      ]
     },
     "execution_count": 6,
     "metadata": {},
     "output_type": "execute_result"
    }
   ],
   "source": [
    "robin_val"
   ]
  },
  {
   "cell_type": "code",
   "execution_count": 7,
   "id": "b5294efc-9810-4a56-8daf-c6659d52dccd",
   "metadata": {},
   "outputs": [
    {
     "data": {
      "text/plain": [
       "np.int64(500)"
      ]
     },
     "execution_count": 7,
     "metadata": {},
     "output_type": "execute_result"
    }
   ],
   "source": [
    "# how many show monarda flowers \n",
    "robin_val.monarda.isna().sum()"
   ]
  },
  {
   "cell_type": "code",
   "execution_count": 8,
   "id": "024f16f6-cf67-4bad-b4ec-786b9cd00a9f",
   "metadata": {},
   "outputs": [],
   "source": [
    "sunlist = list(robin_val[robin_val.lighting.eq('s')].image_idxs)\n",
    "shadelist = list(robin_val[robin_val.lighting.eq('h')].image_idxs)\n",
    "partiallist = list(robin_val[robin_val.lighting.eq('p')].image_idxs)"
   ]
  },
  {
   "cell_type": "code",
   "execution_count": 9,
   "id": "8be2c7b5-b41a-4804-960d-f388f0c5b2e7",
   "metadata": {},
   "outputs": [],
   "source": [
    "sun_df = color_df[(color_df.image_idx.isin(sunlist))]\n",
    "shade_df = color_df[(color_df.image_idx.isin(shadelist))]\n",
    "partial_df = color_df[(color_df.image_idx.isin(partiallist))]"
   ]
  },
  {
   "cell_type": "code",
   "execution_count": 10,
   "id": "858c5dff-3143-499e-8e98-37df912a35a7",
   "metadata": {},
   "outputs": [
    {
     "name": "stdout",
     "output_type": "stream",
     "text": [
      "Number of overall sun observations: 238\n",
      "    West: 124\n",
      "    East: 114\n",
      "Number of overall shade observations: 184\n",
      "    West: 86\n",
      "    East: 98\n",
      "Number of overall partial observations: 78\n",
      "    West: 40\n",
      "    East: 38\n"
     ]
    }
   ],
   "source": [
    "print(f\"Number of overall sun observations: {len(sunlist)}\")\n",
    "print(f\"    West: {np.sum(sun_df.longitude < -100)}\")\n",
    "print(f\"    East: {np.sum(sun_df.longitude > -100)}\")\n",
    "print(f\"Number of overall shade observations: {len(shadelist)}\")\n",
    "print(f\"    West: {np.sum(shade_df.longitude < -100)}\")\n",
    "print(f\"    East: {np.sum(shade_df.longitude > -100)}\")\n",
    "print(f\"Number of overall partial observations: {len(partiallist)}\")\n",
    "print(f\"    West: {np.sum(partial_df.longitude < -100)}\")\n",
    "print(f\"    East: {np.sum(partial_df.longitude > -100)}\")"
   ]
  },
  {
   "cell_type": "markdown",
   "id": "1b25a56a-0937-42a3-b4dc-fab0926e5278",
   "metadata": {},
   "source": [
    "# Boxplots"
   ]
  },
  {
   "cell_type": "markdown",
   "id": "e629a926-bc72-4e8c-bc9e-fc4654c6a5e8",
   "metadata": {},
   "source": [
    "## get median color for each region"
   ]
  },
  {
   "cell_type": "code",
   "execution_count": 11,
   "id": "4f964615-b7e8-4a75-8c7f-9033876c6627",
   "metadata": {},
   "outputs": [],
   "source": [
    "# conversion functions (from notebook 5)\n",
    "def rgb_to_hex(rgb):\n",
    "    # rgb should be a tuple like (R, G, B)\n",
    "    return '#{:02x}{:02x}{:02x}'.format(*rgb)\n",
    "def lab_to_rgb(lab):\n",
    "    \"\"\"convert (L,a,b) in OpenCV's Lab to (r,g,b) in [0,255]\"\"\"\n",
    "    arr = np.array([[lab]], dtype=np.uint8)\n",
    "    rgb = cv2.cvtColor(arr, cv2.COLOR_LAB2RGB)[0][0]\n",
    "    return tuple(int(x) for x in rgb)"
   ]
  },
  {
   "cell_type": "code",
   "execution_count": 12,
   "id": "a21233d7-b05c-4ac2-8d3e-0fae6d5fe03f",
   "metadata": {},
   "outputs": [],
   "source": [
    "#####\n",
    "#SUN#\n",
    "#####\n",
    "\n",
    "### WEST\n",
    "west_sun = list(sun_df[sun_df.region.eq('West')].lab)\n",
    "west_sun = [i.strip('()').split(', ') for i in west_sun]\n",
    "west_sun = [[float(q) for q in i] for i in west_sun]\n",
    "\n",
    "median_lab = np.median(west_sun,axis=0) # lab color\n",
    "sun_west_median_color = rgb_to_hex(lab_to_rgb(median_lab)) # hex color\n",
    "\n",
    "### EAST\n",
    "east_sun = list(sun_df[sun_df.region.eq('East')].lab)\n",
    "east_sun = [i.strip('()').split(', ') for i in east_sun]\n",
    "east_sun = [[float(q) for q in i] for i in east_sun]\n",
    "\n",
    "median_lab = np.median(east_sun,axis=0) # lab color\n",
    "sun_east_median_color = rgb_to_hex(lab_to_rgb(median_lab)) # hex color\n",
    "\n",
    "#######\n",
    "#SHADE#\n",
    "#######\n",
    "\n",
    "### WEST\n",
    "west_shade = list(shade_df[shade_df.region.eq('West')].lab)\n",
    "west_shade = [i.strip('()').split(', ') for i in west_shade]\n",
    "west_shade = [[float(q) for q in i] for i in west_shade]\n",
    "\n",
    "median_lab = np.median(west_shade,axis=0) # lab color\n",
    "shade_west_median_color = rgb_to_hex(lab_to_rgb(median_lab)) # hex color\n",
    "\n",
    "### EAST\n",
    "east_shade = list(shade_df[shade_df.region.eq('East')].lab)\n",
    "east_shade = [i.strip('()').split(', ') for i in east_shade]\n",
    "east_shade = [[float(q) for q in i] for i in east_shade]\n",
    "\n",
    "median_lab = np.median(east_shade,axis=0) # lab color\n",
    "shade_east_median_color = rgb_to_hex(lab_to_rgb(median_lab)) # hex color\n",
    "\n",
    "\n",
    "#########\n",
    "#PARTIAL#\n",
    "#########\n",
    "\n",
    "### WEST\n",
    "west_partial = list(partial_df[partial_df.region.eq('West')].lab)\n",
    "west_partial = [i.strip('()').split(', ') for i in west_partial]\n",
    "west_partial = [[float(q) for q in i] for i in west_partial]\n",
    "\n",
    "median_lab = np.median(west_partial,axis=0) # lab color\n",
    "partial_west_median_color = rgb_to_hex(lab_to_rgb(median_lab)) # hex color\n",
    "\n",
    "### EAST\n",
    "east_partial = list(partial_df[partial_df.region.eq('East')].lab)\n",
    "east_partial = [i.strip('()').split(', ') for i in east_partial]\n",
    "east_partial = [[float(q) for q in i] for i in east_partial]\n",
    "\n",
    "median_lab = np.median(east_partial,axis=0) # lab color\n",
    "partial_east_median_color = rgb_to_hex(lab_to_rgb(median_lab)) # hex color"
   ]
  },
  {
   "cell_type": "markdown",
   "id": "097da953-1aa0-43de-a268-4a31b8ccd80f",
   "metadata": {},
   "source": [
    "## Sun individual boxplots"
   ]
  },
  {
   "cell_type": "code",
   "execution_count": 13,
   "id": "c3ce05af-6059-454f-8463-7ca8181fcc25",
   "metadata": {},
   "outputs": [
    {
     "data": {
      "image/png": "[encoded data removed]",
      "text/plain": [
       "<Figure size 576x432 with 1 Axes>"
      ]
     },
     "metadata": {
      "needs_background": "light"
     },
     "output_type": "display_data"
    },
    {
     "name": "stdout",
     "output_type": "stream",
     "text": [
      "t-statistic: -8.132\n",
      "p-value: 0.00000\n"
     ]
    }
   ],
   "source": [
    "# make nice figure aesthetics\n",
    "sns.set(style='whitegrid', context='talk', font_scale=1.2)\n",
    "\n",
    "# set up plot\n",
    "fig, ax = plt.subplots(figsize=(8, 6))\n",
    "\n",
    "# specify boxplot params\n",
    "sns.boxplot(\n",
    "    x='region',\n",
    "    y='darkness',\n",
    "    data=sun_df,\n",
    "    hue='region',\n",
    "    legend=False,\n",
    "    palette=[sun_west_median_color, sun_east_median_color],  # two shades of purple. could be the same, no preference here.\n",
    "    linewidth=3,\n",
    "    fliersize=4,\n",
    "    order=['West', 'East'],\n",
    "    hue_order=['West', 'East'],\n",
    "    ax=ax\n",
    ")\n",
    "\n",
    "# no labels/titles\n",
    "#ax.set_title('\"Darkness\" by Region (West vs. East)', fontsize=16, fontweight='bold', pad=15)\n",
    "ax.set_xlabel(None)\n",
    "ax.set_ylabel(None)\n",
    "\n",
    "# tick parameters\n",
    "ax.tick_params(axis='both', which='major', labelsize=13)\n",
    "\n",
    "# this helps push the horiz bars away from the y\n",
    "sns.despine(offset=10, trim=True)\n",
    "\n",
    "# let's see it!\n",
    "plt.tight_layout()\n",
    "plt.show()\n",
    "\n",
    "# t-test as well\n",
    "west_darkness = sun_df[sun_df['region'] == 'West']['darkness']\n",
    "east_darkness = sun_df[sun_df['region'] == 'East']['darkness']\n",
    "t_stat, p_value = ttest_ind(east_darkness, west_darkness, equal_var=False)\n",
    "\n",
    "# t-test results\n",
    "print(f\"t-statistic: {t_stat:.3f}\")\n",
    "print(f\"p-value: {p_value:.5f}\")"
   ]
  },
  {
   "cell_type": "markdown",
   "id": "39f0dcf6-f6bb-4462-84fb-d63ec643fb88",
   "metadata": {},
   "source": [
    "## Shade individual boxplots"
   ]
  },
  {
   "cell_type": "code",
   "execution_count": 14,
   "id": "f1e7613f-2df5-4fb4-8419-56fc4e2296c6",
   "metadata": {},
   "outputs": [
    {
     "data": {
      "image/png": "[encoded data removed]",
      "text/plain": [
       "<Figure size 576x432 with 1 Axes>"
      ]
     },
     "metadata": {},
     "output_type": "display_data"
    },
    {
     "name": "stdout",
     "output_type": "stream",
     "text": [
      "t-statistic: -7.314\n",
      "p-value: 0.00000\n"
     ]
    }
   ],
   "source": [
    "# make nice figure aesthetics\n",
    "sns.set(style='whitegrid', context='talk', font_scale=1.2)\n",
    "\n",
    "# set up plot\n",
    "fig, ax = plt.subplots(figsize=(8, 6))\n",
    "\n",
    "# specify boxplot params\n",
    "sns.boxplot(\n",
    "    x='region',\n",
    "    y='darkness',\n",
    "    data=shade_df,\n",
    "    hue='region',\n",
    "    legend=False,\n",
    "    palette=[shade_west_median_color, shade_east_median_color],  # two shades of purple. could be the same, no preference here.\n",
    "    linewidth=3,\n",
    "    fliersize=4,\n",
    "    order=['West', 'East'],\n",
    "    hue_order=['West', 'East'],\n",
    "    ax=ax\n",
    ")\n",
    "\n",
    "# no labels/titles\n",
    "#ax.set_title('\"Darkness\" by Region (West vs. East)', fontsize=16, fontweight='bold', pad=15)\n",
    "ax.set_xlabel(None)\n",
    "ax.set_ylabel(None)\n",
    "\n",
    "# tick parameters\n",
    "ax.tick_params(axis='both', which='major', labelsize=13)\n",
    "\n",
    "# this helps push the horiz bars away from the y\n",
    "sns.despine(offset=10, trim=True)\n",
    "\n",
    "# let's see it!\n",
    "plt.tight_layout()\n",
    "plt.show()\n",
    "\n",
    "# t-test as well\n",
    "west_darkness = shade_df[shade_df['region'] == 'West']['darkness']\n",
    "east_darkness = shade_df[shade_df['region'] == 'East']['darkness']\n",
    "t_stat, p_value = ttest_ind(east_darkness, west_darkness, equal_var=False)\n",
    "\n",
    "# t-test results\n",
    "print(f\"t-statistic: {t_stat:.3f}\")\n",
    "print(f\"p-value: {p_value:.5f}\")"
   ]
  },
  {
   "cell_type": "markdown",
   "id": "9e551a07-f8a2-4c33-aa7b-7d6bb8dd95a6",
   "metadata": {},
   "source": [
    "## Partial individual boxplots"
   ]
  },
  {
   "cell_type": "code",
   "execution_count": 15,
   "id": "5282d805-2e05-4644-8604-a88f1cff05ba",
   "metadata": {},
   "outputs": [
    {
     "data": {
      "image/png": "[encoded data removed]",
      "text/plain": [
       "<Figure size 576x432 with 1 Axes>"
      ]
     },
     "metadata": {},
     "output_type": "display_data"
    },
    {
     "name": "stdout",
     "output_type": "stream",
     "text": [
      "t-statistic: -2.924\n",
      "p-value: 0.00457\n"
     ]
    }
   ],
   "source": [
    "# make nice figure aesthetics\n",
    "sns.set(style='whitegrid', context='talk', font_scale=1.2)\n",
    "\n",
    "# set up plot\n",
    "fig, ax = plt.subplots(figsize=(8, 6))\n",
    "\n",
    "# specify boxplot params\n",
    "sns.boxplot(\n",
    "    x='region',\n",
    "    y='darkness',\n",
    "    data=partial_df,\n",
    "    hue='region',\n",
    "    legend=False,\n",
    "    palette=[partial_west_median_color, partial_east_median_color],  # two shades of purple. could be the same, no preference here.\n",
    "    linewidth=3,\n",
    "    fliersize=4,\n",
    "    order=['West', 'East'],\n",
    "    hue_order=['West', 'East'],\n",
    "    ax=ax\n",
    ")\n",
    "\n",
    "# no labels/titles\n",
    "#ax.set_title('\"Darkness\" by Region (West vs. East)', fontsize=16, fontweight='bold', pad=15)\n",
    "ax.set_xlabel(None)\n",
    "ax.set_ylabel(None)\n",
    "\n",
    "# tick parameters\n",
    "ax.tick_params(axis='both', which='major', labelsize=13)\n",
    "\n",
    "# this helps push the horiz bars away from the y\n",
    "sns.despine(offset=10, trim=True)\n",
    "\n",
    "# let's see it!\n",
    "plt.tight_layout()\n",
    "plt.show()\n",
    "\n",
    "# t-test as well\n",
    "west_darkness = partial_df[partial_df['region'] == 'West']['darkness']\n",
    "east_darkness = partial_df[partial_df['region'] == 'East']['darkness']\n",
    "t_stat, p_value = ttest_ind(east_darkness, west_darkness, equal_var=False)\n",
    "\n",
    "# t-test results\n",
    "print(f\"t-statistic: {t_stat:.3f}\")\n",
    "print(f\"p-value: {p_value:.5f}\")"
   ]
  },
  {
   "cell_type": "markdown",
   "id": "bf1d0bd3-092d-4e0d-85a8-539e61dc0aa6",
   "metadata": {},
   "source": [
    "## All three together:"
   ]
  },
  {
   "cell_type": "code",
   "execution_count": 16,
   "id": "b3fa6688-d71e-4573-a946-433e85f5a6fc",
   "metadata": {},
   "outputs": [
    {
     "data": {
      "image/png": "[encoded data removed]",
      "text/plain": [
       "<Figure size 1296x432 with 3 Axes>"
      ]
     },
     "metadata": {},
     "output_type": "display_data"
    }
   ],
   "source": [
    "# make nice figure aesthetics\n",
    "sns.set(style='whitegrid', context='talk', font_scale=1.2)\n",
    "\n",
    "# 1 row, 3 columns, share y-axis\n",
    "fig, axes = plt.subplots(ncols=3, sharey=True, figsize=(18, 6))\n",
    "\n",
    "# PLOT 1: sun_df\n",
    "sns.boxplot(\n",
    "    x='region', y='darkness', data=sun_df,\n",
    "    hue='region', legend=False,\n",
    "    palette=[sun_west_median_color, sun_east_median_color],\n",
    "    linewidth=3, fliersize=4,\n",
    "    order=['West', 'East'], hue_order=['West', 'East'],\n",
    "    ax=axes[0]\n",
    ")\n",
    "axes[0].set_title('Sun')\n",
    "axes[0].set_xlabel(None)\n",
    "axes[0].set_ylabel(None)\n",
    "axes[0].tick_params(axis='both', which='major', labelsize=13)\n",
    "sns.despine(ax=axes[0], offset=10, trim=True)\n",
    "\n",
    "# PLOT 2: partial_df\n",
    "sns.boxplot(\n",
    "    x='region', y='darkness', data=partial_df,\n",
    "    hue='region', legend=False,\n",
    "    palette=[partial_west_median_color, partial_east_median_color],\n",
    "    linewidth=3, fliersize=4,\n",
    "    order=['West', 'East'], hue_order=['West', 'East'],\n",
    "    ax=axes[1]\n",
    ")\n",
    "axes[1].set_title('Partial Sun')\n",
    "axes[1].set_xlabel(None)\n",
    "axes[1].set_ylabel(None)\n",
    "axes[1].tick_params(axis='both', which='major', labelsize=13)\n",
    "sns.despine(ax=axes[1], offset=10, trim=True)\n",
    "\n",
    "# PLOT 3: shade_df\n",
    "sns.boxplot(\n",
    "    x='region', y='darkness', data=shade_df,\n",
    "    hue='region', legend=False,\n",
    "    palette=[shade_west_median_color, shade_east_median_color],\n",
    "    linewidth=3, fliersize=4,\n",
    "    order=['West', 'East'], hue_order=['West', 'East'],\n",
    "    ax=axes[2]\n",
    ")\n",
    "axes[2].set_title('Shade')\n",
    "axes[2].set_xlabel(None)\n",
    "axes[2].set_ylabel(None)\n",
    "axes[2].tick_params(axis='both', which='major', labelsize=13)\n",
    "sns.despine(ax=axes[2], offset=10, trim=True)\n",
    "\n",
    "# y label\n",
    "fig.text(0.04, 0.5, 'Darkness', va='center', rotation='vertical', fontsize=16)\n",
    "\n",
    "plt.tight_layout(rect=[0.05, 0, 1, 1])\n",
    "plt.show()"
   ]
  },
  {
   "cell_type": "markdown",
   "id": "896f6793-61c9-4e39-9feb-161192fe32b4",
   "metadata": {},
   "source": [
    "# ~~~~~~~~~~~~~~~~~~~~~"
   ]
  },
  {
   "cell_type": "markdown",
   "id": "35521e9e-13e8-4898-85e5-a194c4281b86",
   "metadata": {},
   "source": [
    "# ~~~~~~~~~~~~~~~~~~~~~"
   ]
  },
  {
   "cell_type": "markdown",
   "id": "7ccadf83-269b-4f07-8f9e-b5aa72a1d44a",
   "metadata": {},
   "source": [
    "# ~~~~~~~~~~~~~~~~~~~~~"
   ]
  },
  {
   "cell_type": "markdown",
   "id": "b2068ac2-5346-41b5-b04f-cc2cd577d3d3",
   "metadata": {},
   "source": [
    "# Sam's Validation"
   ]
  },
  {
   "cell_type": "code",
   "execution_count": 17,
   "id": "602897be-3b07-4b86-98f8-035c3a9e272a",
   "metadata": {},
   "outputs": [],
   "source": [
    "sam_val = pd.read_csv('./validation_subset_Sam.csv')\n",
    "sam_val.columns = ['image_idxs', 'lighting', 'monarda']\n",
    "sam_val.to_csv('./validation_subset_Sam.csv',index=False)"
   ]
  },
  {
   "cell_type": "code",
   "execution_count": 18,
   "id": "934b11d5-b8cd-4ae0-96df-bf255fe2adce",
   "metadata": {},
   "outputs": [
    {
     "data": {
      "text/html": [
       "<div>\n",
       "<style scoped>\n",
       "    .dataframe tbody tr th:only-of-type {\n",
       "        vertical-align: middle;\n",
       "    }\n",
       "\n",
       "    .dataframe tbody tr th {\n",
       "        vertical-align: top;\n",
       "    }\n",
       "\n",
       "    .dataframe thead th {\n",
       "        text-align: right;\n",
       "    }\n",
       "</style>\n",
       "<table border=\"1\" class=\"dataframe\">\n",
       "  <thead>\n",
       "    <tr style=\"text-align: right;\">\n",
       "      <th></th>\n",
       "      <th>image_idxs</th>\n",
       "      <th>lighting</th>\n",
       "      <th>monarda</th>\n",
       "    </tr>\n",
       "  </thead>\n",
       "  <tbody>\n",
       "    <tr>\n",
       "      <th>0</th>\n",
       "      <td>10</td>\n",
       "      <td>h</td>\n",
       "      <td>NaN</td>\n",
       "    </tr>\n",
       "    <tr>\n",
       "      <th>1</th>\n",
       "      <td>143</td>\n",
       "      <td>s</td>\n",
       "      <td>NaN</td>\n",
       "    </tr>\n",
       "    <tr>\n",
       "      <th>2</th>\n",
       "      <td>177</td>\n",
       "      <td>s</td>\n",
       "      <td>NaN</td>\n",
       "    </tr>\n",
       "    <tr>\n",
       "      <th>3</th>\n",
       "      <td>382</td>\n",
       "      <td>p</td>\n",
       "      <td>NaN</td>\n",
       "    </tr>\n",
       "    <tr>\n",
       "      <th>4</th>\n",
       "      <td>531</td>\n",
       "      <td>h</td>\n",
       "      <td>NaN</td>\n",
       "    </tr>\n",
       "    <tr>\n",
       "      <th>...</th>\n",
       "      <td>...</td>\n",
       "      <td>...</td>\n",
       "      <td>...</td>\n",
       "    </tr>\n",
       "    <tr>\n",
       "      <th>495</th>\n",
       "      <td>40750</td>\n",
       "      <td>h</td>\n",
       "      <td>NaN</td>\n",
       "    </tr>\n",
       "    <tr>\n",
       "      <th>496</th>\n",
       "      <td>40772</td>\n",
       "      <td>s</td>\n",
       "      <td>NaN</td>\n",
       "    </tr>\n",
       "    <tr>\n",
       "      <th>497</th>\n",
       "      <td>40822</td>\n",
       "      <td>s</td>\n",
       "      <td>NaN</td>\n",
       "    </tr>\n",
       "    <tr>\n",
       "      <th>498</th>\n",
       "      <td>40894</td>\n",
       "      <td>h</td>\n",
       "      <td>NaN</td>\n",
       "    </tr>\n",
       "    <tr>\n",
       "      <th>499</th>\n",
       "      <td>40990</td>\n",
       "      <td>s</td>\n",
       "      <td>NaN</td>\n",
       "    </tr>\n",
       "  </tbody>\n",
       "</table>\n",
       "<p>500 rows × 3 columns</p>\n",
       "</div>"
      ],
      "text/plain": [
       "     image_idxs lighting  monarda\n",
       "0            10        h      NaN\n",
       "1           143        s      NaN\n",
       "2           177        s      NaN\n",
       "3           382        p      NaN\n",
       "4           531        h      NaN\n",
       "..          ...      ...      ...\n",
       "495       40750        h      NaN\n",
       "496       40772        s      NaN\n",
       "497       40822        s      NaN\n",
       "498       40894        h      NaN\n",
       "499       40990        s      NaN\n",
       "\n",
       "[500 rows x 3 columns]"
      ]
     },
     "execution_count": 18,
     "metadata": {},
     "output_type": "execute_result"
    }
   ],
   "source": [
    "sam_val"
   ]
  },
  {
   "cell_type": "code",
   "execution_count": 19,
   "id": "0229a385-cea3-4fe5-b3b1-adaf45a19e47",
   "metadata": {},
   "outputs": [
    {
     "data": {
      "text/plain": [
       "np.int64(500)"
      ]
     },
     "execution_count": 19,
     "metadata": {},
     "output_type": "execute_result"
    }
   ],
   "source": [
    "# how many show monarda flowers\n",
    "sam_val.monarda.isna().sum()"
   ]
  },
  {
   "cell_type": "code",
   "execution_count": 20,
   "id": "50f30517-c059-47ff-997b-ca044a9e1b30",
   "metadata": {},
   "outputs": [
    {
     "data": {
      "text/plain": [
       "np.int64(371)"
      ]
     },
     "execution_count": 20,
     "metadata": {},
     "output_type": "execute_result"
    }
   ],
   "source": [
    "# how many agree with Robin?\n",
    "np.sum(np.array(robin_val.lighting) == np.array(sam_val.lighting))"
   ]
  },
  {
   "cell_type": "code",
   "execution_count": 21,
   "id": "edb4cdec-e86f-4da0-ab90-c1c7c572b3c7",
   "metadata": {},
   "outputs": [],
   "source": [
    "sunlist = list(sam_val[sam_val.lighting.eq('s')].image_idxs)\n",
    "shadelist = list(sam_val[sam_val.lighting.eq('h')].image_idxs)\n",
    "partiallist = list(sam_val[sam_val.lighting.eq('p')].image_idxs)"
   ]
  },
  {
   "cell_type": "code",
   "execution_count": 22,
   "id": "bc4790ad-99cd-464b-b143-9e7fb034e2c0",
   "metadata": {},
   "outputs": [
    {
     "data": {
      "text/plain": [
       "np.int64(1)"
      ]
     },
     "execution_count": 22,
     "metadata": {},
     "output_type": "execute_result"
    }
   ],
   "source": [
    "np.sum(sam_val.lighting.eq('n'))"
   ]
  },
  {
   "cell_type": "code",
   "execution_count": 23,
   "id": "e52e27f5-468e-4d32-b4c8-11a1867a4532",
   "metadata": {},
   "outputs": [],
   "source": [
    "sun_df = color_df[(color_df.image_idx.isin(sunlist))]\n",
    "shade_df = color_df[(color_df.image_idx.isin(shadelist))]\n",
    "partial_df = color_df[(color_df.image_idx.isin(partiallist))]"
   ]
  },
  {
   "cell_type": "code",
   "execution_count": 24,
   "id": "d31e39ab-7d72-402d-9551-ebc6438adc84",
   "metadata": {},
   "outputs": [
    {
     "name": "stdout",
     "output_type": "stream",
     "text": [
      "Number of overall sun observations: 234\n",
      "    West: 113\n",
      "    East: 121\n",
      "Number of overall shade observations: 167\n",
      "    West: 82\n",
      "    East: 85\n",
      "Number of overall partial observations: 98\n",
      "    West: 54\n",
      "    East: 44\n"
     ]
    }
   ],
   "source": [
    "print(f\"Number of overall sun observations: {len(sunlist)}\")\n",
    "print(f\"    West: {np.sum(sun_df.longitude < -100)}\")\n",
    "print(f\"    East: {np.sum(sun_df.longitude > -100)}\")\n",
    "print(f\"Number of overall shade observations: {len(shadelist)}\")\n",
    "print(f\"    West: {np.sum(shade_df.longitude < -100)}\")\n",
    "print(f\"    East: {np.sum(shade_df.longitude > -100)}\")\n",
    "print(f\"Number of overall partial observations: {len(partiallist)}\")\n",
    "print(f\"    West: {np.sum(partial_df.longitude < -100)}\")\n",
    "print(f\"    East: {np.sum(partial_df.longitude > -100)}\")"
   ]
  },
  {
   "cell_type": "code",
   "execution_count": 25,
   "id": "6911d063-bdea-4fe5-9140-73e61640cd00",
   "metadata": {},
   "outputs": [
    {
     "data": {
      "text/plain": [
       "499"
      ]
     },
     "execution_count": 25,
     "metadata": {},
     "output_type": "execute_result"
    }
   ],
   "source": [
    "54+44+82+85+113+121"
   ]
  },
  {
   "cell_type": "markdown",
   "id": "3a04050a-6def-40ab-b43a-5d14db55a470",
   "metadata": {},
   "source": [
    "# Boxplots"
   ]
  },
  {
   "cell_type": "markdown",
   "id": "677fb5d2-4445-4eeb-8540-bd4d2e28799f",
   "metadata": {},
   "source": [
    "## get median color for each region"
   ]
  },
  {
   "cell_type": "code",
   "execution_count": 26,
   "id": "ce5482ca-bf5d-4064-b168-1b91db9a9823",
   "metadata": {},
   "outputs": [],
   "source": [
    "# conversion functions (from notebook 5)\n",
    "def rgb_to_hex(rgb):\n",
    "    # rgb should be a tuple like (R, G, B)\n",
    "    return '#{:02x}{:02x}{:02x}'.format(*rgb)\n",
    "def lab_to_rgb(lab):\n",
    "    \"\"\"convert (L,a,b) in OpenCV's Lab to (r,g,b) in [0,255]\"\"\"\n",
    "    arr = np.array([[lab]], dtype=np.uint8)\n",
    "    rgb = cv2.cvtColor(arr, cv2.COLOR_LAB2RGB)[0][0]\n",
    "    return tuple(int(x) for x in rgb)"
   ]
  },
  {
   "cell_type": "code",
   "execution_count": 27,
   "id": "f7e62e69-9889-446a-bbbd-981e64c2b7e4",
   "metadata": {},
   "outputs": [],
   "source": [
    "#####\n",
    "#SUN#\n",
    "#####\n",
    "\n",
    "### WEST\n",
    "west_sun = list(sun_df[sun_df.region.eq('West')].lab)\n",
    "west_sun = [i.strip('()').split(', ') for i in west_sun]\n",
    "west_sun = [[float(q) for q in i] for i in west_sun]\n",
    "\n",
    "median_lab = np.median(west_sun,axis=0) # lab color\n",
    "sun_west_median_color = rgb_to_hex(lab_to_rgb(median_lab)) # hex color\n",
    "\n",
    "### EAST\n",
    "east_sun = list(sun_df[sun_df.region.eq('East')].lab)\n",
    "east_sun = [i.strip('()').split(', ') for i in east_sun]\n",
    "east_sun = [[float(q) for q in i] for i in east_sun]\n",
    "\n",
    "median_lab = np.median(east_sun,axis=0) # lab color\n",
    "sun_east_median_color = rgb_to_hex(lab_to_rgb(median_lab)) # hex color\n",
    "\n",
    "#######\n",
    "#SHADE#\n",
    "#######\n",
    "\n",
    "### WEST\n",
    "west_shade = list(shade_df[shade_df.region.eq('West')].lab)\n",
    "west_shade = [i.strip('()').split(', ') for i in west_shade]\n",
    "west_shade = [[float(q) for q in i] for i in west_shade]\n",
    "\n",
    "median_lab = np.median(west_shade,axis=0) # lab color\n",
    "shade_west_median_color = rgb_to_hex(lab_to_rgb(median_lab)) # hex color\n",
    "\n",
    "### EAST\n",
    "east_shade = list(shade_df[shade_df.region.eq('East')].lab)\n",
    "east_shade = [i.strip('()').split(', ') for i in east_shade]\n",
    "east_shade = [[float(q) for q in i] for i in east_shade]\n",
    "\n",
    "median_lab = np.median(east_shade,axis=0) # lab color\n",
    "shade_east_median_color = rgb_to_hex(lab_to_rgb(median_lab)) # hex color\n",
    "\n",
    "\n",
    "#########\n",
    "#PARTIAL#\n",
    "#########\n",
    "\n",
    "### WEST\n",
    "west_partial = list(partial_df[partial_df.region.eq('West')].lab)\n",
    "west_partial = [i.strip('()').split(', ') for i in west_partial]\n",
    "west_partial = [[float(q) for q in i] for i in west_partial]\n",
    "\n",
    "median_lab = np.median(west_partial,axis=0) # lab color\n",
    "partial_west_median_color = rgb_to_hex(lab_to_rgb(median_lab)) # hex color\n",
    "\n",
    "### EAST\n",
    "east_partial = list(partial_df[partial_df.region.eq('East')].lab)\n",
    "east_partial = [i.strip('()').split(', ') for i in east_partial]\n",
    "east_partial = [[float(q) for q in i] for i in east_partial]\n",
    "\n",
    "median_lab = np.median(east_partial,axis=0) # lab color\n",
    "partial_east_median_color = rgb_to_hex(lab_to_rgb(median_lab)) # hex color"
   ]
  },
  {
   "cell_type": "markdown",
   "id": "1aa5d8f1-ecb7-4db1-81d6-4daf252e9ee3",
   "metadata": {},
   "source": [
    "## Sun individual boxplots"
   ]
  },
  {
   "cell_type": "code",
   "execution_count": 28,
   "id": "9718bb32-e738-4c54-9b12-6c93ba662396",
   "metadata": {},
   "outputs": [
    {
     "data": {
      "image/png": "[encoded data removed]",
      "text/plain": [
       "<Figure size 576x432 with 1 Axes>"
      ]
     },
     "metadata": {},
     "output_type": "display_data"
    },
    {
     "name": "stdout",
     "output_type": "stream",
     "text": [
      "t-statistic: -7.551\n",
      "p-value: 0.00000\n"
     ]
    }
   ],
   "source": [
    "# make nice figure aesthetics\n",
    "sns.set(style='whitegrid', context='talk', font_scale=1.2)\n",
    "\n",
    "# set up plot\n",
    "fig, ax = plt.subplots(figsize=(8, 6))\n",
    "\n",
    "# specify boxplot params\n",
    "sns.boxplot(\n",
    "    x='region',\n",
    "    y='darkness',\n",
    "    data=sun_df,\n",
    "    hue='region',\n",
    "    legend=False,\n",
    "    palette=[sun_west_median_color, sun_east_median_color],  # two shades of purple. could be the same, no preference here.\n",
    "    linewidth=3,\n",
    "    fliersize=4,\n",
    "    order=['West', 'East'],\n",
    "    hue_order=['West', 'East'],\n",
    "    ax=ax\n",
    ")\n",
    "\n",
    "# no labels/titles\n",
    "#ax.set_title('\"Darkness\" by Region (West vs. East)', fontsize=16, fontweight='bold', pad=15)\n",
    "ax.set_xlabel(None)\n",
    "ax.set_ylabel(None)\n",
    "\n",
    "# tick parameters\n",
    "ax.tick_params(axis='both', which='major', labelsize=13)\n",
    "\n",
    "# this helps push the horiz bars away from the y\n",
    "sns.despine(offset=10, trim=True)\n",
    "\n",
    "# let's see it!\n",
    "plt.tight_layout()\n",
    "plt.show()\n",
    "\n",
    "# t-test as well\n",
    "west_darkness = sun_df[sun_df['region'] == 'West']['darkness']\n",
    "east_darkness = sun_df[sun_df['region'] == 'East']['darkness']\n",
    "t_stat, p_value = ttest_ind(east_darkness, west_darkness, equal_var=False)\n",
    "\n",
    "# t-test results\n",
    "print(f\"t-statistic: {t_stat:.3f}\")\n",
    "print(f\"p-value: {p_value:.5f}\")"
   ]
  },
  {
   "cell_type": "markdown",
   "id": "8b219702-6975-4130-ba04-274132c11eee",
   "metadata": {},
   "source": [
    "## Shade individual boxplots"
   ]
  },
  {
   "cell_type": "code",
   "execution_count": 29,
   "id": "52ce6959-dc77-47fb-8216-813e91bdf4df",
   "metadata": {},
   "outputs": [
    {
     "data": {
      "image/png": "[encoded data removed]",
      "text/plain": [
       "<Figure size 576x432 with 1 Axes>"
      ]
     },
     "metadata": {},
     "output_type": "display_data"
    },
    {
     "name": "stdout",
     "output_type": "stream",
     "text": [
      "t-statistic: -7.621\n",
      "p-value: 0.00000\n"
     ]
    }
   ],
   "source": [
    "# make nice figure aesthetics\n",
    "sns.set(style='whitegrid', context='talk', font_scale=1.2)\n",
    "\n",
    "# set up plot\n",
    "fig, ax = plt.subplots(figsize=(8, 6))\n",
    "\n",
    "# specify boxplot params\n",
    "sns.boxplot(\n",
    "    x='region',\n",
    "    y='darkness',\n",
    "    data=shade_df,\n",
    "    hue='region',\n",
    "    legend=False,\n",
    "    palette=[shade_west_median_color, shade_east_median_color],  # two shades of purple. could be the same, no preference here.\n",
    "    linewidth=3,\n",
    "    fliersize=4,\n",
    "    order=['West', 'East'],\n",
    "    hue_order=['West', 'East'],\n",
    "    ax=ax\n",
    ")\n",
    "\n",
    "# no labels/titles\n",
    "#ax.set_title('\"Darkness\" by Region (West vs. East)', fontsize=16, fontweight='bold', pad=15)\n",
    "ax.set_xlabel(None)\n",
    "ax.set_ylabel(None)\n",
    "\n",
    "# tick parameters\n",
    "ax.tick_params(axis='both', which='major', labelsize=13)\n",
    "\n",
    "# this helps push the horiz bars away from the y\n",
    "sns.despine(offset=10, trim=True)\n",
    "\n",
    "# let's see it!\n",
    "plt.tight_layout()\n",
    "plt.show()\n",
    "\n",
    "# t-test as well\n",
    "west_darkness = shade_df[shade_df['region'] == 'West']['darkness']\n",
    "east_darkness = shade_df[shade_df['region'] == 'East']['darkness']\n",
    "t_stat, p_value = ttest_ind(east_darkness, west_darkness, equal_var=False)\n",
    "\n",
    "# t-test results\n",
    "print(f\"t-statistic: {t_stat:.3f}\")\n",
    "print(f\"p-value: {p_value:.5f}\")"
   ]
  },
  {
   "cell_type": "markdown",
   "id": "7e7cadbd-fb65-488a-93c6-a09858f7b5ff",
   "metadata": {},
   "source": [
    "## Partial individual boxplots"
   ]
  },
  {
   "cell_type": "code",
   "execution_count": 30,
   "id": "b7e02d10-cfda-4b94-b610-5b91d9188123",
   "metadata": {},
   "outputs": [
    {
     "data": {
      "image/png": "[encoded data removed]",
      "text/plain": [
       "<Figure size 576x432 with 1 Axes>"
      ]
     },
     "metadata": {},
     "output_type": "display_data"
    },
    {
     "name": "stdout",
     "output_type": "stream",
     "text": [
      "t-statistic: -3.725\n",
      "p-value: 0.00033\n"
     ]
    }
   ],
   "source": [
    "# make nice figure aesthetics\n",
    "sns.set(style='whitegrid', context='talk', font_scale=1.2)\n",
    "\n",
    "# set up plot\n",
    "fig, ax = plt.subplots(figsize=(8, 6))\n",
    "\n",
    "# specify boxplot params\n",
    "sns.boxplot(\n",
    "    x='region',\n",
    "    y='darkness',\n",
    "    data=partial_df,\n",
    "    hue='region',\n",
    "    legend=False,\n",
    "    palette=[partial_west_median_color, partial_east_median_color],  # two shades of purple. could be the same, no preference here.\n",
    "    linewidth=3,\n",
    "    fliersize=4,\n",
    "    order=['West', 'East'],\n",
    "    hue_order=['West', 'East'],\n",
    "    ax=ax\n",
    ")\n",
    "\n",
    "# no labels/titles\n",
    "#ax.set_title('\"Darkness\" by Region (West vs. East)', fontsize=16, fontweight='bold', pad=15)\n",
    "ax.set_xlabel(None)\n",
    "ax.set_ylabel(None)\n",
    "\n",
    "# tick parameters\n",
    "ax.tick_params(axis='both', which='major', labelsize=13)\n",
    "\n",
    "# this helps push the horiz bars away from the y\n",
    "sns.despine(offset=10, trim=True)\n",
    "\n",
    "# let's see it!\n",
    "plt.tight_layout()\n",
    "plt.show()\n",
    "\n",
    "# t-test as well\n",
    "west_darkness = partial_df[partial_df['region'] == 'West']['darkness']\n",
    "east_darkness = partial_df[partial_df['region'] == 'East']['darkness']\n",
    "t_stat, p_value = ttest_ind(east_darkness, west_darkness, equal_var=False)\n",
    "\n",
    "# t-test results\n",
    "print(f\"t-statistic: {t_stat:.3f}\")\n",
    "print(f\"p-value: {p_value:.5f}\")"
   ]
  },
  {
   "cell_type": "markdown",
   "id": "540ff922-bad0-48b8-bff8-3a2678d4ba69",
   "metadata": {},
   "source": [
    "## All three together:"
   ]
  },
  {
   "cell_type": "code",
   "execution_count": 31,
   "id": "b97efdc8-6ac6-409f-a19d-2ffe3c3e1844",
   "metadata": {},
   "outputs": [
    {
     "data": {
      "image/png": "[encoded data removed]",
      "text/plain": [
       "<Figure size 1296x432 with 3 Axes>"
      ]
     },
     "metadata": {},
     "output_type": "display_data"
    }
   ],
   "source": [
    "# make nice figure aesthetics\n",
    "sns.set(style='whitegrid', context='talk', font_scale=1.2)\n",
    "\n",
    "# 1 row, 3 columns, share y-axis\n",
    "fig, axes = plt.subplots(ncols=3, sharey=True, figsize=(18, 6))\n",
    "\n",
    "# PLOT 1: sun_df\n",
    "sns.boxplot(\n",
    "    x='region', y='darkness', data=sun_df,\n",
    "    hue='region', legend=False,\n",
    "    palette=[sun_west_median_color, sun_east_median_color],\n",
    "    linewidth=3, fliersize=4,\n",
    "    order=['West', 'East'], hue_order=['West', 'East'],\n",
    "    ax=axes[0]\n",
    ")\n",
    "axes[0].set_title('Sun')\n",
    "axes[0].set_xlabel(None)\n",
    "axes[0].set_ylabel(None)\n",
    "axes[0].tick_params(axis='both', which='major', labelsize=13)\n",
    "sns.despine(ax=axes[0], offset=10, trim=True)\n",
    "\n",
    "# PLOT 2: partial_df\n",
    "sns.boxplot(\n",
    "    x='region', y='darkness', data=partial_df,\n",
    "    hue='region', legend=False,\n",
    "    palette=[partial_west_median_color, partial_east_median_color],\n",
    "    linewidth=3, fliersize=4,\n",
    "    order=['West', 'East'], hue_order=['West', 'East'],\n",
    "    ax=axes[1]\n",
    ")\n",
    "axes[1].set_title('Partial Sun')\n",
    "axes[1].set_xlabel(None)\n",
    "axes[1].set_ylabel(None)\n",
    "axes[1].tick_params(axis='both', which='major', labelsize=13)\n",
    "sns.despine(ax=axes[1], offset=10, trim=True)\n",
    "\n",
    "# PLOT 3: shade_df\n",
    "sns.boxplot(\n",
    "    x='region', y='darkness', data=shade_df,\n",
    "    hue='region', legend=False,\n",
    "    palette=[shade_west_median_color, shade_east_median_color],\n",
    "    linewidth=3, fliersize=4,\n",
    "    order=['West', 'East'], hue_order=['West', 'East'],\n",
    "    ax=axes[2]\n",
    ")\n",
    "axes[2].set_title('Shade')\n",
    "axes[2].set_xlabel(None)\n",
    "axes[2].set_ylabel(None)\n",
    "axes[2].tick_params(axis='both', which='major', labelsize=13)\n",
    "sns.despine(ax=axes[2], offset=10, trim=True)\n",
    "\n",
    "# y label\n",
    "fig.text(0.04, 0.5, 'Darkness', va='center', rotation='vertical', fontsize=16)\n",
    "\n",
    "plt.tight_layout(rect=[0.05, 0, 1, 1])\n",
    "plt.show()"
   ]
  },
  {
   "cell_type": "markdown",
   "id": "568d0528-9415-4718-9014-56fefb8d6c03",
   "metadata": {},
   "source": [
    "# ~~~~~~~~~~~~~~~~~~~~~"
   ]
  },
  {
   "cell_type": "markdown",
   "id": "f068655c-5c0b-4e08-b6f5-5f2e842a5ee7",
   "metadata": {},
   "source": [
    "# ~~~~~~~~~~~~~~~~~~~~~"
   ]
  },
  {
   "cell_type": "markdown",
   "id": "321b7360-bffa-4af0-a373-569c79bb4100",
   "metadata": {},
   "source": [
    "# ~~~~~~~~~~~~~~~~~~~~~"
   ]
  },
  {
   "cell_type": "markdown",
   "id": "d1743dcc-3676-4eb8-998a-9c52c33b6a49",
   "metadata": {},
   "source": [
    "# Intersected Validation"
   ]
  },
  {
   "cell_type": "code",
   "execution_count": 47,
   "id": "7d0d832f-efc9-422d-adb2-ea7c3c76bb48",
   "metadata": {},
   "outputs": [
    {
     "data": {
      "text/html": [
       "<div>\n",
       "<style scoped>\n",
       "    .dataframe tbody tr th:only-of-type {\n",
       "        vertical-align: middle;\n",
       "    }\n",
       "\n",
       "    .dataframe tbody tr th {\n",
       "        vertical-align: top;\n",
       "    }\n",
       "\n",
       "    .dataframe thead th {\n",
       "        text-align: right;\n",
       "    }\n",
       "</style>\n",
       "<table border=\"1\" class=\"dataframe\">\n",
       "  <thead>\n",
       "    <tr style=\"text-align: right;\">\n",
       "      <th></th>\n",
       "      <th>image_idxs</th>\n",
       "      <th>lighting</th>\n",
       "      <th>monarda</th>\n",
       "    </tr>\n",
       "  </thead>\n",
       "  <tbody>\n",
       "    <tr>\n",
       "      <th>0</th>\n",
       "      <td>10</td>\n",
       "      <td>h</td>\n",
       "      <td>NaN</td>\n",
       "    </tr>\n",
       "    <tr>\n",
       "      <th>1</th>\n",
       "      <td>143</td>\n",
       "      <td>s</td>\n",
       "      <td>NaN</td>\n",
       "    </tr>\n",
       "    <tr>\n",
       "      <th>2</th>\n",
       "      <td>177</td>\n",
       "      <td>s</td>\n",
       "      <td>NaN</td>\n",
       "    </tr>\n",
       "    <tr>\n",
       "      <th>4</th>\n",
       "      <td>531</td>\n",
       "      <td>h</td>\n",
       "      <td>NaN</td>\n",
       "    </tr>\n",
       "    <tr>\n",
       "      <th>6</th>\n",
       "      <td>552</td>\n",
       "      <td>s</td>\n",
       "      <td>NaN</td>\n",
       "    </tr>\n",
       "    <tr>\n",
       "      <th>...</th>\n",
       "      <td>...</td>\n",
       "      <td>...</td>\n",
       "      <td>...</td>\n",
       "    </tr>\n",
       "    <tr>\n",
       "      <th>494</th>\n",
       "      <td>40709</td>\n",
       "      <td>h</td>\n",
       "      <td>NaN</td>\n",
       "    </tr>\n",
       "    <tr>\n",
       "      <th>496</th>\n",
       "      <td>40772</td>\n",
       "      <td>s</td>\n",
       "      <td>NaN</td>\n",
       "    </tr>\n",
       "    <tr>\n",
       "      <th>497</th>\n",
       "      <td>40822</td>\n",
       "      <td>s</td>\n",
       "      <td>NaN</td>\n",
       "    </tr>\n",
       "    <tr>\n",
       "      <th>498</th>\n",
       "      <td>40894</td>\n",
       "      <td>h</td>\n",
       "      <td>NaN</td>\n",
       "    </tr>\n",
       "    <tr>\n",
       "      <th>499</th>\n",
       "      <td>40990</td>\n",
       "      <td>s</td>\n",
       "      <td>NaN</td>\n",
       "    </tr>\n",
       "  </tbody>\n",
       "</table>\n",
       "<p>371 rows × 3 columns</p>\n",
       "</div>"
      ],
      "text/plain": [
       "     image_idxs lighting  monarda\n",
       "0            10        h      NaN\n",
       "1           143        s      NaN\n",
       "2           177        s      NaN\n",
       "4           531        h      NaN\n",
       "6           552        s      NaN\n",
       "..          ...      ...      ...\n",
       "494       40709        h      NaN\n",
       "496       40772        s      NaN\n",
       "497       40822        s      NaN\n",
       "498       40894        h      NaN\n",
       "499       40990        s      NaN\n",
       "\n",
       "[371 rows x 3 columns]"
      ]
     },
     "execution_count": 47,
     "metadata": {},
     "output_type": "execute_result"
    }
   ],
   "source": [
    "# pull out all the rows where Robin and Sam agree\n",
    "intersected_val = robin_val[np.array(sam_val.lighting) == np.array(robin_val.lighting)]\n",
    "intersected_val"
   ]
  },
  {
   "cell_type": "code",
   "execution_count": 48,
   "id": "3292f83b-9e4f-42d7-9580-c0cb465f6695",
   "metadata": {},
   "outputs": [],
   "source": [
    "sunlist = list(intersected_val[intersected_val.lighting.eq('s')].image_idxs)\n",
    "shadelist = list(intersected_val[intersected_val.lighting.eq('h')].image_idxs)\n",
    "partiallist = list(intersected_val[intersected_val.lighting.eq('p')].image_idxs)"
   ]
  },
  {
   "cell_type": "code",
   "execution_count": 50,
   "id": "5a6529a0-7acc-4263-bbdf-374b5043b89b",
   "metadata": {},
   "outputs": [],
   "source": [
    "sun_df = color_df[(color_df.image_idx.isin(sunlist))]\n",
    "shade_df = color_df[(color_df.image_idx.isin(shadelist))]\n",
    "partial_df = color_df[(color_df.image_idx.isin(partiallist))]"
   ]
  },
  {
   "cell_type": "code",
   "execution_count": 51,
   "id": "88d4e684-5470-47e2-afd9-d6d5004672b4",
   "metadata": {},
   "outputs": [
    {
     "name": "stdout",
     "output_type": "stream",
     "text": [
      "Number of overall sun observations: 182\n",
      "    West: 90\n",
      "    East: 92\n",
      "Number of overall shade observations: 141\n",
      "    West: 68\n",
      "    East: 73\n",
      "Number of overall partial observations: 48\n",
      "    West: 26\n",
      "    East: 22\n"
     ]
    }
   ],
   "source": [
    "print(f\"Number of overall sun observations: {len(sunlist)}\")\n",
    "print(f\"    West: {np.sum(sun_df.longitude < -100)}\")\n",
    "print(f\"    East: {np.sum(sun_df.longitude > -100)}\")\n",
    "print(f\"Number of overall shade observations: {len(shadelist)}\")\n",
    "print(f\"    West: {np.sum(shade_df.longitude < -100)}\")\n",
    "print(f\"    East: {np.sum(shade_df.longitude > -100)}\")\n",
    "print(f\"Number of overall partial observations: {len(partiallist)}\")\n",
    "print(f\"    West: {np.sum(partial_df.longitude < -100)}\")\n",
    "print(f\"    East: {np.sum(partial_df.longitude > -100)}\")"
   ]
  },
  {
   "cell_type": "markdown",
   "id": "aaf96293-2c8a-45b0-a856-10193fd8159f",
   "metadata": {},
   "source": [
    "# Boxplots"
   ]
  },
  {
   "cell_type": "markdown",
   "id": "55f0cbf2-0df3-4817-8639-e24d9bd4ac4c",
   "metadata": {},
   "source": [
    "## get median color for each region"
   ]
  },
  {
   "cell_type": "code",
   "execution_count": 53,
   "id": "ab0fb3ee-eadb-4ef3-b05c-88f6238380b9",
   "metadata": {},
   "outputs": [],
   "source": [
    "# conversion functions (from notebook 5)\n",
    "def rgb_to_hex(rgb):\n",
    "    # rgb should be a tuple like (R, G, B)\n",
    "    return '#{:02x}{:02x}{:02x}'.format(*rgb)\n",
    "def lab_to_rgb(lab):\n",
    "    \"\"\"convert (L,a,b) in OpenCV's Lab to (r,g,b) in [0,255]\"\"\"\n",
    "    arr = np.array([[lab]], dtype=np.uint8)\n",
    "    rgb = cv2.cvtColor(arr, cv2.COLOR_LAB2RGB)[0][0]\n",
    "    return tuple(int(x) for x in rgb)"
   ]
  },
  {
   "cell_type": "code",
   "execution_count": 54,
   "id": "81e71fb7-0390-4ada-9049-43b88d45c8b9",
   "metadata": {},
   "outputs": [],
   "source": [
    "#####\n",
    "#SUN#\n",
    "#####\n",
    "\n",
    "### WEST\n",
    "west_sun = list(sun_df[sun_df.region.eq('West')].lab)\n",
    "west_sun = [i.strip('()').split(', ') for i in west_sun]\n",
    "west_sun = [[float(q) for q in i] for i in west_sun]\n",
    "\n",
    "median_lab = np.median(west_sun,axis=0) # lab color\n",
    "sun_west_median_color = rgb_to_hex(lab_to_rgb(median_lab)) # hex color\n",
    "\n",
    "### EAST\n",
    "east_sun = list(sun_df[sun_df.region.eq('East')].lab)\n",
    "east_sun = [i.strip('()').split(', ') for i in east_sun]\n",
    "east_sun = [[float(q) for q in i] for i in east_sun]\n",
    "\n",
    "median_lab = np.median(east_sun,axis=0) # lab color\n",
    "sun_east_median_color = rgb_to_hex(lab_to_rgb(median_lab)) # hex color\n",
    "\n",
    "#######\n",
    "#SHADE#\n",
    "#######\n",
    "\n",
    "### WEST\n",
    "west_shade = list(shade_df[shade_df.region.eq('West')].lab)\n",
    "west_shade = [i.strip('()').split(', ') for i in west_shade]\n",
    "west_shade = [[float(q) for q in i] for i in west_shade]\n",
    "\n",
    "median_lab = np.median(west_shade,axis=0) # lab color\n",
    "shade_west_median_color = rgb_to_hex(lab_to_rgb(median_lab)) # hex color\n",
    "\n",
    "### EAST\n",
    "east_shade = list(shade_df[shade_df.region.eq('East')].lab)\n",
    "east_shade = [i.strip('()').split(', ') for i in east_shade]\n",
    "east_shade = [[float(q) for q in i] for i in east_shade]\n",
    "\n",
    "median_lab = np.median(east_shade,axis=0) # lab color\n",
    "shade_east_median_color = rgb_to_hex(lab_to_rgb(median_lab)) # hex color\n",
    "\n",
    "\n",
    "#########\n",
    "#PARTIAL#\n",
    "#########\n",
    "\n",
    "### WEST\n",
    "west_partial = list(partial_df[partial_df.region.eq('West')].lab)\n",
    "west_partial = [i.strip('()').split(', ') for i in west_partial]\n",
    "west_partial = [[float(q) for q in i] for i in west_partial]\n",
    "\n",
    "median_lab = np.median(west_partial,axis=0) # lab color\n",
    "partial_west_median_color = rgb_to_hex(lab_to_rgb(median_lab)) # hex color\n",
    "\n",
    "### EAST\n",
    "east_partial = list(partial_df[partial_df.region.eq('East')].lab)\n",
    "east_partial = [i.strip('()').split(', ') for i in east_partial]\n",
    "east_partial = [[float(q) for q in i] for i in east_partial]\n",
    "\n",
    "median_lab = np.median(east_partial,axis=0) # lab color\n",
    "partial_east_median_color = rgb_to_hex(lab_to_rgb(median_lab)) # hex color"
   ]
  },
  {
   "cell_type": "markdown",
   "id": "46b35331-8426-42a9-9d1d-785bc533ad2a",
   "metadata": {},
   "source": [
    "## Sun individual boxplots"
   ]
  },
  {
   "cell_type": "code",
   "execution_count": 55,
   "id": "c8fb153e-ba6d-4f4c-8434-8e4e5cda68f0",
   "metadata": {},
   "outputs": [
    {
     "data": {
      "image/png": "[encoded data removed]",
      "text/plain": [
       "<Figure size 576x432 with 1 Axes>"
      ]
     },
     "metadata": {},
     "output_type": "display_data"
    },
    {
     "name": "stdout",
     "output_type": "stream",
     "text": [
      "t-statistic: -7.530\n",
      "p-value: 0.00000\n"
     ]
    }
   ],
   "source": [
    "# make nice figure aesthetics\n",
    "sns.set(style='whitegrid', context='talk', font_scale=1.2)\n",
    "\n",
    "# set up plot\n",
    "fig, ax = plt.subplots(figsize=(8, 6))\n",
    "\n",
    "# specify boxplot params\n",
    "sns.boxplot(\n",
    "    x='region',\n",
    "    y='darkness',\n",
    "    data=sun_df,\n",
    "    hue='region',\n",
    "    legend=False,\n",
    "    palette=[sun_west_median_color, sun_east_median_color],  # two shades of purple. could be the same, no preference here.\n",
    "    linewidth=3,\n",
    "    fliersize=4,\n",
    "    order=['West', 'East'],\n",
    "    hue_order=['West', 'East'],\n",
    "    ax=ax\n",
    ")\n",
    "\n",
    "# no labels/titles\n",
    "#ax.set_title('\"Darkness\" by Region (West vs. East)', fontsize=16, fontweight='bold', pad=15)\n",
    "ax.set_xlabel(None)\n",
    "ax.set_ylabel(None)\n",
    "\n",
    "# tick parameters\n",
    "ax.tick_params(axis='both', which='major', labelsize=13)\n",
    "\n",
    "# this helps push the horiz bars away from the y\n",
    "sns.despine(offset=10, trim=True)\n",
    "\n",
    "# let's see it!\n",
    "plt.tight_layout()\n",
    "plt.show()\n",
    "\n",
    "# t-test as well\n",
    "west_darkness = sun_df[sun_df['region'] == 'West']['darkness']\n",
    "east_darkness = sun_df[sun_df['region'] == 'East']['darkness']\n",
    "t_stat, p_value = ttest_ind(east_darkness, west_darkness, equal_var=False)\n",
    "\n",
    "# t-test results\n",
    "print(f\"t-statistic: {t_stat:.3f}\")\n",
    "print(f\"p-value: {p_value:.5f}\")"
   ]
  },
  {
   "cell_type": "markdown",
   "id": "8d2629b8-cf29-4a74-81e0-53ed07ba8649",
   "metadata": {},
   "source": [
    "## Shade individual boxplots"
   ]
  },
  {
   "cell_type": "code",
   "execution_count": 56,
   "id": "270dff36-90f2-4ca0-a94b-316446de71c0",
   "metadata": {},
   "outputs": [
    {
     "data": {
      "image/png": "[encoded data removed]",
      "text/plain": [
       "<Figure size 576x432 with 1 Axes>"
      ]
     },
     "metadata": {},
     "output_type": "display_data"
    },
    {
     "name": "stdout",
     "output_type": "stream",
     "text": [
      "t-statistic: -7.475\n",
      "p-value: 0.00000\n"
     ]
    }
   ],
   "source": [
    "# make nice figure aesthetics\n",
    "sns.set(style='whitegrid', context='talk', font_scale=1.2)\n",
    "\n",
    "# set up plot\n",
    "fig, ax = plt.subplots(figsize=(8, 6))\n",
    "\n",
    "# specify boxplot params\n",
    "sns.boxplot(\n",
    "    x='region',\n",
    "    y='darkness',\n",
    "    data=shade_df,\n",
    "    hue='region',\n",
    "    legend=False,\n",
    "    palette=[shade_west_median_color, shade_east_median_color],  # two shades of purple. could be the same, no preference here.\n",
    "    linewidth=3,\n",
    "    fliersize=4,\n",
    "    order=['West', 'East'],\n",
    "    hue_order=['West', 'East'],\n",
    "    ax=ax\n",
    ")\n",
    "\n",
    "# no labels/titles\n",
    "#ax.set_title('\"Darkness\" by Region (West vs. East)', fontsize=16, fontweight='bold', pad=15)\n",
    "ax.set_xlabel(None)\n",
    "ax.set_ylabel(None)\n",
    "\n",
    "# tick parameters\n",
    "ax.tick_params(axis='both', which='major', labelsize=13)\n",
    "\n",
    "# this helps push the horiz bars away from the y\n",
    "sns.despine(offset=10, trim=True)\n",
    "\n",
    "# let's see it!\n",
    "plt.tight_layout()\n",
    "plt.show()\n",
    "\n",
    "# t-test as well\n",
    "west_darkness = shade_df[shade_df['region'] == 'West']['darkness']\n",
    "east_darkness = shade_df[shade_df['region'] == 'East']['darkness']\n",
    "t_stat, p_value = ttest_ind(east_darkness, west_darkness, equal_var=False)\n",
    "\n",
    "# t-test results\n",
    "print(f\"t-statistic: {t_stat:.3f}\")\n",
    "print(f\"p-value: {p_value:.5f}\")"
   ]
  },
  {
   "cell_type": "markdown",
   "id": "6e17f678-ea5a-4605-90bb-e2a0568d5462",
   "metadata": {},
   "source": [
    "## Partial individual boxplots"
   ]
  },
  {
   "cell_type": "code",
   "execution_count": 57,
   "id": "32b61b92-9c0a-461e-9b4a-e601bfb7280b",
   "metadata": {},
   "outputs": [
    {
     "data": {
      "image/png": "[encoded data removed]",
      "text/plain": [
       "<Figure size 576x432 with 1 Axes>"
      ]
     },
     "metadata": {},
     "output_type": "display_data"
    },
    {
     "name": "stdout",
     "output_type": "stream",
     "text": [
      "t-statistic: -2.173\n",
      "p-value: 0.03497\n"
     ]
    }
   ],
   "source": [
    "# make nice figure aesthetics\n",
    "sns.set(style='whitegrid', context='talk', font_scale=1.2)\n",
    "\n",
    "# set up plot\n",
    "fig, ax = plt.subplots(figsize=(8, 6))\n",
    "\n",
    "# specify boxplot params\n",
    "sns.boxplot(\n",
    "    x='region',\n",
    "    y='darkness',\n",
    "    data=partial_df,\n",
    "    hue='region',\n",
    "    legend=False,\n",
    "    palette=[partial_west_median_color, partial_east_median_color],  # two shades of purple. could be the same, no preference here.\n",
    "    linewidth=3,\n",
    "    fliersize=4,\n",
    "    order=['West', 'East'],\n",
    "    hue_order=['West', 'East'],\n",
    "    ax=ax\n",
    ")\n",
    "\n",
    "# no labels/titles\n",
    "#ax.set_title('\"Darkness\" by Region (West vs. East)', fontsize=16, fontweight='bold', pad=15)\n",
    "ax.set_xlabel(None)\n",
    "ax.set_ylabel(None)\n",
    "\n",
    "# tick parameters\n",
    "ax.tick_params(axis='both', which='major', labelsize=13)\n",
    "\n",
    "# this helps push the horiz bars away from the y\n",
    "sns.despine(offset=10, trim=True)\n",
    "\n",
    "# let's see it!\n",
    "plt.tight_layout()\n",
    "plt.show()\n",
    "\n",
    "# t-test as well\n",
    "west_darkness = partial_df[partial_df['region'] == 'West']['darkness']\n",
    "east_darkness = partial_df[partial_df['region'] == 'East']['darkness']\n",
    "t_stat, p_value = ttest_ind(east_darkness, west_darkness, equal_var=False)\n",
    "\n",
    "# t-test results\n",
    "print(f\"t-statistic: {t_stat:.3f}\")\n",
    "print(f\"p-value: {p_value:.5f}\")"
   ]
  },
  {
   "cell_type": "markdown",
   "id": "979daec7-d142-450b-b988-69c7b14dc1e4",
   "metadata": {},
   "source": [
    "## All three together:"
   ]
  },
  {
   "cell_type": "code",
   "execution_count": 58,
   "id": "a1e6a057-cc6a-4d46-9232-b58a99cf8711",
   "metadata": {},
   "outputs": [
    {
     "data": {
      "image/png": "[encoded data removed]",
      "text/plain": [
       "<Figure size 1296x432 with 3 Axes>"
      ]
     },
     "metadata": {},
     "output_type": "display_data"
    }
   ],
   "source": [
    "# make nice figure aesthetics\n",
    "sns.set(style='whitegrid', context='talk', font_scale=1.2)\n",
    "\n",
    "# 1 row, 3 columns, share y-axis\n",
    "fig, axes = plt.subplots(ncols=3, sharey=True, figsize=(18, 6))\n",
    "\n",
    "# PLOT 1: sun_df\n",
    "sns.boxplot(\n",
    "    x='region', y='darkness', data=sun_df,\n",
    "    hue='region', legend=False,\n",
    "    palette=[sun_west_median_color, sun_east_median_color],\n",
    "    linewidth=3, fliersize=4,\n",
    "    order=['West', 'East'], hue_order=['West', 'East'],\n",
    "    ax=axes[0]\n",
    ")\n",
    "axes[0].set_title('Sun')\n",
    "axes[0].set_xlabel(None)\n",
    "axes[0].set_ylabel(None)\n",
    "axes[0].tick_params(axis='both', which='major', labelsize=13)\n",
    "sns.despine(ax=axes[0], offset=10, trim=True)\n",
    "\n",
    "# PLOT 2: partial_df\n",
    "sns.boxplot(\n",
    "    x='region', y='darkness', data=partial_df,\n",
    "    hue='region', legend=False,\n",
    "    palette=[partial_west_median_color, partial_east_median_color],\n",
    "    linewidth=3, fliersize=4,\n",
    "    order=['West', 'East'], hue_order=['West', 'East'],\n",
    "    ax=axes[1]\n",
    ")\n",
    "axes[1].set_title('Partial Sun')\n",
    "axes[1].set_xlabel(None)\n",
    "axes[1].set_ylabel(None)\n",
    "axes[1].tick_params(axis='both', which='major', labelsize=13)\n",
    "sns.despine(ax=axes[1], offset=10, trim=True)\n",
    "\n",
    "# PLOT 3: shade_df\n",
    "sns.boxplot(\n",
    "    x='region', y='darkness', data=shade_df,\n",
    "    hue='region', legend=False,\n",
    "    palette=[shade_west_median_color, shade_east_median_color],\n",
    "    linewidth=3, fliersize=4,\n",
    "    order=['West', 'East'], hue_order=['West', 'East'],\n",
    "    ax=axes[2]\n",
    ")\n",
    "axes[2].set_title('Shade')\n",
    "axes[2].set_xlabel(None)\n",
    "axes[2].set_ylabel(None)\n",
    "axes[2].tick_params(axis='both', which='major', labelsize=13)\n",
    "sns.despine(ax=axes[2], offset=10, trim=True)\n",
    "\n",
    "# y label\n",
    "fig.text(0.04, 0.5, 'Darkness', va='center', rotation='vertical', fontsize=16)\n",
    "\n",
    "plt.tight_layout(rect=[0.05, 0, 1, 1])\n",
    "plt.show()"
   ]
  }
 ],
 "metadata": {
  "kernelspec": {
   "display_name": "Python 3 (ipykernel)",
   "language": "python",
   "name": "python3"
  },
  "language_info": {
   "codemirror_mode": {
    "name": "ipython",
    "version": 3
   },
   "file_extension": ".py",
   "mimetype": "text/x-python",
   "name": "python",
   "nbconvert_exporter": "python",
   "pygments_lexer": "ipython3",
   "version": "3.10.5"
  }
 },
 "nbformat": 4,
 "nbformat_minor": 5
}
