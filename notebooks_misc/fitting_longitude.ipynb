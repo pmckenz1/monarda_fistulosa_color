{
 "cells": [
  {
   "cell_type": "markdown",
   "id": "415fec7a-5640-4a95-96f3-763903146f5b",
   "metadata": {},
   "source": [
    "# Picking the best longitude"
   ]
  },
  {
   "cell_type": "markdown",
   "id": "e1f3f789-a993-4889-8b8a-6d5e2c556e72",
   "metadata": {},
   "source": [
    "### Here we treat longitude as the only free parameter to separate our flower observations into two groups: east vs. west. \n",
    "### If there were only one response, we could just try to find the longitude that maximizes a t-test. \n",
    "### Since there are 3 response variables (i.e. 3 color components), we will find the longitude that maximizes Hotelling's $T^2$, a multivariate stat."
   ]
  },
  {
   "cell_type": "markdown",
   "id": "fee12ac4-d4cf-47ab-b9bf-3717a8b27a13",
   "metadata": {},
   "source": [
    "### Imports"
   ]
  },
  {
   "cell_type": "code",
   "execution_count": 1,
   "id": "d5838200-12eb-48f2-9400-5370501a442d",
   "metadata": {},
   "outputs": [],
   "source": [
    "import pandas as pd\n",
    "import matplotlib.pyplot as plt\n",
    "import numpy as np\n",
    "import seaborn as sns\n",
    "from scipy.stats import ttest_ind\n",
    "\n",
    "# for converting cielab to LCh\n",
    "from colormath.color_objects import LabColor, LCHabColor\n",
    "from colormath.color_conversions import convert_color\n",
    "\n",
    "# multivariate t-test package\n",
    "from pingouin import multivariate_ttest"
   ]
  },
  {
   "cell_type": "markdown",
   "id": "23db47fc-35b1-44a2-8d5d-9cdb549b3593",
   "metadata": {},
   "source": [
    "### Read in data"
   ]
  },
  {
   "cell_type": "code",
   "execution_count": 2,
   "id": "b44d898a-b3e5-40e4-a381-a780df298b6d",
   "metadata": {},
   "outputs": [],
   "source": [
    "color_df = pd.read_csv('../datasets/1-clusters/cluster1.csv')"
   ]
  },
  {
   "cell_type": "markdown",
   "id": "bad0ac6a-a08d-4634-b6fe-2de99f4c7e9d",
   "metadata": {},
   "source": [
    "### Pick random image if duplicates for an observation"
   ]
  },
  {
   "cell_type": "code",
   "execution_count": 3,
   "id": "b3c00f3d-6358-4ce4-bfcd-bb529ca29c12",
   "metadata": {},
   "outputs": [
    {
     "name": "stderr",
     "output_type": "stream",
     "text": [
      "/var/folders/qh/c7rwx84921n2kznn09zb2pnh0000gn/T/ipykernel_83167/411184798.py:3: DeprecationWarning: DataFrameGroupBy.apply operated on the grouping columns. This behavior is deprecated, and in a future version of pandas the grouping columns will be excluded from the operation. Either pass `include_groups=False` to exclude the groupings or explicitly select the grouping columns after groupby to silence this warning.\n",
      "  .apply(lambda x: x.sample(1))\n"
     ]
    },
    {
     "data": {
      "text/html": [
       "<div>\n",
       "<style scoped>\n",
       "    .dataframe tbody tr th:only-of-type {\n",
       "        vertical-align: middle;\n",
       "    }\n",
       "\n",
       "    .dataframe tbody tr th {\n",
       "        vertical-align: top;\n",
       "    }\n",
       "\n",
       "    .dataframe thead th {\n",
       "        text-align: right;\n",
       "    }\n",
       "</style>\n",
       "<table border=\"1\" class=\"dataframe\">\n",
       "  <thead>\n",
       "    <tr style=\"text-align: right;\">\n",
       "      <th></th>\n",
       "      <th>image_idx</th>\n",
       "      <th>hex</th>\n",
       "      <th>rgb</th>\n",
       "      <th>hsl</th>\n",
       "      <th>lab</th>\n",
       "      <th>gbifID</th>\n",
       "      <th>identifier</th>\n",
       "      <th>latitude</th>\n",
       "      <th>longitude</th>\n",
       "    </tr>\n",
       "  </thead>\n",
       "  <tbody>\n",
       "    <tr>\n",
       "      <th>0</th>\n",
       "      <td>0</td>\n",
       "      <td>#d4b4de</td>\n",
       "      <td>(212, 180, 222)</td>\n",
       "      <td>(0.7936507936507936, 0.38888888888888895, 0.78...</td>\n",
       "      <td>(197, 147, 111)</td>\n",
       "      <td>923911394</td>\n",
       "      <td>https://inaturalist-open-data.s3.amazonaws.com...</td>\n",
       "      <td>48.826305</td>\n",
       "      <td>-102.092171</td>\n",
       "    </tr>\n",
       "    <tr>\n",
       "      <th>1</th>\n",
       "      <td>2</td>\n",
       "      <td>#cdb2cb</td>\n",
       "      <td>(205, 178, 203)</td>\n",
       "      <td>(0.8456790123456791, 0.21259842519685052, 0.75...</td>\n",
       "      <td>(193, 142, 119)</td>\n",
       "      <td>923910407</td>\n",
       "      <td>https://inaturalist-open-data.s3.amazonaws.com...</td>\n",
       "      <td>43.613086</td>\n",
       "      <td>-73.057076</td>\n",
       "    </tr>\n",
       "    <tr>\n",
       "      <th>2</th>\n",
       "      <td>4</td>\n",
       "      <td>#bba6d7</td>\n",
       "      <td>(187, 166, 215)</td>\n",
       "      <td>(0.738095238095238, 0.3798449612403101, 0.7470...</td>\n",
       "      <td>(182, 145, 106)</td>\n",
       "      <td>899970365</td>\n",
       "      <td>https://inaturalist-open-data.s3.amazonaws.com...</td>\n",
       "      <td>43.066871</td>\n",
       "      <td>-87.890565</td>\n",
       "    </tr>\n",
       "    <tr>\n",
       "      <th>3</th>\n",
       "      <td>7</td>\n",
       "      <td>#9984ae</td>\n",
       "      <td>(153, 132, 174)</td>\n",
       "      <td>(0.75, 0.2058823529411765, 0.6000000000000001)</td>\n",
       "      <td>(149, 144, 109)</td>\n",
       "      <td>891778924</td>\n",
       "      <td>https://inaturalist-open-data.s3.amazonaws.com...</td>\n",
       "      <td>42.140556</td>\n",
       "      <td>-87.831643</td>\n",
       "    </tr>\n",
       "    <tr>\n",
       "      <th>4</th>\n",
       "      <td>9</td>\n",
       "      <td>#ba9edb</td>\n",
       "      <td>(186, 158, 219)</td>\n",
       "      <td>(0.7431693989071038, 0.4586466165413533, 0.739...</td>\n",
       "      <td>(177, 150, 101)</td>\n",
       "      <td>891760719</td>\n",
       "      <td>https://inaturalist-open-data.s3.amazonaws.com...</td>\n",
       "      <td>38.679240</td>\n",
       "      <td>-97.990035</td>\n",
       "    </tr>\n",
       "    <tr>\n",
       "      <th>...</th>\n",
       "      <td>...</td>\n",
       "      <td>...</td>\n",
       "      <td>...</td>\n",
       "      <td>...</td>\n",
       "      <td>...</td>\n",
       "      <td>...</td>\n",
       "      <td>...</td>\n",
       "      <td>...</td>\n",
       "      <td>...</td>\n",
       "    </tr>\n",
       "    <tr>\n",
       "      <th>16582</th>\n",
       "      <td>41059</td>\n",
       "      <td>#9f8fc0</td>\n",
       "      <td>(159, 143, 192)</td>\n",
       "      <td>(0.7210884353741497, 0.27999999999999997, 0.65...</td>\n",
       "      <td>(159, 144, 105)</td>\n",
       "      <td>1024218211</td>\n",
       "      <td>https://inaturalist-open-data.s3.amazonaws.com...</td>\n",
       "      <td>41.569419</td>\n",
       "      <td>-88.150552</td>\n",
       "    </tr>\n",
       "    <tr>\n",
       "      <th>16583</th>\n",
       "      <td>41060</td>\n",
       "      <td>#b47eb0</td>\n",
       "      <td>(180, 126, 176)</td>\n",
       "      <td>(0.845679012345679, 0.2647058823529413, 0.6000...</td>\n",
       "      <td>(152, 157, 110)</td>\n",
       "      <td>1024202810</td>\n",
       "      <td>https://inaturalist-open-data.s3.amazonaws.com...</td>\n",
       "      <td>45.057871</td>\n",
       "      <td>-87.168277</td>\n",
       "    </tr>\n",
       "    <tr>\n",
       "      <th>16584</th>\n",
       "      <td>41061</td>\n",
       "      <td>#ae95c8</td>\n",
       "      <td>(174, 149, 200)</td>\n",
       "      <td>(0.7483660130718954, 0.31677018633540366, 0.68...</td>\n",
       "      <td>(167, 147, 105)</td>\n",
       "      <td>1024200169</td>\n",
       "      <td>https://inaturalist-open-data.s3.amazonaws.com...</td>\n",
       "      <td>42.921738</td>\n",
       "      <td>-88.026752</td>\n",
       "    </tr>\n",
       "    <tr>\n",
       "      <th>16585</th>\n",
       "      <td>41063</td>\n",
       "      <td>#c8b9b1</td>\n",
       "      <td>(200, 185, 177)</td>\n",
       "      <td>(0.057971014492753624, 0.17293233082706772, 0....</td>\n",
       "      <td>(194, 132, 134)</td>\n",
       "      <td>1024198670</td>\n",
       "      <td>https://inaturalist-open-data.s3.amazonaws.com...</td>\n",
       "      <td>40.791723</td>\n",
       "      <td>-80.492498</td>\n",
       "    </tr>\n",
       "    <tr>\n",
       "      <th>16586</th>\n",
       "      <td>41064</td>\n",
       "      <td>#a582b2</td>\n",
       "      <td>(165, 130, 178)</td>\n",
       "      <td>(0.7881944444444445, 0.23762376237623759, 0.60...</td>\n",
       "      <td>(151, 150, 108)</td>\n",
       "      <td>1024192342</td>\n",
       "      <td>https://inaturalist-open-data.s3.amazonaws.com...</td>\n",
       "      <td>44.944167</td>\n",
       "      <td>-91.350556</td>\n",
       "    </tr>\n",
       "  </tbody>\n",
       "</table>\n",
       "<p>16587 rows × 9 columns</p>\n",
       "</div>"
      ],
      "text/plain": [
       "       image_idx      hex              rgb  \\\n",
       "0              0  #d4b4de  (212, 180, 222)   \n",
       "1              2  #cdb2cb  (205, 178, 203)   \n",
       "2              4  #bba6d7  (187, 166, 215)   \n",
       "3              7  #9984ae  (153, 132, 174)   \n",
       "4              9  #ba9edb  (186, 158, 219)   \n",
       "...          ...      ...              ...   \n",
       "16582      41059  #9f8fc0  (159, 143, 192)   \n",
       "16583      41060  #b47eb0  (180, 126, 176)   \n",
       "16584      41061  #ae95c8  (174, 149, 200)   \n",
       "16585      41063  #c8b9b1  (200, 185, 177)   \n",
       "16586      41064  #a582b2  (165, 130, 178)   \n",
       "\n",
       "                                                     hsl              lab  \\\n",
       "0      (0.7936507936507936, 0.38888888888888895, 0.78...  (197, 147, 111)   \n",
       "1      (0.8456790123456791, 0.21259842519685052, 0.75...  (193, 142, 119)   \n",
       "2      (0.738095238095238, 0.3798449612403101, 0.7470...  (182, 145, 106)   \n",
       "3         (0.75, 0.2058823529411765, 0.6000000000000001)  (149, 144, 109)   \n",
       "4      (0.7431693989071038, 0.4586466165413533, 0.739...  (177, 150, 101)   \n",
       "...                                                  ...              ...   \n",
       "16582  (0.7210884353741497, 0.27999999999999997, 0.65...  (159, 144, 105)   \n",
       "16583  (0.845679012345679, 0.2647058823529413, 0.6000...  (152, 157, 110)   \n",
       "16584  (0.7483660130718954, 0.31677018633540366, 0.68...  (167, 147, 105)   \n",
       "16585  (0.057971014492753624, 0.17293233082706772, 0....  (194, 132, 134)   \n",
       "16586  (0.7881944444444445, 0.23762376237623759, 0.60...  (151, 150, 108)   \n",
       "\n",
       "           gbifID                                         identifier  \\\n",
       "0       923911394  https://inaturalist-open-data.s3.amazonaws.com...   \n",
       "1       923910407  https://inaturalist-open-data.s3.amazonaws.com...   \n",
       "2       899970365  https://inaturalist-open-data.s3.amazonaws.com...   \n",
       "3       891778924  https://inaturalist-open-data.s3.amazonaws.com...   \n",
       "4       891760719  https://inaturalist-open-data.s3.amazonaws.com...   \n",
       "...           ...                                                ...   \n",
       "16582  1024218211  https://inaturalist-open-data.s3.amazonaws.com...   \n",
       "16583  1024202810  https://inaturalist-open-data.s3.amazonaws.com...   \n",
       "16584  1024200169  https://inaturalist-open-data.s3.amazonaws.com...   \n",
       "16585  1024198670  https://inaturalist-open-data.s3.amazonaws.com...   \n",
       "16586  1024192342  https://inaturalist-open-data.s3.amazonaws.com...   \n",
       "\n",
       "        latitude   longitude  \n",
       "0      48.826305 -102.092171  \n",
       "1      43.613086  -73.057076  \n",
       "2      43.066871  -87.890565  \n",
       "3      42.140556  -87.831643  \n",
       "4      38.679240  -97.990035  \n",
       "...          ...         ...  \n",
       "16582  41.569419  -88.150552  \n",
       "16583  45.057871  -87.168277  \n",
       "16584  42.921738  -88.026752  \n",
       "16585  40.791723  -80.492498  \n",
       "16586  44.944167  -91.350556  \n",
       "\n",
       "[16587 rows x 9 columns]"
      ]
     },
     "execution_count": 3,
     "metadata": {},
     "output_type": "execute_result"
    }
   ],
   "source": [
    "color_df_reduced = (\n",
    "    color_df.groupby(\"gbifID\", sort=False, group_keys=False)\n",
    "    .apply(lambda x: x.sample(1))\n",
    "    .reset_index(drop=True)\n",
    ")\n",
    "color_df_reduced"
   ]
  },
  {
   "cell_type": "markdown",
   "id": "db8cb4d9-72a5-45a4-a902-22cfd7da34af",
   "metadata": {},
   "source": [
    "### split Lab into separate components and get it into the \"literal\" metric rather than the opencv default of 0-255"
   ]
  },
  {
   "cell_type": "code",
   "execution_count": 4,
   "id": "3f82005c-207d-4833-8a28-3b32dc7f9d4e",
   "metadata": {},
   "outputs": [],
   "source": [
    "L = [(int(i.strip('()').split(', ')[0])) for i in color_df_reduced.lab]\n",
    "L = (np.array(L) / 255.0) * 100.0  \n",
    "color_df_reduced['L'] = L\n",
    "a = [(int(i.strip('()').split(', ')[1])) for i in color_df_reduced.lab]\n",
    "a = np.array(a) - 128.0  \n",
    "color_df_reduced['a'] = a\n",
    "b = [(int(i.strip('()').split(', ')[2])) for i in color_df_reduced.lab]\n",
    "b = np.array(b) - 128.0\n",
    "color_df_reduced['b'] = b"
   ]
  },
  {
   "cell_type": "markdown",
   "id": "954efccf-a51a-4647-a75a-56a30ebc89d1",
   "metadata": {},
   "source": [
    "### get LCh values as well"
   ]
  },
  {
   "cell_type": "code",
   "execution_count": 5,
   "id": "01541aa9-7de2-4d31-971c-f48b5d4dfb1c",
   "metadata": {},
   "outputs": [],
   "source": [
    "lab_vals = np.array(color_df_reduced[['L','a','b']])\n",
    "\n",
    "lch_arr = np.empty_like(lab_vals)\n",
    "for i, (L_, a_, b_) in enumerate(lab_vals):\n",
    "    # had to think carefully here -- these look like the correct defaults\n",
    "    # rather than d50 illuminant because of I used opencv at its default\n",
    "    lab = LabColor(L_, a_, b_, observer='2', illuminant='d65') \n",
    "    lch = convert_color(lab, LCHabColor)\n",
    "    lch_arr[i] = lch.get_value_tuple()"
   ]
  },
  {
   "cell_type": "code",
   "execution_count": 6,
   "id": "96ef765a-31e4-4bc7-80f9-b7d1323d8a17",
   "metadata": {},
   "outputs": [],
   "source": [
    "color_df_reduced['lch_l'] = lch_arr[:,0]\n",
    "color_df_reduced['lch_c'] = lch_arr[:,1]\n",
    "color_df_reduced['lch_h'] = lch_arr[:,2]"
   ]
  },
  {
   "cell_type": "markdown",
   "id": "b0116b06-bb58-4cdf-bb28-fb5711681850",
   "metadata": {},
   "source": [
    "# Use pinguoin's implementation of multivariate t-testing with Hotelling's $T^2$"
   ]
  },
  {
   "cell_type": "markdown",
   "id": "7450f430-f2a9-4a78-9e14-5ed7a9c28e05",
   "metadata": {},
   "source": [
    "## First on CIELAB values"
   ]
  },
  {
   "cell_type": "code",
   "execution_count": 7,
   "id": "fa2d75f8-9af1-4bdf-9c0b-b41740bd90b8",
   "metadata": {},
   "outputs": [],
   "source": [
    "t2s = []\n",
    "lons = []\n",
    "for focal_lon in np.linspace(color_df_reduced.longitude.min()+1, color_df_reduced.longitude.max()-1,1000):\n",
    "    west  = color_df_reduced.longitude < focal_lon\n",
    "    east  = ~west\n",
    "    west_df = color_df_reduced[west][['L','a','b']]\n",
    "    east_df = color_df_reduced[east][['L','a','b']]\n",
    "    if (len(west_df) > 125) and (len(east_df) > 125):\n",
    "        res = multivariate_ttest(west_df,east_df)\n",
    "        t2s.append(res.T2.iloc[0])\n",
    "        lons.append(focal_lon)"
   ]
  },
  {
   "cell_type": "code",
   "execution_count": 8,
   "id": "14b33177-def2-4185-a97e-a777e397c3d0",
   "metadata": {},
   "outputs": [
    {
     "data": {
      "text/plain": [
       "np.float64(-97.68742601601602)"
      ]
     },
     "execution_count": 8,
     "metadata": {},
     "output_type": "execute_result"
    }
   ],
   "source": [
    "best_lon = lons[np.argmax(t2s)]\n",
    "best_lon"
   ]
  },
  {
   "cell_type": "code",
   "execution_count": 9,
   "id": "9e75bbf2-18c9-4681-8158-02748aba25dc",
   "metadata": {},
   "outputs": [
    {
     "data": {
      "image/png": "[encoded data removed]",
      "text/plain": [
       "<Figure size 432x288 with 1 Axes>"
      ]
     },
     "metadata": {
      "needs_background": "light"
     },
     "output_type": "display_data"
    }
   ],
   "source": [
    "plt.plot(lons, t2s, marker='o', ms=3,c='black')\n",
    "plt.axvline(best_lon, ls='--', lw=1, color='k')\n",
    "plt.xlabel('tested longitude')\n",
    "plt.ylabel('hotelling\\'s t^2')\n",
    "plt.tight_layout()\n",
    "plt.show()"
   ]
  },
  {
   "cell_type": "markdown",
   "id": "4b2804e3-9734-4409-ab91-fc2492a709b6",
   "metadata": {},
   "source": [
    "## Now on LCh values"
   ]
  },
  {
   "cell_type": "code",
   "execution_count": 10,
   "id": "706d3cd7-2d09-4392-b835-d5922cde367a",
   "metadata": {},
   "outputs": [],
   "source": [
    "t2s = []\n",
    "lons = []\n",
    "for focal_lon in np.linspace(color_df_reduced.longitude.min()+1, color_df_reduced.longitude.max()-1,1000):\n",
    "    west  = color_df_reduced.longitude < focal_lon\n",
    "    east  = ~west\n",
    "    west_df = color_df_reduced[west][['lch_l','lch_c','lch_h']]\n",
    "    east_df = color_df_reduced[east][['lch_l','lch_c','lch_h']]\n",
    "    if (len(west_df) > 125) and (len(east_df) > 125):\n",
    "        res = multivariate_ttest(west_df,east_df)\n",
    "        t2s.append(res.T2.iloc[0])\n",
    "        lons.append(focal_lon)"
   ]
  },
  {
   "cell_type": "code",
   "execution_count": 11,
   "id": "d5c4a2d5-4e9a-41f3-8c3d-3ac07de6c47a",
   "metadata": {},
   "outputs": [
    {
     "data": {
      "text/plain": [
       "np.float64(-97.68742601601602)"
      ]
     },
     "execution_count": 11,
     "metadata": {},
     "output_type": "execute_result"
    }
   ],
   "source": [
    "best_lon = lons[np.argmax(t2s)]\n",
    "best_lon"
   ]
  },
  {
   "cell_type": "code",
   "execution_count": 12,
   "id": "65c943a8-fae5-4719-a25e-c245f8cb464b",
   "metadata": {},
   "outputs": [
    {
     "data": {
      "image/png": "[encoded data removed]",
      "text/plain": [
       "<Figure size 432x288 with 1 Axes>"
      ]
     },
     "metadata": {
      "needs_background": "light"
     },
     "output_type": "display_data"
    }
   ],
   "source": [
    "plt.plot(lons, t2s, marker='o', ms=3,c='black')\n",
    "plt.axvline(best_lon, ls='--', lw=1, color='k')\n",
    "plt.xlabel('tested longitude')\n",
    "plt.ylabel('hotelling\\'s t^2')\n",
    "plt.tight_layout()\n",
    "plt.show()"
   ]
  },
  {
   "cell_type": "markdown",
   "id": "649318e3-62dd-42cd-bfe8-7250ba4dd543",
   "metadata": {},
   "source": [
    "# Re-do on scrambled values -- should see no clear signal!"
   ]
  },
  {
   "cell_type": "code",
   "execution_count": 13,
   "id": "ec31f3a6-ea6e-4127-8229-bdf80c7876f4",
   "metadata": {},
   "outputs": [],
   "source": [
    "scramble_df = color_df_reduced.copy()"
   ]
  },
  {
   "cell_type": "code",
   "execution_count": 14,
   "id": "3c57996c-f844-43f3-ad40-8cac185dd9aa",
   "metadata": {},
   "outputs": [],
   "source": [
    "lch_sub = scramble_df[['L','a','b']]"
   ]
  },
  {
   "cell_type": "code",
   "execution_count": 15,
   "id": "47b4a3d5-1a96-4813-a4a7-d2af5aa5e5c0",
   "metadata": {},
   "outputs": [],
   "source": [
    "scramble_sub = lch_sub.sample(len(lch_sub)).to_numpy()"
   ]
  },
  {
   "cell_type": "code",
   "execution_count": 16,
   "id": "a34f6468-21ac-4ffe-beec-304ec5146064",
   "metadata": {},
   "outputs": [],
   "source": [
    "scramble_df[['L','a','b']] = scramble_sub"
   ]
  },
  {
   "cell_type": "code",
   "execution_count": 17,
   "id": "78a5c045-5830-4f34-9a35-73acb948b8d6",
   "metadata": {},
   "outputs": [],
   "source": [
    "t2s = []\n",
    "lons = []\n",
    "for focal_lon in np.linspace(scramble_df.longitude.min()+1, scramble_df.longitude.max()-1,1000):\n",
    "    west  = scramble_df.longitude < focal_lon\n",
    "    east  = ~west\n",
    "    west_df = scramble_df[west][['L','a','b']]\n",
    "    east_df = scramble_df[east][['L','a','b']]\n",
    "    if (len(west_df) > 125) and (len(east_df) > 125):\n",
    "        res = multivariate_ttest(west_df,east_df)\n",
    "        t2s.append(res.T2.iloc[0])\n",
    "        lons.append(focal_lon)"
   ]
  },
  {
   "cell_type": "code",
   "execution_count": 18,
   "id": "2a6bb660-ec51-45a7-844c-85473c4dc807",
   "metadata": {},
   "outputs": [
    {
     "data": {
      "text/plain": [
       "np.float64(-78.33374010110111)"
      ]
     },
     "execution_count": 18,
     "metadata": {},
     "output_type": "execute_result"
    }
   ],
   "source": [
    "best_lon = lons[np.argmax(t2s)]\n",
    "best_lon"
   ]
  },
  {
   "cell_type": "code",
   "execution_count": 19,
   "id": "12f9a230-c036-4eac-8832-9390263c5c34",
   "metadata": {},
   "outputs": [
    {
     "data": {
      "image/png": "[encoded data removed]",
      "text/plain": [
       "<Figure size 432x288 with 1 Axes>"
      ]
     },
     "metadata": {
      "needs_background": "light"
     },
     "output_type": "display_data"
    }
   ],
   "source": [
    "plt.plot(lons, t2s, marker='o', ms=3,c='black')\n",
    "plt.axvline(best_lon, ls='--', lw=1, color='k')\n",
    "plt.xlabel('tested longitude')\n",
    "plt.ylabel('hotelling\\'s t^2')\n",
    "plt.tight_layout()\n",
    "plt.show()"
   ]
  }
 ],
 "metadata": {
  "kernelspec": {
   "display_name": "Python 3 (ipykernel)",
   "language": "python",
   "name": "python3"
  },
  "language_info": {
   "codemirror_mode": {
    "name": "ipython",
    "version": 3
   },
   "file_extension": ".py",
   "mimetype": "text/x-python",
   "name": "python",
   "nbconvert_exporter": "python",
   "pygments_lexer": "ipython3",
   "version": "3.10.17"
  }
 },
 "nbformat": 4,
 "nbformat_minor": 5
}
