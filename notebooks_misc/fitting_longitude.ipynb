{
 "cells": [
  {
   "cell_type": "markdown",
   "id": "415fec7a-5640-4a95-96f3-763903146f5b",
   "metadata": {},
   "source": [
    "# Picking the best longitude"
   ]
  },
  {
   "cell_type": "markdown",
   "id": "e1f3f789-a993-4889-8b8a-6d5e2c556e72",
   "metadata": {},
   "source": [
    "I want to treat longitude as the only free parameter to separate our flower observations into two groups: east vs. west"
   ]
  },
  {
   "cell_type": "code",
   "execution_count": 1,
   "id": "d5838200-12eb-48f2-9400-5370501a442d",
   "metadata": {},
   "outputs": [],
   "source": [
    "import pandas as pd\n",
    "import matplotlib.pyplot as plt\n",
    "import numpy as np\n",
    "import seaborn as sns\n",
    "from scipy.stats import ttest_ind\n",
    "\n",
    "# for converting cielab to LCh\n",
    "from colormath.color_objects import LabColor, LCHabColor\n",
    "from colormath.color_conversions import convert_color\n",
    "\n",
    "# for silhouette scores\n",
    "from sklearn.metrics import silhouette_score\n",
    "from sklearn.preprocessing import StandardScaler"
   ]
  },
  {
   "cell_type": "code",
   "execution_count": 2,
   "id": "b44d898a-b3e5-40e4-a381-a780df298b6d",
   "metadata": {},
   "outputs": [],
   "source": [
    "color_df = pd.read_csv('../datasets/1-clusters/cluster1.csv')"
   ]
  },
  {
   "cell_type": "code",
   "execution_count": 3,
   "id": "b3c00f3d-6358-4ce4-bfcd-bb529ca29c12",
   "metadata": {},
   "outputs": [
    {
     "name": "stderr",
     "output_type": "stream",
     "text": [
      "/var/folders/qh/c7rwx84921n2kznn09zb2pnh0000gn/T/ipykernel_51514/411184798.py:3: DeprecationWarning: DataFrameGroupBy.apply operated on the grouping columns. This behavior is deprecated, and in a future version of pandas the grouping columns will be excluded from the operation. Either pass `include_groups=False` to exclude the groupings or explicitly select the grouping columns after groupby to silence this warning.\n",
      "  .apply(lambda x: x.sample(1))\n"
     ]
    },
    {
     "data": {
      "text/html": [
       "<div>\n",
       "<style scoped>\n",
       "    .dataframe tbody tr th:only-of-type {\n",
       "        vertical-align: middle;\n",
       "    }\n",
       "\n",
       "    .dataframe tbody tr th {\n",
       "        vertical-align: top;\n",
       "    }\n",
       "\n",
       "    .dataframe thead th {\n",
       "        text-align: right;\n",
       "    }\n",
       "</style>\n",
       "<table border=\"1\" class=\"dataframe\">\n",
       "  <thead>\n",
       "    <tr style=\"text-align: right;\">\n",
       "      <th></th>\n",
       "      <th>image_idx</th>\n",
       "      <th>hex</th>\n",
       "      <th>rgb</th>\n",
       "      <th>hsl</th>\n",
       "      <th>lab</th>\n",
       "      <th>gbifID</th>\n",
       "      <th>identifier</th>\n",
       "      <th>latitude</th>\n",
       "      <th>longitude</th>\n",
       "    </tr>\n",
       "  </thead>\n",
       "  <tbody>\n",
       "    <tr>\n",
       "      <th>0</th>\n",
       "      <td>0</td>\n",
       "      <td>#d4b4de</td>\n",
       "      <td>(212, 180, 222)</td>\n",
       "      <td>(0.7936507936507936, 0.38888888888888895, 0.78...</td>\n",
       "      <td>(197, 147, 111)</td>\n",
       "      <td>923911394</td>\n",
       "      <td>https://inaturalist-open-data.s3.amazonaws.com...</td>\n",
       "      <td>48.826305</td>\n",
       "      <td>-102.092171</td>\n",
       "    </tr>\n",
       "    <tr>\n",
       "      <th>1</th>\n",
       "      <td>2</td>\n",
       "      <td>#cdb2cb</td>\n",
       "      <td>(205, 178, 203)</td>\n",
       "      <td>(0.8456790123456791, 0.21259842519685052, 0.75...</td>\n",
       "      <td>(193, 142, 119)</td>\n",
       "      <td>923910407</td>\n",
       "      <td>https://inaturalist-open-data.s3.amazonaws.com...</td>\n",
       "      <td>43.613086</td>\n",
       "      <td>-73.057076</td>\n",
       "    </tr>\n",
       "    <tr>\n",
       "      <th>2</th>\n",
       "      <td>4</td>\n",
       "      <td>#bba6d7</td>\n",
       "      <td>(187, 166, 215)</td>\n",
       "      <td>(0.738095238095238, 0.3798449612403101, 0.7470...</td>\n",
       "      <td>(182, 145, 106)</td>\n",
       "      <td>899970365</td>\n",
       "      <td>https://inaturalist-open-data.s3.amazonaws.com...</td>\n",
       "      <td>43.066871</td>\n",
       "      <td>-87.890565</td>\n",
       "    </tr>\n",
       "    <tr>\n",
       "      <th>3</th>\n",
       "      <td>7</td>\n",
       "      <td>#9984ae</td>\n",
       "      <td>(153, 132, 174)</td>\n",
       "      <td>(0.75, 0.2058823529411765, 0.6000000000000001)</td>\n",
       "      <td>(149, 144, 109)</td>\n",
       "      <td>891778924</td>\n",
       "      <td>https://inaturalist-open-data.s3.amazonaws.com...</td>\n",
       "      <td>42.140556</td>\n",
       "      <td>-87.831643</td>\n",
       "    </tr>\n",
       "    <tr>\n",
       "      <th>4</th>\n",
       "      <td>9</td>\n",
       "      <td>#ba9edb</td>\n",
       "      <td>(186, 158, 219)</td>\n",
       "      <td>(0.7431693989071038, 0.4586466165413533, 0.739...</td>\n",
       "      <td>(177, 150, 101)</td>\n",
       "      <td>891760719</td>\n",
       "      <td>https://inaturalist-open-data.s3.amazonaws.com...</td>\n",
       "      <td>38.679240</td>\n",
       "      <td>-97.990035</td>\n",
       "    </tr>\n",
       "    <tr>\n",
       "      <th>...</th>\n",
       "      <td>...</td>\n",
       "      <td>...</td>\n",
       "      <td>...</td>\n",
       "      <td>...</td>\n",
       "      <td>...</td>\n",
       "      <td>...</td>\n",
       "      <td>...</td>\n",
       "      <td>...</td>\n",
       "      <td>...</td>\n",
       "    </tr>\n",
       "    <tr>\n",
       "      <th>16582</th>\n",
       "      <td>41059</td>\n",
       "      <td>#9f8fc0</td>\n",
       "      <td>(159, 143, 192)</td>\n",
       "      <td>(0.7210884353741497, 0.27999999999999997, 0.65...</td>\n",
       "      <td>(159, 144, 105)</td>\n",
       "      <td>1024218211</td>\n",
       "      <td>https://inaturalist-open-data.s3.amazonaws.com...</td>\n",
       "      <td>41.569419</td>\n",
       "      <td>-88.150552</td>\n",
       "    </tr>\n",
       "    <tr>\n",
       "      <th>16583</th>\n",
       "      <td>41060</td>\n",
       "      <td>#b47eb0</td>\n",
       "      <td>(180, 126, 176)</td>\n",
       "      <td>(0.845679012345679, 0.2647058823529413, 0.6000...</td>\n",
       "      <td>(152, 157, 110)</td>\n",
       "      <td>1024202810</td>\n",
       "      <td>https://inaturalist-open-data.s3.amazonaws.com...</td>\n",
       "      <td>45.057871</td>\n",
       "      <td>-87.168277</td>\n",
       "    </tr>\n",
       "    <tr>\n",
       "      <th>16584</th>\n",
       "      <td>41061</td>\n",
       "      <td>#ae95c8</td>\n",
       "      <td>(174, 149, 200)</td>\n",
       "      <td>(0.7483660130718954, 0.31677018633540366, 0.68...</td>\n",
       "      <td>(167, 147, 105)</td>\n",
       "      <td>1024200169</td>\n",
       "      <td>https://inaturalist-open-data.s3.amazonaws.com...</td>\n",
       "      <td>42.921738</td>\n",
       "      <td>-88.026752</td>\n",
       "    </tr>\n",
       "    <tr>\n",
       "      <th>16585</th>\n",
       "      <td>41063</td>\n",
       "      <td>#c8b9b1</td>\n",
       "      <td>(200, 185, 177)</td>\n",
       "      <td>(0.057971014492753624, 0.17293233082706772, 0....</td>\n",
       "      <td>(194, 132, 134)</td>\n",
       "      <td>1024198670</td>\n",
       "      <td>https://inaturalist-open-data.s3.amazonaws.com...</td>\n",
       "      <td>40.791723</td>\n",
       "      <td>-80.492498</td>\n",
       "    </tr>\n",
       "    <tr>\n",
       "      <th>16586</th>\n",
       "      <td>41064</td>\n",
       "      <td>#a582b2</td>\n",
       "      <td>(165, 130, 178)</td>\n",
       "      <td>(0.7881944444444445, 0.23762376237623759, 0.60...</td>\n",
       "      <td>(151, 150, 108)</td>\n",
       "      <td>1024192342</td>\n",
       "      <td>https://inaturalist-open-data.s3.amazonaws.com...</td>\n",
       "      <td>44.944167</td>\n",
       "      <td>-91.350556</td>\n",
       "    </tr>\n",
       "  </tbody>\n",
       "</table>\n",
       "<p>16587 rows × 9 columns</p>\n",
       "</div>"
      ],
      "text/plain": [
       "       image_idx      hex              rgb  \\\n",
       "0              0  #d4b4de  (212, 180, 222)   \n",
       "1              2  #cdb2cb  (205, 178, 203)   \n",
       "2              4  #bba6d7  (187, 166, 215)   \n",
       "3              7  #9984ae  (153, 132, 174)   \n",
       "4              9  #ba9edb  (186, 158, 219)   \n",
       "...          ...      ...              ...   \n",
       "16582      41059  #9f8fc0  (159, 143, 192)   \n",
       "16583      41060  #b47eb0  (180, 126, 176)   \n",
       "16584      41061  #ae95c8  (174, 149, 200)   \n",
       "16585      41063  #c8b9b1  (200, 185, 177)   \n",
       "16586      41064  #a582b2  (165, 130, 178)   \n",
       "\n",
       "                                                     hsl              lab  \\\n",
       "0      (0.7936507936507936, 0.38888888888888895, 0.78...  (197, 147, 111)   \n",
       "1      (0.8456790123456791, 0.21259842519685052, 0.75...  (193, 142, 119)   \n",
       "2      (0.738095238095238, 0.3798449612403101, 0.7470...  (182, 145, 106)   \n",
       "3         (0.75, 0.2058823529411765, 0.6000000000000001)  (149, 144, 109)   \n",
       "4      (0.7431693989071038, 0.4586466165413533, 0.739...  (177, 150, 101)   \n",
       "...                                                  ...              ...   \n",
       "16582  (0.7210884353741497, 0.27999999999999997, 0.65...  (159, 144, 105)   \n",
       "16583  (0.845679012345679, 0.2647058823529413, 0.6000...  (152, 157, 110)   \n",
       "16584  (0.7483660130718954, 0.31677018633540366, 0.68...  (167, 147, 105)   \n",
       "16585  (0.057971014492753624, 0.17293233082706772, 0....  (194, 132, 134)   \n",
       "16586  (0.7881944444444445, 0.23762376237623759, 0.60...  (151, 150, 108)   \n",
       "\n",
       "           gbifID                                         identifier  \\\n",
       "0       923911394  https://inaturalist-open-data.s3.amazonaws.com...   \n",
       "1       923910407  https://inaturalist-open-data.s3.amazonaws.com...   \n",
       "2       899970365  https://inaturalist-open-data.s3.amazonaws.com...   \n",
       "3       891778924  https://inaturalist-open-data.s3.amazonaws.com...   \n",
       "4       891760719  https://inaturalist-open-data.s3.amazonaws.com...   \n",
       "...           ...                                                ...   \n",
       "16582  1024218211  https://inaturalist-open-data.s3.amazonaws.com...   \n",
       "16583  1024202810  https://inaturalist-open-data.s3.amazonaws.com...   \n",
       "16584  1024200169  https://inaturalist-open-data.s3.amazonaws.com...   \n",
       "16585  1024198670  https://inaturalist-open-data.s3.amazonaws.com...   \n",
       "16586  1024192342  https://inaturalist-open-data.s3.amazonaws.com...   \n",
       "\n",
       "        latitude   longitude  \n",
       "0      48.826305 -102.092171  \n",
       "1      43.613086  -73.057076  \n",
       "2      43.066871  -87.890565  \n",
       "3      42.140556  -87.831643  \n",
       "4      38.679240  -97.990035  \n",
       "...          ...         ...  \n",
       "16582  41.569419  -88.150552  \n",
       "16583  45.057871  -87.168277  \n",
       "16584  42.921738  -88.026752  \n",
       "16585  40.791723  -80.492498  \n",
       "16586  44.944167  -91.350556  \n",
       "\n",
       "[16587 rows x 9 columns]"
      ]
     },
     "execution_count": 3,
     "metadata": {},
     "output_type": "execute_result"
    }
   ],
   "source": [
    "color_df_reduced = (\n",
    "    color_df.groupby(\"gbifID\", sort=False, group_keys=False)\n",
    "    .apply(lambda x: x.sample(1))\n",
    "    .reset_index(drop=True)\n",
    ")\n",
    "color_df_reduced"
   ]
  },
  {
   "cell_type": "markdown",
   "id": "db8cb4d9-72a5-45a4-a902-22cfd7da34af",
   "metadata": {},
   "source": [
    "#### split Lab into separate components and get it into the \"literal\" metric rather than the opencv default of 0-255"
   ]
  },
  {
   "cell_type": "code",
   "execution_count": 4,
   "id": "3f82005c-207d-4833-8a28-3b32dc7f9d4e",
   "metadata": {},
   "outputs": [],
   "source": [
    "L = [(int(i.strip('()').split(', ')[0])) for i in color_df_reduced.lab]\n",
    "L = (np.array(L) / 255.0) * 100.0  \n",
    "color_df_reduced['L'] = L\n",
    "a = [(int(i.strip('()').split(', ')[1])) for i in color_df_reduced.lab]\n",
    "a = np.array(a) - 128.0  \n",
    "color_df_reduced['a'] = a\n",
    "b = [(int(i.strip('()').split(', ')[2])) for i in color_df_reduced.lab]\n",
    "b = np.array(b) - 128.0\n",
    "color_df_reduced['b'] = b"
   ]
  },
  {
   "cell_type": "markdown",
   "id": "ce4e0a11-0ff9-4824-a5d5-6828d3d20b0d",
   "metadata": {},
   "source": [
    "### try silhouette index for evaluating clusters?"
   ]
  },
  {
   "cell_type": "markdown",
   "id": "cb0ec5d5-4065-4f0d-997f-75e60a12a2d9",
   "metadata": {},
   "source": [
    "e.g.: https://scikit-learn.org/stable/auto_examples/cluster/plot_kmeans_silhouette_analysis.html"
   ]
  },
  {
   "cell_type": "code",
   "execution_count": 5,
   "id": "0ba75559-b428-43e8-83af-97499eb15491",
   "metadata": {},
   "outputs": [],
   "source": [
    "# figured we'd start with a function that we cna pick up\n",
    "def longitude_split_silhouette(df,\n",
    "                         lon_col='longitude',\n",
    "                         color_cols=('L','a','b'),\n",
    "                         n_grid=300,\n",
    "                         min_prop=0.01\n",
    "                              ):\n",
    "    lons = []\n",
    "    scores = []\n",
    "    # standardize the scores... bc L has a different range\n",
    "    X = StandardScaler().fit_transform(df[list(color_cols)].values)\n",
    "\n",
    "    # evenly spaced lons\n",
    "    grid = np.linspace(df[lon_col].min(), df[lon_col].max(), n_grid)\n",
    "\n",
    "    best_lon, best_score = None, -np.inf\n",
    "    for curr_lon in grid:\n",
    "        labels = (df[lon_col] >= curr_lon).astype(int)\n",
    "        # skip if we don't have enough in one\n",
    "        p = labels.mean()\n",
    "        if p < min_prop or p > 1 - min_prop:\n",
    "            continue\n",
    "        score = silhouette_score(X, labels)\n",
    "        lons.append(curr_lon)\n",
    "        scores.append(score)\n",
    "        if score > best_score:\n",
    "            best_score, best_lon = score, curr_lon\n",
    "\n",
    "    return [[lons,scores],[best_lon, best_score]]"
   ]
  },
  {
   "cell_type": "code",
   "execution_count": 6,
   "id": "2b75f610-1477-402d-b463-e81de79ef5de",
   "metadata": {},
   "outputs": [
    {
     "data": {
      "text/plain": [
       "np.float64(0.24624947)"
      ]
     },
     "execution_count": 6,
     "metadata": {},
     "output_type": "execute_result"
    }
   ],
   "source": [
    "(color_df_reduced.longitude.max()-color_df_reduced.longitude.min()) / 300"
   ]
  },
  {
   "cell_type": "code",
   "execution_count": 7,
   "id": "0a08bb43-1f8c-4947-ac1b-c43d85537ec8",
   "metadata": {},
   "outputs": [],
   "source": [
    "all_results, best_vals = longitude_split_silhouette(color_df_reduced,n_grid=300)"
   ]
  },
  {
   "cell_type": "code",
   "execution_count": 8,
   "id": "653f264a-c5aa-4b50-8bd7-a145649ff92c",
   "metadata": {},
   "outputs": [
    {
     "data": {
      "text/plain": [
       "[np.float64(-103.68299100668898), np.float64(0.2819486223000439)]"
      ]
     },
     "execution_count": 8,
     "metadata": {},
     "output_type": "execute_result"
    }
   ],
   "source": [
    "best_vals"
   ]
  },
  {
   "cell_type": "code",
   "execution_count": 9,
   "id": "0a86b9ab-71ac-4cf9-9aeb-c14ae1cef8df",
   "metadata": {},
   "outputs": [
    {
     "data": {
      "image/png": "[encoded data removed]",
      "text/plain": [
       "<Figure size 432x288 with 1 Axes>"
      ]
     },
     "metadata": {
      "needs_background": "light"
     },
     "output_type": "display_data"
    }
   ],
   "source": [
    "plt.plot(np.array(all_results[0]), np.array(all_results[1]), marker='o', ms=3,c='black')\n",
    "plt.axvline(best_vals[0], ls='--', lw=1, color='k')\n",
    "plt.xlabel('tested longitude')\n",
    "plt.ylabel('R^2')\n",
    "plt.tight_layout()\n",
    "plt.show()"
   ]
  },
  {
   "cell_type": "markdown",
   "id": "82fb2839-4e39-4661-9674-9f71edea7c68",
   "metadata": {},
   "source": [
    "# Re-do on LCh values"
   ]
  },
  {
   "cell_type": "code",
   "execution_count": 10,
   "id": "e03eb577-1b84-488b-bd18-31aa5d3be405",
   "metadata": {},
   "outputs": [],
   "source": [
    "lab_vals = np.array(color_df_reduced[['L','a','b']])\n",
    "\n",
    "lch_arr = np.empty_like(lab_vals)\n",
    "for i, (L_, a_, b_) in enumerate(lab_vals):\n",
    "    # had to think carefully here -- these look like the correct defaults\n",
    "    # rather than d50 illuminant because of I used opencv at its default\n",
    "    lab = LabColor(L_, a_, b_, observer='2', illuminant='d65') \n",
    "    lch = convert_color(lab, LCHabColor)\n",
    "    lch_arr[i] = lch.get_value_tuple()"
   ]
  },
  {
   "cell_type": "code",
   "execution_count": 11,
   "id": "f30ce12b-a85f-4a80-8d6f-85d773ad0c4b",
   "metadata": {},
   "outputs": [],
   "source": [
    "color_df_reduced['lch_l'] = lch_arr[:,0]\n",
    "color_df_reduced['lch_c'] = lch_arr[:,1]\n",
    "color_df_reduced['lch_h'] = lch_arr[:,2]"
   ]
  },
  {
   "cell_type": "code",
   "execution_count": 12,
   "id": "9c3896cc-98aa-459d-872a-af0d6c4e681b",
   "metadata": {},
   "outputs": [],
   "source": [
    "all_results, best_vals = longitude_split_silhouette(color_df_reduced,color_cols=('lch_l','lch_c','lch_h'),n_grid=300)"
   ]
  },
  {
   "cell_type": "code",
   "execution_count": 13,
   "id": "0e59c016-b4d5-488c-b63c-951cdc8059cb",
   "metadata": {},
   "outputs": [
    {
     "data": {
      "text/plain": [
       "[np.float64(-98.74153007023412), np.float64(0.24188774374954408)]"
      ]
     },
     "execution_count": 13,
     "metadata": {},
     "output_type": "execute_result"
    }
   ],
   "source": [
    "best_vals"
   ]
  },
  {
   "cell_type": "code",
   "execution_count": 14,
   "id": "b162c76a-77ee-440e-b813-43f79855b398",
   "metadata": {},
   "outputs": [
    {
     "data": {
      "image/png": "[encoded data removed]",
      "text/plain": [
       "<Figure size 432x288 with 1 Axes>"
      ]
     },
     "metadata": {
      "needs_background": "light"
     },
     "output_type": "display_data"
    }
   ],
   "source": [
    "plt.plot(np.array(all_results[0]), np.array(all_results[1]), marker='o', ms=3,c='black')\n",
    "plt.axvline(best_vals[0], ls='--', lw=1, color='k')\n",
    "plt.xlabel('tested longitude')\n",
    "plt.ylabel('R^2')\n",
    "plt.tight_layout()\n",
    "plt.show()"
   ]
  },
  {
   "cell_type": "markdown",
   "id": "613d9b48-9476-414d-b5f8-08e02b472aa8",
   "metadata": {},
   "source": [
    "# Mostly a big plateau with the silhouette approach."
   ]
  },
  {
   "cell_type": "markdown",
   "id": "ce2bfa86-1a27-41ef-a320-cb88d4912587",
   "metadata": {},
   "source": [
    "# Sums-of-squares / anova approach"
   ]
  },
  {
   "cell_type": "markdown",
   "id": "58223905-4ae3-466f-9776-c01ad97d543d",
   "metadata": {},
   "source": [
    "### cielab values"
   ]
  },
  {
   "cell_type": "code",
   "execution_count": 15,
   "id": "833709e4-c042-4be1-9394-c05ff19157db",
   "metadata": {},
   "outputs": [],
   "source": [
    "r2s = []\n",
    "lons = []\n",
    "for focal_lon in np.linspace(color_df_reduced.longitude.min()+1, color_df_reduced.longitude.max()-1,300):\n",
    "    west  = color_df_reduced.longitude < focal_lon\n",
    "    east  = ~west\n",
    "    X     = color_df_reduced[['L','a','b']].to_numpy().astype(float)\n",
    "    \n",
    "    # overall mean from full data... three vals\n",
    "    mu = X.mean(axis=0)\n",
    "\n",
    "    # total sum of squares (dist of all observations from mean, squared)\n",
    "    SST = np.sum((X - mu)**2)\n",
    "    \n",
    "    # mean of each region.. three vals each\n",
    "    mu_w = X[west].mean(axis=0)\n",
    "    mu_e = X[east].mean(axis=0)\n",
    "\n",
    "    # between-group sum of squares....\n",
    "    \n",
    "    # count number of points in each region\n",
    "    n_w = west.sum()\n",
    "    n_e = east.sum()\n",
    "\n",
    "    ssb_w = n_w * np.sum((mu_w - mu)**2)\n",
    "    ssb_e = n_e * np.sum((mu_e - mu)**2)\n",
    "    SSB    = ssb_w + ssb_e # overall between\n",
    "    # SSB here gives us how far each group mean is from the overall mean\n",
    "    # and multiplying weights by group size\n",
    "\n",
    "    # proportion of variance explained by ssb, this is eta-squared\n",
    "    R2 = SSB / SST\n",
    "    \n",
    "    r2s.append(R2)\n",
    "    lons.append(focal_lon)\n",
    "    # print out both\n",
    "    #print(f\"R^2 = {R2:.3f}, Lon = {focal_lon: .3f}\")"
   ]
  },
  {
   "cell_type": "code",
   "execution_count": 16,
   "id": "9461018d-9339-445d-af76-858da121b833",
   "metadata": {},
   "outputs": [
    {
     "data": {
      "text/plain": [
       "np.float64(-97.76996029096992)"
      ]
     },
     "execution_count": 16,
     "metadata": {},
     "output_type": "execute_result"
    }
   ],
   "source": [
    "best_lon = lons[np.argmax(r2s)]\n",
    "best_lon"
   ]
  },
  {
   "cell_type": "code",
   "execution_count": 17,
   "id": "81bcf4a0-8003-41d9-b1e0-0cba03dbd22b",
   "metadata": {},
   "outputs": [
    {
     "data": {
      "image/png": "[encoded data removed]",
      "text/plain": [
       "<Figure size 432x288 with 1 Axes>"
      ]
     },
     "metadata": {
      "needs_background": "light"
     },
     "output_type": "display_data"
    }
   ],
   "source": [
    "plt.plot(lons, r2s, marker='o', ms=3,c='black')\n",
    "plt.axvline(best_lon, ls='--', lw=1, color='k')\n",
    "plt.xlabel('tested longitude')\n",
    "plt.ylabel('R^2')\n",
    "plt.tight_layout()\n",
    "plt.show()"
   ]
  },
  {
   "cell_type": "markdown",
   "id": "1b8d7c6a-6486-4dca-9063-5950e26d587b",
   "metadata": {},
   "source": [
    "#### Redo with LCh values"
   ]
  },
  {
   "cell_type": "code",
   "execution_count": 18,
   "id": "f9a76268-4577-4a91-92c1-d732ce714bbb",
   "metadata": {},
   "outputs": [],
   "source": [
    "r2s = []\n",
    "lons = []\n",
    "for focal_lon in np.linspace(color_df_reduced.longitude.min()+1, color_df_reduced.longitude.max()-1,300):\n",
    "    west  = color_df_reduced.longitude < focal_lon\n",
    "    east  = ~west\n",
    "    X     = color_df_reduced[['lch_l','lch_c','lch_h']].to_numpy().astype(float)\n",
    "    \n",
    "    # overall mean from full data... three vals\n",
    "    mu = X.mean(axis=0)\n",
    "\n",
    "    # total sum of squares (dist of all observations from mean, squared)\n",
    "    SST = np.sum((X - mu)**2)\n",
    "    \n",
    "    # mean of each region.. three vals each\n",
    "    mu_w = X[west].mean(axis=0)\n",
    "    mu_e = X[east].mean(axis=0)\n",
    "\n",
    "    # between-group sum of squares....\n",
    "    \n",
    "    # count number of points in each region\n",
    "    n_w = west.sum()\n",
    "    n_e = east.sum()\n",
    "\n",
    "    ssb_w = n_w * np.sum((mu_w - mu)**2)\n",
    "    ssb_e = n_e * np.sum((mu_e - mu)**2)\n",
    "    SSB    = ssb_w + ssb_e # overall between\n",
    "    # SSB here gives us how far each group mean is from the overall mean\n",
    "    # and multiplying weights by group size\n",
    "\n",
    "    # proportion of variance explained by ssb, this is eta-squared\n",
    "    R2 = SSB / SST\n",
    "    \n",
    "    r2s.append(R2)\n",
    "    lons.append(focal_lon)\n",
    "    # print out both\n",
    "    #print(f\"R^2 = {R2:.3f}, Lon = {focal_lon: .3f}\")"
   ]
  },
  {
   "cell_type": "code",
   "execution_count": 19,
   "id": "b658a374-700e-410c-b54b-53d9b0b9d9e1",
   "metadata": {},
   "outputs": [
    {
     "data": {
      "text/plain": [
       "np.float64(-97.04880804013379)"
      ]
     },
     "execution_count": 19,
     "metadata": {},
     "output_type": "execute_result"
    }
   ],
   "source": [
    "best_lon = lons[np.argmax(r2s)]\n",
    "best_lon"
   ]
  },
  {
   "cell_type": "code",
   "execution_count": 20,
   "id": "459ebd85-1f2e-4ef7-bacc-a181d0594a17",
   "metadata": {},
   "outputs": [
    {
     "data": {
      "image/png": "[encoded data removed]",
      "text/plain": [
       "<Figure size 432x288 with 1 Axes>"
      ]
     },
     "metadata": {
      "needs_background": "light"
     },
     "output_type": "display_data"
    }
   ],
   "source": [
    "plt.plot(lons, r2s, marker='o', ms=3,c='black')\n",
    "plt.axvline(best_lon, ls='--', lw=1, color='k')\n",
    "plt.xlabel('tested longitude')\n",
    "plt.ylabel('R^2')\n",
    "plt.tight_layout()\n",
    "plt.show()"
   ]
  },
  {
   "cell_type": "markdown",
   "id": "ef8485c5-dc99-45da-a366-af0e4c10c207",
   "metadata": {},
   "source": [
    "# More of a peak here. I'll filter outliers just in case:"
   ]
  },
  {
   "cell_type": "code",
   "execution_count": 21,
   "id": "f8ed54b6-37e2-460d-ab50-1624daa24d96",
   "metadata": {},
   "outputs": [],
   "source": [
    "color_df_reduced_filter = color_df_reduced[color_df_reduced.lch_h > 250]"
   ]
  },
  {
   "cell_type": "code",
   "execution_count": 22,
   "id": "a1abdd10-0754-4fc7-99a0-fe0c8d8e5000",
   "metadata": {},
   "outputs": [],
   "source": [
    "r2s = []\n",
    "lons = []\n",
    "for focal_lon in np.linspace(color_df_reduced_filter.longitude.min()+1, color_df_reduced_filter.longitude.max()-1,300):\n",
    "    west  = color_df_reduced_filter.longitude < focal_lon\n",
    "    east  = ~west\n",
    "    X     = color_df_reduced_filter[['lch_l','lch_c','lch_h']].to_numpy().astype(float)\n",
    "    \n",
    "    # overall mean from full data... three vals\n",
    "    mu = X.mean(axis=0)\n",
    "\n",
    "    # total sum of squares (dist of all observations from mean, squared)\n",
    "    SST = np.sum((X - mu)**2)\n",
    "    \n",
    "    # mean of each region.. three vals each\n",
    "    mu_w = X[west].mean(axis=0)\n",
    "    mu_e = X[east].mean(axis=0)\n",
    "\n",
    "    # between-group sum of squares....\n",
    "    \n",
    "    # count number of points in each region\n",
    "    n_w = west.sum()\n",
    "    n_e = east.sum()\n",
    "\n",
    "    ssb_w = n_w * np.sum((mu_w - mu)**2)\n",
    "    ssb_e = n_e * np.sum((mu_e - mu)**2)\n",
    "    SSB    = ssb_w + ssb_e\n",
    "    # SSB here gives us how far each group mean is from the overall mean\n",
    "    # and multiplying weights by group size\n",
    "\n",
    "    # proportion of variance explained by ssb\n",
    "    R2 = SSB / SST\n",
    "    \n",
    "    r2s.append(R2)\n",
    "    lons.append(focal_lon)\n",
    "    # print out both\n",
    "    #print(f\"R^2 = {R2:.3f}, Lon = {focal_lon: .3f}\")"
   ]
  },
  {
   "cell_type": "code",
   "execution_count": 23,
   "id": "e33ee7d2-6322-4dd4-b83a-b98b89da556b",
   "metadata": {},
   "outputs": [
    {
     "data": {
      "text/plain": [
       "np.float64(-97.76996029096992)"
      ]
     },
     "execution_count": 23,
     "metadata": {},
     "output_type": "execute_result"
    }
   ],
   "source": [
    "best_lon = lons[np.argmax(r2s)]\n",
    "best_lon"
   ]
  },
  {
   "cell_type": "code",
   "execution_count": 24,
   "id": "664ec401-836f-4917-aa21-33c5e8abd2f7",
   "metadata": {},
   "outputs": [
    {
     "data": {
      "image/png": "[encoded data removed]",
      "text/plain": [
       "<Figure size 432x288 with 1 Axes>"
      ]
     },
     "metadata": {
      "needs_background": "light"
     },
     "output_type": "display_data"
    }
   ],
   "source": [
    "plt.plot(lons, r2s, marker='o', ms=3,c='black')\n",
    "plt.axvline(best_lon, ls='--', lw=1, color='k')\n",
    "plt.xlabel('tested longitude')\n",
    "plt.ylabel('R^2')\n",
    "plt.tight_layout()\n",
    "plt.show()"
   ]
  },
  {
   "cell_type": "markdown",
   "id": "649318e3-62dd-42cd-bfe8-7250ba4dd543",
   "metadata": {},
   "source": [
    "# What does this look like if we scramble colors between regions? ...making sure we're picking up on actual signal..."
   ]
  },
  {
   "cell_type": "code",
   "execution_count": 25,
   "id": "ec31f3a6-ea6e-4127-8229-bdf80c7876f4",
   "metadata": {},
   "outputs": [],
   "source": [
    "scramble_df = color_df_reduced_filter.copy()"
   ]
  },
  {
   "cell_type": "code",
   "execution_count": 26,
   "id": "3c57996c-f844-43f3-ad40-8cac185dd9aa",
   "metadata": {},
   "outputs": [],
   "source": [
    "lch_sub = scramble_df[['L','a','b']]"
   ]
  },
  {
   "cell_type": "code",
   "execution_count": 27,
   "id": "47b4a3d5-1a96-4813-a4a7-d2af5aa5e5c0",
   "metadata": {},
   "outputs": [],
   "source": [
    "scramble_sub = lch_sub.sample(len(lch_sub)).to_numpy()"
   ]
  },
  {
   "cell_type": "code",
   "execution_count": 28,
   "id": "a34f6468-21ac-4ffe-beec-304ec5146064",
   "metadata": {},
   "outputs": [],
   "source": [
    "scramble_df[['L','a','b']] = scramble_sub"
   ]
  },
  {
   "cell_type": "code",
   "execution_count": 29,
   "id": "78a5c045-5830-4f34-9a35-73acb948b8d6",
   "metadata": {},
   "outputs": [],
   "source": [
    "r2s = []\n",
    "lons = []\n",
    "for focal_lon in np.linspace(scramble_df.longitude.min()+1, scramble_df.longitude.max()-1,300):\n",
    "    west  = scramble_df.longitude < focal_lon\n",
    "    east  = ~west\n",
    "    X     = scramble_df[['L','a','b']].to_numpy().astype(float)\n",
    "    \n",
    "    # overall mean from full data... three vals\n",
    "    mu = X.mean(axis=0)\n",
    "\n",
    "    # total sum of squares (dist of all observations from mean, squared)\n",
    "    SST = np.sum((X - mu)**2)\n",
    "    \n",
    "    # mean of each region.. three vals each\n",
    "    mu_w = X[west].mean(axis=0)\n",
    "    mu_e = X[east].mean(axis=0)\n",
    "\n",
    "    # between-group sum of squares....\n",
    "    \n",
    "    # count number of points in each region\n",
    "    n_w = west.sum()\n",
    "    n_e = east.sum()\n",
    "\n",
    "    ssb_w = n_w * np.sum((mu_w - mu)**2)\n",
    "    ssb_e = n_e * np.sum((mu_e - mu)**2)\n",
    "    SSB    = ssb_w + ssb_e\n",
    "    # SSB here gives us how far each group mean is from the overall mean\n",
    "    # and multiplying weights by group size\n",
    "\n",
    "    # proportion of variance explained by ssb\n",
    "    R2 = SSB / SST\n",
    "    \n",
    "    r2s.append(R2)\n",
    "    lons.append(focal_lon)\n",
    "    # print out both\n",
    "    #print(f\"R^2 = {R2:.3f}, Lon = {focal_lon: .3f}\")"
   ]
  },
  {
   "cell_type": "code",
   "execution_count": 30,
   "id": "2a6bb660-ec51-45a7-844c-85473c4dc807",
   "metadata": {},
   "outputs": [
    {
     "data": {
      "text/plain": [
       "np.float64(-63.63542041806021)"
      ]
     },
     "execution_count": 30,
     "metadata": {},
     "output_type": "execute_result"
    }
   ],
   "source": [
    "best_lon = lons[np.argmax(r2s)]\n",
    "best_lon"
   ]
  },
  {
   "cell_type": "code",
   "execution_count": 31,
   "id": "12f9a230-c036-4eac-8832-9390263c5c34",
   "metadata": {},
   "outputs": [
    {
     "data": {
      "image/png": "[encoded data removed]",
      "text/plain": [
       "<Figure size 432x288 with 1 Axes>"
      ]
     },
     "metadata": {
      "needs_background": "light"
     },
     "output_type": "display_data"
    }
   ],
   "source": [
    "plt.plot(lons, r2s, marker='o', ms=3,c='black')\n",
    "plt.axvline(best_lon, ls='--', lw=1, color='k')\n",
    "plt.xlabel('tested longitude')\n",
    "plt.ylabel('R^2')\n",
    "plt.tight_layout()\n",
    "plt.show()"
   ]
  },
  {
   "cell_type": "code",
   "execution_count": null,
   "id": "ab44340f-3904-4b7a-bfe5-cfd959656617",
   "metadata": {},
   "outputs": [],
   "source": []
  }
 ],
 "metadata": {
  "kernelspec": {
   "display_name": "Python 3 (ipykernel)",
   "language": "python",
   "name": "python3"
  },
  "language_info": {
   "codemirror_mode": {
    "name": "ipython",
    "version": 3
   },
   "file_extension": ".py",
   "mimetype": "text/x-python",
   "name": "python",
   "nbconvert_exporter": "python",
   "pygments_lexer": "ipython3",
   "version": "3.10.17"
  }
 },
 "nbformat": 4,
 "nbformat_minor": 5
}
