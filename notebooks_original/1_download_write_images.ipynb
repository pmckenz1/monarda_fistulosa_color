{
 "cells": [
  {
   "cell_type": "markdown",
   "id": "924a553f-ee8e-4602-a7e2-f3dc5862752c",
   "metadata": {},
   "source": [
    "# Download the images to be analyzed."
   ]
  },
  {
   "cell_type": "markdown",
   "id": "1b03ab5b-196d-4af9-afb6-ffadfd90b0d6",
   "metadata": {},
   "source": [
    "### Imports"
   ]
  },
  {
   "cell_type": "code",
   "execution_count": 1,
   "id": "b266024f-045e-48d6-ae12-28342ad2895b",
   "metadata": {},
   "outputs": [],
   "source": [
    "import pandas as pd\n",
    "import numpy as np\n",
    "import os\n",
    "import requests\n",
    "import time"
   ]
  },
  {
   "cell_type": "markdown",
   "id": "837a0e5e-ed82-490c-892e-5922c882a4bf",
   "metadata": {},
   "source": [
    "### Read in GBIF export table"
   ]
  },
  {
   "cell_type": "code",
   "execution_count": 2,
   "id": "ba0e6282-41a7-40b4-8232-fbb6f092ca04",
   "metadata": {},
   "outputs": [],
   "source": [
    "table = pd.read_table('./raw_data/0002206-250218110819086/multimedia.txt',sep='\\t')"
   ]
  },
  {
   "cell_type": "markdown",
   "id": "932d2322-dd84-4a7e-9898-067a4e80bc74",
   "metadata": {},
   "source": [
    "### Show the first couple rows"
   ]
  },
  {
   "cell_type": "code",
   "execution_count": 3,
   "id": "d8b0fa3b-95e0-4280-b9fe-0844f340a1a3",
   "metadata": {},
   "outputs": [
    {
     "data": {
      "text/html": [
       "<div>\n",
       "<style scoped>\n",
       "    .dataframe tbody tr th:only-of-type {\n",
       "        vertical-align: middle;\n",
       "    }\n",
       "\n",
       "    .dataframe tbody tr th {\n",
       "        vertical-align: top;\n",
       "    }\n",
       "\n",
       "    .dataframe thead th {\n",
       "        text-align: right;\n",
       "    }\n",
       "</style>\n",
       "<table border=\"1\" class=\"dataframe\">\n",
       "  <thead>\n",
       "    <tr style=\"text-align: right;\">\n",
       "      <th></th>\n",
       "      <th>gbifID</th>\n",
       "      <th>type</th>\n",
       "      <th>format</th>\n",
       "      <th>identifier</th>\n",
       "      <th>references</th>\n",
       "      <th>title</th>\n",
       "      <th>description</th>\n",
       "      <th>source</th>\n",
       "      <th>audience</th>\n",
       "      <th>created</th>\n",
       "      <th>creator</th>\n",
       "      <th>contributor</th>\n",
       "      <th>publisher</th>\n",
       "      <th>license</th>\n",
       "      <th>rightsHolder</th>\n",
       "    </tr>\n",
       "  </thead>\n",
       "  <tbody>\n",
       "    <tr>\n",
       "      <th>0</th>\n",
       "      <td>923911394</td>\n",
       "      <td>StillImage</td>\n",
       "      <td>image/jpeg</td>\n",
       "      <td>https://inaturalist-open-data.s3.amazonaws.com...</td>\n",
       "      <td>https://www.inaturalist.org/photos/643856</td>\n",
       "      <td>NaN</td>\n",
       "      <td>NaN</td>\n",
       "      <td>NaN</td>\n",
       "      <td>NaN</td>\n",
       "      <td>2014-01-20T15:34:44Z</td>\n",
       "      <td>Susan Elliott</td>\n",
       "      <td>NaN</td>\n",
       "      <td>iNaturalist</td>\n",
       "      <td>http://creativecommons.org/licenses/by-nc/4.0/</td>\n",
       "      <td>Susan Elliott</td>\n",
       "    </tr>\n",
       "    <tr>\n",
       "      <th>1</th>\n",
       "      <td>923910407</td>\n",
       "      <td>StillImage</td>\n",
       "      <td>image/jpeg</td>\n",
       "      <td>https://inaturalist-open-data.s3.amazonaws.com...</td>\n",
       "      <td>https://www.inaturalist.org/photos/479985</td>\n",
       "      <td>NaN</td>\n",
       "      <td>NaN</td>\n",
       "      <td>NaN</td>\n",
       "      <td>NaN</td>\n",
       "      <td>2013-08-31T14:37:44Z</td>\n",
       "      <td>Susan Elliott</td>\n",
       "      <td>NaN</td>\n",
       "      <td>iNaturalist</td>\n",
       "      <td>http://creativecommons.org/licenses/by-nc/4.0/</td>\n",
       "      <td>Susan Elliott</td>\n",
       "    </tr>\n",
       "    <tr>\n",
       "      <th>2</th>\n",
       "      <td>923910407</td>\n",
       "      <td>StillImage</td>\n",
       "      <td>image/jpeg</td>\n",
       "      <td>https://inaturalist-open-data.s3.amazonaws.com...</td>\n",
       "      <td>https://www.inaturalist.org/photos/479981</td>\n",
       "      <td>NaN</td>\n",
       "      <td>NaN</td>\n",
       "      <td>NaN</td>\n",
       "      <td>NaN</td>\n",
       "      <td>2013-08-31T14:55:07Z</td>\n",
       "      <td>Susan Elliott</td>\n",
       "      <td>NaN</td>\n",
       "      <td>iNaturalist</td>\n",
       "      <td>http://creativecommons.org/licenses/by-nc/4.0/</td>\n",
       "      <td>Susan Elliott</td>\n",
       "    </tr>\n",
       "    <tr>\n",
       "      <th>3</th>\n",
       "      <td>911492230</td>\n",
       "      <td>StillImage</td>\n",
       "      <td>image/jpeg</td>\n",
       "      <td>https://inaturalist-open-data.s3.amazonaws.com...</td>\n",
       "      <td>https://www.inaturalist.org/photos/763481</td>\n",
       "      <td>NaN</td>\n",
       "      <td>NaN</td>\n",
       "      <td>NaN</td>\n",
       "      <td>NaN</td>\n",
       "      <td>2009-07-23T13:57:54Z</td>\n",
       "      <td>Matthew O'Donnell</td>\n",
       "      <td>NaN</td>\n",
       "      <td>iNaturalist</td>\n",
       "      <td>http://creativecommons.org/licenses/by-nc-sa/4.0/</td>\n",
       "      <td>Matthew O'Donnell</td>\n",
       "    </tr>\n",
       "    <tr>\n",
       "      <th>4</th>\n",
       "      <td>899970365</td>\n",
       "      <td>StillImage</td>\n",
       "      <td>image/jpeg</td>\n",
       "      <td>https://inaturalist-open-data.s3.amazonaws.com...</td>\n",
       "      <td>https://www.inaturalist.org/photos/793926</td>\n",
       "      <td>NaN</td>\n",
       "      <td>NaN</td>\n",
       "      <td>NaN</td>\n",
       "      <td>NaN</td>\n",
       "      <td>2013-07-16T21:00:34Z</td>\n",
       "      <td>Matt Flower</td>\n",
       "      <td>NaN</td>\n",
       "      <td>iNaturalist</td>\n",
       "      <td>http://creativecommons.org/licenses/by-nc/4.0/</td>\n",
       "      <td>Matt Flower</td>\n",
       "    </tr>\n",
       "  </tbody>\n",
       "</table>\n",
       "</div>"
      ],
      "text/plain": [
       "      gbifID        type      format  \\\n",
       "0  923911394  StillImage  image/jpeg   \n",
       "1  923910407  StillImage  image/jpeg   \n",
       "2  923910407  StillImage  image/jpeg   \n",
       "3  911492230  StillImage  image/jpeg   \n",
       "4  899970365  StillImage  image/jpeg   \n",
       "\n",
       "                                          identifier  \\\n",
       "0  https://inaturalist-open-data.s3.amazonaws.com...   \n",
       "1  https://inaturalist-open-data.s3.amazonaws.com...   \n",
       "2  https://inaturalist-open-data.s3.amazonaws.com...   \n",
       "3  https://inaturalist-open-data.s3.amazonaws.com...   \n",
       "4  https://inaturalist-open-data.s3.amazonaws.com...   \n",
       "\n",
       "                                  references  title  description  source  \\\n",
       "0  https://www.inaturalist.org/photos/643856    NaN          NaN     NaN   \n",
       "1  https://www.inaturalist.org/photos/479985    NaN          NaN     NaN   \n",
       "2  https://www.inaturalist.org/photos/479981    NaN          NaN     NaN   \n",
       "3  https://www.inaturalist.org/photos/763481    NaN          NaN     NaN   \n",
       "4  https://www.inaturalist.org/photos/793926    NaN          NaN     NaN   \n",
       "\n",
       "   audience               created            creator  contributor  \\\n",
       "0       NaN  2014-01-20T15:34:44Z      Susan Elliott          NaN   \n",
       "1       NaN  2013-08-31T14:37:44Z      Susan Elliott          NaN   \n",
       "2       NaN  2013-08-31T14:55:07Z      Susan Elliott          NaN   \n",
       "3       NaN  2009-07-23T13:57:54Z  Matthew O'Donnell          NaN   \n",
       "4       NaN  2013-07-16T21:00:34Z        Matt Flower          NaN   \n",
       "\n",
       "     publisher                                            license  \\\n",
       "0  iNaturalist     http://creativecommons.org/licenses/by-nc/4.0/   \n",
       "1  iNaturalist     http://creativecommons.org/licenses/by-nc/4.0/   \n",
       "2  iNaturalist     http://creativecommons.org/licenses/by-nc/4.0/   \n",
       "3  iNaturalist  http://creativecommons.org/licenses/by-nc-sa/4.0/   \n",
       "4  iNaturalist     http://creativecommons.org/licenses/by-nc/4.0/   \n",
       "\n",
       "        rightsHolder  \n",
       "0      Susan Elliott  \n",
       "1      Susan Elliott  \n",
       "2      Susan Elliott  \n",
       "3  Matthew O'Donnell  \n",
       "4        Matt Flower  "
      ]
     },
     "execution_count": 3,
     "metadata": {},
     "output_type": "execute_result"
    }
   ],
   "source": [
    "table[:5]"
   ]
  },
  {
   "cell_type": "code",
   "execution_count": 4,
   "id": "0c1b4899-4f4c-447a-9b86-e3209fc7e08e",
   "metadata": {},
   "outputs": [
    {
     "data": {
      "text/plain": [
       "41069"
      ]
     },
     "execution_count": 4,
     "metadata": {},
     "output_type": "execute_result"
    }
   ],
   "source": [
    "len(table)"
   ]
  },
  {
   "cell_type": "markdown",
   "id": "45bad496-c8d2-4b6c-a9c7-f246ba263416",
   "metadata": {},
   "source": [
    "### Download the images"
   ]
  },
  {
   "cell_type": "code",
   "execution_count": 5,
   "id": "0e12922b-6aaf-47f2-839b-262d3db913b2",
   "metadata": {},
   "outputs": [],
   "source": [
    "# dataset and filepath to log any failed downloads\n",
    "output_dir = \"/Volumes/My Passport/monarda_fistulosa_segmentation/image_dataset/images\"\n",
    "failed_log = \"/Volumes/My Passport/monarda_fistulosa_segmentation/image_dataset/failed_download_urls.txt\"\n",
    "\n",
    "# make output dir if doesn't exist\n",
    "os.makedirs(output_dir, exist_ok=True)\n",
    "\n",
    "# clear any existing failed log file before starting\n",
    "with open(failed_log, \"w\") as f:\n",
    "    pass"
   ]
  },
  {
   "cell_type": "code",
   "execution_count": null,
   "id": "761f3c66-32e3-4191-868c-4a2b067af8f2",
   "metadata": {},
   "outputs": [],
   "source": [
    "# loop through urls, download each image\n",
    "for idx, url in enumerate(table.identifier):\n",
    "    try:\n",
    "        # request with a timeout\n",
    "        response = requests.get(url, stream=True, timeout=10)\n",
    "        response.raise_for_status()  # Check for HTTP errors\n",
    "\n",
    "        # filename using the df's index value\n",
    "        filename = f\"{table.index[idx]}.jpg\"\n",
    "        file_path = os.path.join(output_dir, filename)\n",
    "\n",
    "        # write the image to a file in chunks\n",
    "        with open(file_path, \"wb\") as f:\n",
    "            for chunk in response.iter_content(chunk_size=8192):\n",
    "                if chunk:  # filter out keep-alive chunks\n",
    "                    f.write(chunk)\n",
    "        \n",
    "        # space out requests to be nice\n",
    "        time.sleep(0.2)\n",
    "    \n",
    "    except requests.exceptions.RequestException as e:\n",
    "        error_message = f\"Failed to download {url}. Error: {e}\\n\"\n",
    "        print(error_message)\n",
    "        # add failed url and error message to the log file immediately\n",
    "        with open(failed_log, \"a\") as f:\n",
    "            f.write(url + \"\\n\")"
   ]
  },
  {
   "cell_type": "markdown",
   "id": "47f61199-ba1e-4797-b443-717aa282fe49",
   "metadata": {},
   "source": [
    "### redo any failed downloads (can happen if momentary disconnection, etc)"
   ]
  },
  {
   "cell_type": "code",
   "execution_count": 7,
   "id": "b8aded28-dab9-4943-927a-2ca9eca96630",
   "metadata": {},
   "outputs": [],
   "source": [
    "# dir for dataset and filepath for logging failed downloads\n",
    "output_dir = \"/Volumes/My Passport/monarda_fistulosa_segmentation/image_dataset/images\"\n",
    "failed_log = \"/Volumes/My Passport/monarda_fistulosa_segmentation/image_dataset/failed_download_urls.txt\""
   ]
  },
  {
   "cell_type": "code",
   "execution_count": 8,
   "id": "42b15fd7-a41d-4a3a-8496-dda5cc9d2be5",
   "metadata": {},
   "outputs": [],
   "source": [
    "with open(failed_log,'r') as f:\n",
    "    failed = f.read().split()"
   ]
  },
  {
   "cell_type": "code",
   "execution_count": 10,
   "id": "fa3d28b7-e066-4fae-9a46-db19ee914c77",
   "metadata": {},
   "outputs": [
    {
     "data": {
      "text/plain": [
       "2610"
      ]
     },
     "execution_count": 10,
     "metadata": {},
     "output_type": "execute_result"
    }
   ],
   "source": [
    "len(failed)"
   ]
  },
  {
   "cell_type": "code",
   "execution_count": 14,
   "id": "e3a0464c-9374-4b42-9caf-37ff8d6c6353",
   "metadata": {},
   "outputs": [],
   "source": [
    "failed_idxs = [table[table.identifier.eq(i)].index[0] for i in failed]"
   ]
  },
  {
   "cell_type": "code",
   "execution_count": 16,
   "id": "0c032139-d166-49fb-a62d-238d35d2015d",
   "metadata": {},
   "outputs": [],
   "source": [
    "# loop through urls, download each image\n",
    "for idx in failed_idxs:\n",
    "    url = table.identifier[idx]\n",
    "    try:\n",
    "        # request with a timeout\n",
    "        response = requests.get(url, stream=True, timeout=10)\n",
    "        response.raise_for_status()  # Check for HTTP errors\n",
    "\n",
    "        # filename using the df's index value\n",
    "        filename = f\"{table.index[idx]}.jpg\"\n",
    "        file_path = os.path.join(output_dir, filename)\n",
    "\n",
    "        # write the image to a file in chunks\n",
    "        with open(file_path, \"wb\") as f:\n",
    "            for chunk in response.iter_content(chunk_size=8192):\n",
    "                if chunk:  # filter out keep-alive chunks\n",
    "                    f.write(chunk)\n",
    "        \n",
    "        # space out requests to be nice\n",
    "        time.sleep(0.1)\n",
    "    \n",
    "    except requests.exceptions.RequestException as e:\n",
    "        error_message = f\"Failed to download {url}. Error: {e}\\n\"\n",
    "        print(error_message)\n",
    "        # add failed url and error message to the log file immediately\n",
    "        with open(failed_log, \"a\") as f:\n",
    "            f.write(url + \"\\n\")"
   ]
  },
  {
   "cell_type": "markdown",
   "id": "3a6ef884-0e7a-48e1-8aa6-4259efb6886f",
   "metadata": {},
   "source": [
    "# Make sure they all downloaded"
   ]
  },
  {
   "cell_type": "code",
   "execution_count": 43,
   "id": "0bc485ad-75e6-49ba-9ff4-e4f9a0c725bf",
   "metadata": {},
   "outputs": [],
   "source": [
    "files = os.listdir('/Volumes/My Passport/monarda_fistulosa_segmentation/image_dataset/images')"
   ]
  },
  {
   "cell_type": "code",
   "execution_count": 56,
   "id": "b2818276-41c8-41e8-921c-a214abf745cc",
   "metadata": {},
   "outputs": [],
   "source": [
    "nums = np.sort([int(i.split('.')[0]) for i in files])"
   ]
  },
  {
   "cell_type": "code",
   "execution_count": 58,
   "id": "ea95146f-bfc1-49d5-99e1-eb06a4fa1372",
   "metadata": {},
   "outputs": [
    {
     "data": {
      "text/plain": [
       "True"
      ]
     },
     "execution_count": 58,
     "metadata": {},
     "output_type": "execute_result"
    }
   ],
   "source": [
    "np.alltrue(nums == np.array(range(41069)))"
   ]
  }
 ],
 "metadata": {
  "kernelspec": {
   "display_name": "Python 3 (ipykernel)",
   "language": "python",
   "name": "python3"
  },
  "language_info": {
   "codemirror_mode": {
    "name": "ipython",
    "version": 3
   },
   "file_extension": ".py",
   "mimetype": "text/x-python",
   "name": "python",
   "nbconvert_exporter": "python",
   "pygments_lexer": "ipython3",
   "version": "3.10.5"
  }
 },
 "nbformat": 4,
 "nbformat_minor": 5
}
